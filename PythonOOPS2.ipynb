{
 "cells": [
  {
   "cell_type": "markdown",
   "id": "87cc2b30",
   "metadata": {},
   "source": [
    "# Q1"
   ]
  },
  {
   "cell_type": "code",
   "execution_count": 9,
   "id": "85ce7e5b",
   "metadata": {},
   "outputs": [
    {
     "name": "stdout",
     "output_type": "stream",
     "text": [
      "Vehicle : Honda\n",
      "Speed : 200\n",
      "Avg : 25\n",
      "Vehicle : Tata\n",
      "Speed : 100\n",
      "Avg : 50\n"
     ]
    }
   ],
   "source": [
    "class vehicle:\n",
    "    def __init__(self,make,speed,avg):\n",
    "        self.name_of_vehicle=make\n",
    "        self.max_speed=speed\n",
    "        self.average_of_vehicle=avg\n",
    "car=vehicle('Honda',200,25)\n",
    "print(f\"Vehicle : {car.name_of_vehicle}\")\n",
    "print(f\"Speed : {car.max_speed}\")\n",
    "print(f\"Avg : {car.average_of_vehicle}\")\n",
    "\n",
    "bus=vehicle('Tata',100,50)\n",
    "print(f\"Vehicle : {bus.name_of_vehicle}\")\n",
    "print(f\"Speed : {bus.max_speed}\")\n",
    "print(f\"Avg : {bus.average_of_vehicle}\")"
   ]
  },
  {
   "cell_type": "markdown",
   "id": "06998fd6",
   "metadata": {},
   "source": [
    "# Q2"
   ]
  },
  {
   "cell_type": "code",
   "execution_count": 8,
   "id": "1bd52075",
   "metadata": {},
   "outputs": [
    {
     "name": "stdout",
     "output_type": "stream",
     "text": [
      "Vehicle : BMW\n",
      "Capacity : 5\n"
     ]
    }
   ],
   "source": [
    "class Car(vehicle):\n",
    "    def seating_capacity(self,n):\n",
    "        self.capacity=n\n",
    "        print(f\"Vehicle : {self.name_of_vehicle}\")\n",
    "        print(f\"Capacity : {self.capacity}\")\n",
    "mycar=Car('BMW',200,25)\n",
    "mycar.seating_capacity(5)"
   ]
  },
  {
   "cell_type": "markdown",
   "id": "185d5756",
   "metadata": {},
   "source": [
    "# Q3"
   ]
  },
  {
   "cell_type": "code",
   "execution_count": 14,
   "id": "1e932767",
   "metadata": {},
   "outputs": [
    {
     "name": "stdout",
     "output_type": "stream",
     "text": [
      "meth1, Grandparent\n",
      "meth2, parent\n",
      "meth3, child\n"
     ]
    }
   ],
   "source": [
    "# In multiple inheritance, a subclass can inherit from multiple superclasses.\n",
    "\n",
    "class Parent1:\n",
    "    def method1(self):\n",
    "        print('meth1, Grandparent')\n",
    "\n",
    "class Parent2:\n",
    "    def method2(self):\n",
    "        print('meth2, parent')\n",
    "\n",
    "class Child(Parent1, Parent2):\n",
    "    def method3(self):\n",
    "        print('meth3, child')\n",
    "\n",
    "child = Child()\n",
    "child.method1()\n",
    "child.method2()\n",
    "child.method3()"
   ]
  },
  {
   "cell_type": "markdown",
   "id": "7677bc50",
   "metadata": {},
   "source": [
    "# Q4"
   ]
  },
  {
   "cell_type": "markdown",
   "id": "6f5235ee",
   "metadata": {},
   "source": [
    "Getter and setter methods, also known as accessor and mutator methods, are a common programming technique used to control access to the attributes (fields or properties) of a class in object-oriented programming. They provide a level of encapsulation by allowing you to get (retrieve) and set (modify) the values of an object's attributes in a controlled and consistent manner. Getter methods are used to access attribute values, while setter methods are used to modify them."
   ]
  },
  {
   "cell_type": "code",
   "execution_count": 17,
   "id": "975e6168",
   "metadata": {},
   "outputs": [
    {
     "data": {
      "text/plain": [
       "11"
      ]
     },
     "execution_count": 17,
     "metadata": {},
     "output_type": "execute_result"
    }
   ],
   "source": [
    "class person:\n",
    "    def __init__(self,n):\n",
    "        self.__age=n\n",
    "    @property\n",
    "    def get_age(self):\n",
    "        return self.__age\n",
    "    @get_age.setter\n",
    "    def set_age(self,x):\n",
    "        self.__age=x\n",
    "\n",
    "me=person(11)"
   ]
  },
  {
   "cell_type": "code",
   "execution_count": 18,
   "id": "659b49e1",
   "metadata": {},
   "outputs": [
    {
     "data": {
      "text/plain": [
       "11"
      ]
     },
     "execution_count": 18,
     "metadata": {},
     "output_type": "execute_result"
    }
   ],
   "source": [
    "me.get_age"
   ]
  },
  {
   "cell_type": "code",
   "execution_count": 21,
   "id": "3e72a289",
   "metadata": {},
   "outputs": [
    {
     "data": {
      "text/plain": [
       "22"
      ]
     },
     "execution_count": 21,
     "metadata": {},
     "output_type": "execute_result"
    }
   ],
   "source": [
    "me.set_age=22\n",
    "me.get_age"
   ]
  },
  {
   "cell_type": "markdown",
   "id": "94003689",
   "metadata": {},
   "source": [
    "# Q5"
   ]
  },
  {
   "cell_type": "code",
   "execution_count": 24,
   "id": "07a5acd9",
   "metadata": {},
   "outputs": [
    {
     "name": "stdout",
     "output_type": "stream",
     "text": [
      "in func2\n"
     ]
    }
   ],
   "source": [
    "class func1:\n",
    "    def show(self):\n",
    "        print(\"in func1\")\n",
    "class func2(func1):\n",
    "    def show(self):\n",
    "        print(\"in func2\")\n",
    "\n",
    "obj=func2()\n",
    "obj.show()"
   ]
  }
 ],
 "metadata": {
  "kernelspec": {
   "display_name": "Python 3 (ipykernel)",
   "language": "python",
   "name": "python3"
  },
  "language_info": {
   "codemirror_mode": {
    "name": "ipython",
    "version": 3
   },
   "file_extension": ".py",
   "mimetype": "text/x-python",
   "name": "python",
   "nbconvert_exporter": "python",
   "pygments_lexer": "ipython3",
   "version": "3.11.4"
  }
 },
 "nbformat": 4,
 "nbformat_minor": 5
}
