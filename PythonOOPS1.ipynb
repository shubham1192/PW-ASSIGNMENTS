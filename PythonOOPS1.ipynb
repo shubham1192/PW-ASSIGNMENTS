{
 "cells": [
  {
   "cell_type": "markdown",
   "id": "efd585fd",
   "metadata": {},
   "source": [
    "# Q1"
   ]
  },
  {
   "cell_type": "markdown",
   "id": "9e0b5ef9",
   "metadata": {},
   "source": [
    "In object-oriented programming (OOP), a class is a blueprint or template for creating objects, and an object is an instance of a class. OOP is a programming paradigm that organizes code into objects, each of which encapsulates data (attributes) and behaviors (methods) related to a specific concept or entity. Python is an object-oriented programming language that fully supports OOP principles.\n",
    "\n",
    "Class: A class is a user-defined data type that defines a blueprint for creating objects. It defines the attributes (data members) and methods (functions) that objects of the class will have.\n",
    "\n",
    "Object: An object is an instance of a class. It is a concrete entity that is created based on the class definition. Objects have their own unique attributes and can perform actions defined by the class's methods."
   ]
  },
  {
   "cell_type": "code",
   "execution_count": 1,
   "id": "626aaee8",
   "metadata": {},
   "outputs": [
    {
     "name": "stdout",
     "output_type": "stream",
     "text": [
      "Make: Toyota\n",
      "Model: Camry\n",
      "Year: 2022\n",
      "The 2022 Toyota Camry is now running.\n",
      "The 2022 Toyota Camry has stopped.\n"
     ]
    }
   ],
   "source": [
    "# Define a class named \"Car\"\n",
    "class Car:\n",
    "    # The \"__init__\" method is a special method called a constructor.\n",
    "    # It is used to initialize the object's attributes when an object is created.\n",
    "    def __init__(self, make, model, year):\n",
    "        self.make = make\n",
    "        self.model = model\n",
    "        self.year = year\n",
    "        self.is_running = False  # A default attribute for the car's running state\n",
    "\n",
    "    # Define a method to start the car\n",
    "    def start(self):\n",
    "        self.is_running = True\n",
    "        print(f\"The {self.year} {self.make} {self.model} is now running.\")\n",
    "\n",
    "    # Define a method to stop the car\n",
    "    def stop(self):\n",
    "        self.is_running = False\n",
    "        print(f\"The {self.year} {self.make} {self.model} has stopped.\")\n",
    "\n",
    "# Create an object (instance) of the \"Car\" class\n",
    "my_car = Car(\"Toyota\", \"Camry\", 2022)\n",
    "\n",
    "# Access and print attributes of the object\n",
    "print(f\"Make: {my_car.make}\")\n",
    "print(f\"Model: {my_car.model}\")\n",
    "print(f\"Year: {my_car.year}\")\n",
    "\n",
    "# Call methods on the object\n",
    "my_car.start()  # Starts the car\n",
    "my_car.stop()   # Stops the car\n"
   ]
  },
  {
   "cell_type": "markdown",
   "id": "b2701d7e",
   "metadata": {},
   "source": [
    "# Q2"
   ]
  },
  {
   "cell_type": "markdown",
   "id": "b8586ae2",
   "metadata": {},
   "source": [
    "The four pillars of object-oriented programming (OOP) are fundamental principles that guide the design and implementation of object-oriented systems. These principles help in creating code that is more organized, maintainable, and reusable. The four pillars of OOP are:\n",
    "\n",
    "1. **Encapsulation**:\n",
    "   - Encapsulation is the principle of bundling data (attributes) and the methods (functions) that operate on that data into a single unit known as a class.\n",
    "   - It restricts direct access to some of the object's components and prevents the accidental modification of data, ensuring that the internal state of an object remains consistent.\n",
    "   - Access to the object's data is typically controlled through getter and setter methods.\n",
    "   - Encapsulation helps hide the complexity of an object and promotes data integrity and security.\n",
    "\n",
    "2. **Abstraction**:\n",
    "   - Abstraction is the process of simplifying complex systems by modeling classes based on the essential properties and behaviors they exhibit, while ignoring unnecessary details.\n",
    "   - It allows you to focus on what an object does rather than how it does it.\n",
    "   - Abstraction helps manage complexity and enables you to work with high-level, generalized representations of objects.\n",
    "\n",
    "3. **Inheritance**:\n",
    "   - Inheritance is a mechanism that allows a class (called a subclass or derived class) to inherit properties and behaviors from another class (called a superclass or base class).\n",
    "   - It promotes code reuse by allowing you to create new classes that are based on existing classes, inheriting their attributes and methods.\n",
    "   - Inheritance supports the \"is-a\" relationship, where a subclass is a specialized version of a superclass.\n",
    "   - It enables the creation of hierarchies of classes that share common characteristics and behaviors.\n",
    "\n",
    "4. **Polymorphism**:\n",
    "   - Polymorphism allows objects of different classes to be treated as objects of a common superclass.\n",
    "   - It enables you to write code that can work with objects of various types, as long as they share a common interface or base class.\n",
    "   - Polymorphism is achieved through method overriding and method overloading.\n",
    "   - It simplifies code and promotes flexibility and extensibility.\n"
   ]
  },
  {
   "cell_type": "markdown",
   "id": "bcf48750",
   "metadata": {},
   "source": [
    "# Q3"
   ]
  },
  {
   "cell_type": "markdown",
   "id": "04cf64e2",
   "metadata": {},
   "source": [
    "In Python, the `__init__` function, also known as the constructor, is used to initialize an object's attributes when the object is created from a class. It is a special method in Python classes and is called automatically when an object is instantiated from the class. The primary purpose of the `__init__` method is to set up the initial state of the object by assigning values to its attributes.\n",
    "\n",
    "1. **Initialization of Attributes**: The `__init__` method allows you to initialize the object's attributes with specific values, ensuring that each object starts with a known state. This is especially important when objects of a class may have different initial states.\n",
    "\n",
    "   ```python\n",
    "   class Student:\n",
    "       def __init__(self, name, age):\n",
    "           self.name = name\n",
    "           self.age = age\n",
    "\n",
    "   # Creating objects of the Student class and initializing their attributes\n",
    "   student1 = Student(\"Alice\", 20)\n",
    "   student2 = Student(\"Bob\", 22)\n",
    "   ```\n",
    "\n",
    "2. **Data Validation**: The `__init__` method can include data validation logic to ensure that the values assigned to attributes are valid. You can check whether the provided data meets certain criteria before setting the attributes.\n",
    "\n",
    "   ```python\n",
    "   class Circle:\n",
    "       def __init__(self, radius):\n",
    "           if radius > 0:\n",
    "               self.radius = radius\n",
    "           else:\n",
    "               raise ValueError(\"Radius must be a positive number.\")\n",
    "\n",
    "   # Creating a Circle object with valid and invalid radius values\n",
    "   circle1 = Circle(5)    # Valid\n",
    "   circle2 = Circle(-2)   # Raises a ValueError\n",
    "   ```\n",
    "\n",
    "3. **Default Values**: You can provide default values for attributes in the `__init__` method. If a value is not provided during object creation, the default value is used.\n",
    "\n",
    "   ```python\n",
    "   class Person:\n",
    "       def __init__(self, name=\"Unknown\", age=0):\n",
    "           self.name = name\n",
    "           self.age = age\n",
    "\n",
    "   # Creating objects of the Person class with and without providing values\n",
    "   person1 = Person(\"Alice\", 25)\n",
    "   person2 = Person()  # Uses default values (\"Unknown\" and 0)\n",
    "   ```\n",
    "\n",
    "4. **Initialization of Complex Objects**: In more complex classes, the `__init__` method can be used to initialize not only simple attributes but also other objects, resources, or perform setup operations that are necessary for the object to function correctly.\n",
    "\n",
    "   ```python\n",
    "   class Car:\n",
    "       def __init__(self, make, model, year):\n",
    "           self.make = make\n",
    "           self.model = model\n",
    "           self.year = year\n",
    "           self.engine = Engine()  # Initialize an Engine object\n",
    "\n",
    "   # Creating a Car object, which includes an Engine object\n",
    "   my_car = Car(\"Toyota\", \"Camry\", 2022)\n",
    "   ```"
   ]
  },
  {
   "cell_type": "markdown",
   "id": "e859d271",
   "metadata": {},
   "source": [
    "# Q4"
   ]
  },
  {
   "cell_type": "markdown",
   "id": "1fe017fb",
   "metadata": {},
   "source": [
    "In Python, `self` is used as a convention and a variable name to represent the instance of the class within the class's methods. It is not a keyword but a commonly used name for the first parameter in instance methods. The use of `self` is essential for proper object-oriented programming in Python. Here's why `self` is used and its significance:\n",
    "\n",
    "1. **Identifying the Instance**:\n",
    "   - Within a class method, `self` refers to the specific instance of the class that the method is being called on.\n",
    "   - When you create an object from a class, that object is an instance of the class. `self` helps identify which instance the method is acting upon.\n",
    "\n",
    "2. **Accessing Attributes and Methods**:\n",
    "   - Using `self`, you can access the object's attributes and methods from within its own methods.\n",
    "   - It allows you to work with the object's data and perform actions on that specific instance.\n",
    "\n",
    "   ```python\n",
    "   class Person:\n",
    "       def __init__(self, name):\n",
    "           self.name = name\n",
    "\n",
    "       def greet(self):\n",
    "           print(f\"Hello, my name is {self.name}.\")\n",
    "   ```\n",
    "\n",
    "3. **Avoiding Name Conflicts**:\n",
    "   - By using `self`, you avoid naming conflicts between instance variables and local variables within the method. It ensures that the method operates on the object's attributes, not on local variables with the same name.\n",
    "\n",
    "   ```python\n",
    "   class MyClass:\n",
    "       def __init__(self, x):\n",
    "           self.x = x\n",
    "\n",
    "       def update_x(self, x):\n",
    "           # Without self, it would reference the local variable 'x' instead of the instance variable 'self.x'\n",
    "           self.x = x\n",
    "   ```\n",
    "\n",
    "4. **Allowing Multiple Instances**:\n",
    "   - `self` allows you to create multiple instances of the same class, each with its own set of attributes and data.\n",
    "\n",
    "   ```python\n",
    "   person1 = Person(\"Alice\")\n",
    "   person2 = Person(\"Bob\")\n",
    "   person1.greet()  # Outputs: \"Hello, my name is Alice.\"\n",
    "   person2.greet()  # Outputs: \"Hello, my name is Bob.\"\n",
    "   ```\n",
    "\n",
    "5. **Consistency**:\n",
    "   - Using `self` is a widely accepted convention in Python and makes your code more readable and consistent with other Python codebases. Most Python developers expect to see `self` used in class methods.\n"
   ]
  },
  {
   "cell_type": "markdown",
   "id": "db720e2b",
   "metadata": {},
   "source": [
    "# Q5"
   ]
  },
  {
   "cell_type": "markdown",
   "id": "b5d98ff8",
   "metadata": {},
   "source": [
    "Inheritance is a fundamental concept in object-oriented programming (OOP) that allows you to create a new class (called a subclass or derived class) based on an existing class (called a superclass or base class). The derived class inherits attributes and methods from the base class, promoting code reuse and establishing an \"is-a\" relationship between the classes. There are several types of inheritance:"
   ]
  },
  {
   "cell_type": "code",
   "execution_count": 3,
   "id": "8191ca4e",
   "metadata": {},
   "outputs": [
    {
     "name": "stdout",
     "output_type": "stream",
     "text": [
      "Woof!\n",
      "Meow!\n"
     ]
    }
   ],
   "source": [
    "# SINGLE LEVEL\n",
    "class Animal:\n",
    "    def speak(self):\n",
    "        pass\n",
    "\n",
    "class Dog(Animal):\n",
    "    def speak(self):\n",
    "        return \"Woof!\"\n",
    "\n",
    "class Cat(Animal):\n",
    "    def speak(self):\n",
    "        return \"Meow!\"\n",
    "\n",
    "dog = Dog()\n",
    "cat = Cat()\n",
    "\n",
    "print(dog.speak()) \n",
    "print(cat.speak())  "
   ]
  },
  {
   "cell_type": "code",
   "execution_count": null,
   "id": "dbda3708",
   "metadata": {},
   "outputs": [],
   "source": [
    "# MULTIPLE"
   ]
  },
  {
   "cell_type": "code",
   "execution_count": 6,
   "id": "13b3be75",
   "metadata": {},
   "outputs": [
    {
     "name": "stdout",
     "output_type": "stream",
     "text": [
      "meth1, parent1\n",
      "meth2, parent2\n",
      "meth3\n"
     ]
    }
   ],
   "source": [
    "class Parent1:\n",
    "    def method1(self):\n",
    "        print('meth1, parent1')\n",
    "\n",
    "class Parent2:\n",
    "    def method2(self):\n",
    "        print('meth2, parent2')\n",
    "\n",
    "class Child(Parent1, Parent2):\n",
    "    def method3(self):\n",
    "        print('meth3')\n",
    "\n",
    "child = Child()\n",
    "child.method1()\n",
    "child.method2()\n",
    "child.method3()\n"
   ]
  },
  {
   "cell_type": "code",
   "execution_count": 15,
   "id": "5079a29d",
   "metadata": {},
   "outputs": [
    {
     "name": "stdout",
     "output_type": "stream",
     "text": [
      "Grandparent\n",
      "parent\n"
     ]
    }
   ],
   "source": [
    "# MULTILEVEL\n",
    "class Grandparent:\n",
    "    def method1(self):\n",
    "        print('Grandparent')\n",
    "class Parent(Grandparent):\n",
    "    def method2(self):\n",
    "        print('parent')\n",
    "class Child(Parent):\n",
    "    def method3(self):\n",
    "        pass\n",
    "parent=Parent()\n",
    "parent.method1()\n",
    "parent.method2()"
   ]
  },
  {
   "cell_type": "code",
   "execution_count": 16,
   "id": "d3fe1540",
   "metadata": {},
   "outputs": [
    {
     "name": "stdout",
     "output_type": "stream",
     "text": [
      "vehicle\n"
     ]
    }
   ],
   "source": [
    "# HEIRARCHIAL\n",
    "class Vehicle:\n",
    "    def start(self):\n",
    "        print('vehicle')\n",
    "\n",
    "class Car(Vehicle):\n",
    "    def drive(self):\n",
    "        pass\n",
    "\n",
    "class Bicycle(Vehicle):\n",
    "    def pedal(self):\n",
    "        pass\n",
    "\n",
    "i10=Car()\n",
    "i10.start()\n"
   ]
  }
 ],
 "metadata": {
  "kernelspec": {
   "display_name": "Python 3 (ipykernel)",
   "language": "python",
   "name": "python3"
  },
  "language_info": {
   "codemirror_mode": {
    "name": "ipython",
    "version": 3
   },
   "file_extension": ".py",
   "mimetype": "text/x-python",
   "name": "python",
   "nbconvert_exporter": "python",
   "pygments_lexer": "ipython3",
   "version": "3.11.4"
  }
 },
 "nbformat": 4,
 "nbformat_minor": 5
}
