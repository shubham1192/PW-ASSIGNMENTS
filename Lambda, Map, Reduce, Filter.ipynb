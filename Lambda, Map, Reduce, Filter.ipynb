{
 "cells": [
  {
   "cell_type": "markdown",
   "id": "d361e6c0",
   "metadata": {},
   "source": [
    "# Q1"
   ]
  },
  {
   "cell_type": "code",
   "execution_count": 36,
   "id": "0b44e7d0",
   "metadata": {},
   "outputs": [
    {
     "data": {
      "text/plain": [
       "[('Virat Kohli', 24936),\n",
       " ('Jack Kallis', 25534),\n",
       " ('Ricky Ponting', 27483),\n",
       " ('Sachin Tendulkar', 34357)]"
      ]
     },
     "execution_count": 36,
     "metadata": {},
     "output_type": "execute_result"
    }
   ],
   "source": [
    "l=[('Sachin Tendulkar', 34357), ('Ricky Ponting', 27483), ('Jack Kallis', 25534), ('Virat Kohli', 24936)]\n",
    "l.sort(key=lambda num:num[1])\n",
    "l"
   ]
  },
  {
   "cell_type": "markdown",
   "id": "fc4b8b9c",
   "metadata": {},
   "source": [
    "# Q2"
   ]
  },
  {
   "cell_type": "code",
   "execution_count": 37,
   "id": "93f6b431",
   "metadata": {},
   "outputs": [
    {
     "name": "stdout",
     "output_type": "stream",
     "text": [
      "[1, 4, 9, 16, 25, 36, 49, 64, 81, 100]\n"
     ]
    }
   ],
   "source": [
    "n=[1, 2, 3, 4, 5, 6, 7, 8, 9, 10]\n",
    "sq=lambda x:[i**2 for i in x]\n",
    "print(sq(n))"
   ]
  },
  {
   "cell_type": "code",
   "execution_count": 45,
   "id": "54e5df60",
   "metadata": {},
   "outputs": [
    {
     "name": "stdout",
     "output_type": "stream",
     "text": [
      "[1, 4, 9, 16, 25, 36, 49, 64, 81, 100]\n"
     ]
    }
   ],
   "source": [
    "sq2=list(map(lambda x:x**2,n))\n",
    "print(sq2)"
   ]
  },
  {
   "cell_type": "markdown",
   "id": "263f9f0b",
   "metadata": {},
   "source": [
    "# Q3"
   ]
  },
  {
   "cell_type": "code",
   "execution_count": 52,
   "id": "06418bde",
   "metadata": {},
   "outputs": [
    {
     "name": "stdout",
     "output_type": "stream",
     "text": [
      "('1', '2', '3', '4', '5', '6', '7', '8', '9', '10')\n"
     ]
    }
   ],
   "source": [
    "given=[1, 2, 3, 4, 5, 6, 7, 8, 9, 10]\n",
    "res=tuple(map(lambda x:str(x),given))\n",
    "print(res)"
   ]
  },
  {
   "cell_type": "markdown",
   "id": "8cbd9593",
   "metadata": {},
   "source": [
    "# Q4"
   ]
  },
  {
   "cell_type": "code",
   "execution_count": 63,
   "id": "be037ac6",
   "metadata": {},
   "outputs": [
    {
     "name": "stdout",
     "output_type": "stream",
     "text": [
      "[1, 2, 3, 4, 5, 6, 7, 8, 9, 10, 11, 12, 13, 14, 15, 16, 17, 18, 19, 20, 21, 22, 23, 24, 25]\n",
      "15511210043330985984000000\n"
     ]
    }
   ],
   "source": [
    "import functools as f\n",
    "l4=[]\n",
    "for i in range (1,26):\n",
    "    l4.append(i)\n",
    "print(l4)\n",
    "prod=f.reduce(lambda x,y:x*y,l4)\n",
    "print(prod)"
   ]
  },
  {
   "cell_type": "markdown",
   "id": "4b3dcffa",
   "metadata": {},
   "source": [
    "# Q5"
   ]
  },
  {
   "cell_type": "code",
   "execution_count": 79,
   "id": "9e743172",
   "metadata": {},
   "outputs": [
    {
     "name": "stdout",
     "output_type": "stream",
     "text": [
      "[6, 60, 90, 120]\n"
     ]
    }
   ],
   "source": [
    "l5=[2, 3, 6, 9, 27, 60, 90, 120, 55, 46]\n",
    "res=list(filter(lambda x:x%2==0 and x%3==0,l5))\n",
    "print(res)"
   ]
  },
  {
   "cell_type": "markdown",
   "id": "b2b1e87b",
   "metadata": {},
   "source": [
    "# Q6"
   ]
  },
  {
   "cell_type": "code",
   "execution_count": 90,
   "id": "a8dc2647",
   "metadata": {},
   "outputs": [
    {
     "name": "stdout",
     "output_type": "stream",
     "text": [
      "['php', 'aba', 'radar', 'level']\n"
     ]
    }
   ],
   "source": [
    "l6=['python', 'php', 'aba', 'radar', 'level']\n",
    "res=list(filter(lambda x:x==x[::-1],l6))\n",
    "print(res)"
   ]
  }
 ],
 "metadata": {
  "kernelspec": {
   "display_name": "Python 3 (ipykernel)",
   "language": "python",
   "name": "python3"
  },
  "language_info": {
   "codemirror_mode": {
    "name": "ipython",
    "version": 3
   },
   "file_extension": ".py",
   "mimetype": "text/x-python",
   "name": "python",
   "nbconvert_exporter": "python",
   "pygments_lexer": "ipython3",
   "version": "3.11.4"
  }
 },
 "nbformat": 4,
 "nbformat_minor": 5
}
