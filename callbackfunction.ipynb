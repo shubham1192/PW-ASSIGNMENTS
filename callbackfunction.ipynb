{
 "cells": [
  {
   "cell_type": "markdown",
   "id": "4e9be9b1",
   "metadata": {},
   "source": [
    "# Q1. Install and load the latest versions of TensorFlow and Keras. Print their versions."
   ]
  },
  {
   "cell_type": "code",
   "execution_count": 50,
   "id": "78f677bd",
   "metadata": {
    "scrolled": false
   },
   "outputs": [
    {
     "name": "stdout",
     "output_type": "stream",
     "text": [
      "Requirement already satisfied: tensorflow in c:\\users\\inder\\anaconda3\\lib\\site-packages (2.14.0)\n",
      "Requirement already satisfied: tensorflow-intel==2.14.0 in c:\\users\\inder\\anaconda3\\lib\\site-packages (from tensorflow) (2.14.0)\n",
      "Requirement already satisfied: absl-py>=1.0.0 in c:\\users\\inder\\anaconda3\\lib\\site-packages (from tensorflow-intel==2.14.0->tensorflow) (2.0.0)\n",
      "Requirement already satisfied: astunparse>=1.6.0 in c:\\users\\inder\\anaconda3\\lib\\site-packages (from tensorflow-intel==2.14.0->tensorflow) (1.6.3)\n",
      "Requirement already satisfied: flatbuffers>=23.5.26 in c:\\users\\inder\\anaconda3\\lib\\site-packages (from tensorflow-intel==2.14.0->tensorflow) (23.5.26)\n",
      "Requirement already satisfied: gast!=0.5.0,!=0.5.1,!=0.5.2,>=0.2.1 in c:\\users\\inder\\anaconda3\\lib\\site-packages (from tensorflow-intel==2.14.0->tensorflow) (0.5.4)\n",
      "Requirement already satisfied: google-pasta>=0.1.1 in c:\\users\\inder\\anaconda3\\lib\\site-packages (from tensorflow-intel==2.14.0->tensorflow) (0.2.0)\n",
      "Requirement already satisfied: h5py>=2.9.0 in c:\\users\\inder\\anaconda3\\lib\\site-packages (from tensorflow-intel==2.14.0->tensorflow) (3.7.0)\n",
      "Requirement already satisfied: libclang>=13.0.0 in c:\\users\\inder\\anaconda3\\lib\\site-packages (from tensorflow-intel==2.14.0->tensorflow) (16.0.6)\n",
      "Requirement already satisfied: ml-dtypes==0.2.0 in c:\\users\\inder\\anaconda3\\lib\\site-packages (from tensorflow-intel==2.14.0->tensorflow) (0.2.0)\n",
      "Requirement already satisfied: numpy>=1.23.5 in c:\\users\\inder\\anaconda3\\lib\\site-packages (from tensorflow-intel==2.14.0->tensorflow) (1.24.3)\n",
      "Requirement already satisfied: opt-einsum>=2.3.2 in c:\\users\\inder\\anaconda3\\lib\\site-packages (from tensorflow-intel==2.14.0->tensorflow) (3.3.0)\n",
      "Requirement already satisfied: packaging in c:\\users\\inder\\anaconda3\\lib\\site-packages (from tensorflow-intel==2.14.0->tensorflow) (23.0)\n",
      "Requirement already satisfied: protobuf!=4.21.0,!=4.21.1,!=4.21.2,!=4.21.3,!=4.21.4,!=4.21.5,<5.0.0dev,>=3.20.3 in c:\\users\\inder\\anaconda3\\lib\\site-packages (from tensorflow-intel==2.14.0->tensorflow) (4.24.4)\n",
      "Requirement already satisfied: setuptools in c:\\users\\inder\\anaconda3\\lib\\site-packages (from tensorflow-intel==2.14.0->tensorflow) (68.0.0)\n",
      "Requirement already satisfied: six>=1.12.0 in c:\\users\\inder\\anaconda3\\lib\\site-packages (from tensorflow-intel==2.14.0->tensorflow) (1.16.0)\n",
      "Requirement already satisfied: termcolor>=1.1.0 in c:\\users\\inder\\anaconda3\\lib\\site-packages (from tensorflow-intel==2.14.0->tensorflow) (2.3.0)\n",
      "Requirement already satisfied: typing-extensions>=3.6.6 in c:\\users\\inder\\anaconda3\\lib\\site-packages (from tensorflow-intel==2.14.0->tensorflow) (4.7.1)\n",
      "Requirement already satisfied: wrapt<1.15,>=1.11.0 in c:\\users\\inder\\anaconda3\\lib\\site-packages (from tensorflow-intel==2.14.0->tensorflow) (1.14.1)\n",
      "Requirement already satisfied: tensorflow-io-gcs-filesystem>=0.23.1 in c:\\users\\inder\\anaconda3\\lib\\site-packages (from tensorflow-intel==2.14.0->tensorflow) (0.31.0)\n",
      "Requirement already satisfied: grpcio<2.0,>=1.24.3 in c:\\users\\inder\\anaconda3\\lib\\site-packages (from tensorflow-intel==2.14.0->tensorflow) (1.59.0)\n",
      "Requirement already satisfied: tensorboard<2.15,>=2.14 in c:\\users\\inder\\anaconda3\\lib\\site-packages (from tensorflow-intel==2.14.0->tensorflow) (2.14.1)\n",
      "Requirement already satisfied: tensorflow-estimator<2.15,>=2.14.0 in c:\\users\\inder\\anaconda3\\lib\\site-packages (from tensorflow-intel==2.14.0->tensorflow) (2.14.0)\n",
      "Requirement already satisfied: keras<2.15,>=2.14.0 in c:\\users\\inder\\anaconda3\\lib\\site-packages (from tensorflow-intel==2.14.0->tensorflow) (2.14.0)\n",
      "Requirement already satisfied: wheel<1.0,>=0.23.0 in c:\\users\\inder\\anaconda3\\lib\\site-packages (from astunparse>=1.6.0->tensorflow-intel==2.14.0->tensorflow) (0.38.4)\n",
      "Requirement already satisfied: google-auth<3,>=1.6.3 in c:\\users\\inder\\anaconda3\\lib\\site-packages (from tensorboard<2.15,>=2.14->tensorflow-intel==2.14.0->tensorflow) (2.23.3)\n",
      "Requirement already satisfied: google-auth-oauthlib<1.1,>=0.5 in c:\\users\\inder\\anaconda3\\lib\\site-packages (from tensorboard<2.15,>=2.14->tensorflow-intel==2.14.0->tensorflow) (1.0.0)\n",
      "Requirement already satisfied: markdown>=2.6.8 in c:\\users\\inder\\anaconda3\\lib\\site-packages (from tensorboard<2.15,>=2.14->tensorflow-intel==2.14.0->tensorflow) (3.4.1)\n",
      "Requirement already satisfied: requests<3,>=2.21.0 in c:\\users\\inder\\anaconda3\\lib\\site-packages (from tensorboard<2.15,>=2.14->tensorflow-intel==2.14.0->tensorflow) (2.31.0)\n",
      "Requirement already satisfied: tensorboard-data-server<0.8.0,>=0.7.0 in c:\\users\\inder\\anaconda3\\lib\\site-packages (from tensorboard<2.15,>=2.14->tensorflow-intel==2.14.0->tensorflow) (0.7.1)\n",
      "Requirement already satisfied: werkzeug>=1.0.1 in c:\\users\\inder\\anaconda3\\lib\\site-packages (from tensorboard<2.15,>=2.14->tensorflow-intel==2.14.0->tensorflow) (2.2.3)\n",
      "Requirement already satisfied: cachetools<6.0,>=2.0.0 in c:\\users\\inder\\anaconda3\\lib\\site-packages (from google-auth<3,>=1.6.3->tensorboard<2.15,>=2.14->tensorflow-intel==2.14.0->tensorflow) (5.3.1)\n",
      "Requirement already satisfied: pyasn1-modules>=0.2.1 in c:\\users\\inder\\anaconda3\\lib\\site-packages (from google-auth<3,>=1.6.3->tensorboard<2.15,>=2.14->tensorflow-intel==2.14.0->tensorflow) (0.2.8)\n",
      "Requirement already satisfied: rsa<5,>=3.1.4 in c:\\users\\inder\\anaconda3\\lib\\site-packages (from google-auth<3,>=1.6.3->tensorboard<2.15,>=2.14->tensorflow-intel==2.14.0->tensorflow) (4.9)\n",
      "Requirement already satisfied: requests-oauthlib>=0.7.0 in c:\\users\\inder\\anaconda3\\lib\\site-packages (from google-auth-oauthlib<1.1,>=0.5->tensorboard<2.15,>=2.14->tensorflow-intel==2.14.0->tensorflow) (1.3.1)\n",
      "Requirement already satisfied: charset-normalizer<4,>=2 in c:\\users\\inder\\anaconda3\\lib\\site-packages (from requests<3,>=2.21.0->tensorboard<2.15,>=2.14->tensorflow-intel==2.14.0->tensorflow) (2.0.4)\n",
      "Requirement already satisfied: idna<4,>=2.5 in c:\\users\\inder\\anaconda3\\lib\\site-packages (from requests<3,>=2.21.0->tensorboard<2.15,>=2.14->tensorflow-intel==2.14.0->tensorflow) (3.4)\n",
      "Requirement already satisfied: urllib3<3,>=1.21.1 in c:\\users\\inder\\anaconda3\\lib\\site-packages (from requests<3,>=2.21.0->tensorboard<2.15,>=2.14->tensorflow-intel==2.14.0->tensorflow) (1.26.16)\n",
      "Requirement already satisfied: certifi>=2017.4.17 in c:\\users\\inder\\anaconda3\\lib\\site-packages (from requests<3,>=2.21.0->tensorboard<2.15,>=2.14->tensorflow-intel==2.14.0->tensorflow) (2023.7.22)\n",
      "Requirement already satisfied: MarkupSafe>=2.1.1 in c:\\users\\inder\\anaconda3\\lib\\site-packages (from werkzeug>=1.0.1->tensorboard<2.15,>=2.14->tensorflow-intel==2.14.0->tensorflow) (2.1.1)\n",
      "Requirement already satisfied: pyasn1<0.5.0,>=0.4.6 in c:\\users\\inder\\anaconda3\\lib\\site-packages (from pyasn1-modules>=0.2.1->google-auth<3,>=1.6.3->tensorboard<2.15,>=2.14->tensorflow-intel==2.14.0->tensorflow) (0.4.8)\n",
      "Requirement already satisfied: oauthlib>=3.0.0 in c:\\users\\inder\\anaconda3\\lib\\site-packages (from requests-oauthlib>=0.7.0->google-auth-oauthlib<1.1,>=0.5->tensorboard<2.15,>=2.14->tensorflow-intel==2.14.0->tensorflow) (3.2.2)\n"
     ]
    }
   ],
   "source": [
    "!pip install tensorflow\n",
    "import tensorflow as tf"
   ]
  },
  {
   "cell_type": "code",
   "execution_count": 51,
   "id": "879b23a8",
   "metadata": {},
   "outputs": [],
   "source": [
    "import keras"
   ]
  },
  {
   "cell_type": "code",
   "execution_count": 52,
   "id": "0a65bd24",
   "metadata": {},
   "outputs": [
    {
     "name": "stdout",
     "output_type": "stream",
     "text": [
      "tensorflow version:2.14.0\n",
      "keras version:2.14.0\n"
     ]
    }
   ],
   "source": [
    "print(f'tensorflow version:{tf.__version__}')\n",
    "print(f'keras version:{keras.__version__}')"
   ]
  },
  {
   "cell_type": "markdown",
   "id": "bb8387dd",
   "metadata": {},
   "source": [
    "# Q2. Load the Wine Quality dataset and explore its dimensions."
   ]
  },
  {
   "cell_type": "code",
   "execution_count": 53,
   "id": "f2e19196",
   "metadata": {},
   "outputs": [
    {
     "name": "stdout",
     "output_type": "stream",
     "text": [
      "Requirement already satisfied: opendatasets in c:\\users\\inder\\anaconda3\\lib\\site-packages (0.1.22)\n",
      "Requirement already satisfied: tqdm in c:\\users\\inder\\anaconda3\\lib\\site-packages (from opendatasets) (4.65.0)\n",
      "Requirement already satisfied: kaggle in c:\\users\\inder\\anaconda3\\lib\\site-packages (from opendatasets) (1.5.16)\n",
      "Requirement already satisfied: click in c:\\users\\inder\\anaconda3\\lib\\site-packages (from opendatasets) (8.0.4)\n",
      "Requirement already satisfied: colorama in c:\\users\\inder\\anaconda3\\lib\\site-packages (from click->opendatasets) (0.4.6)\n",
      "Requirement already satisfied: six>=1.10 in c:\\users\\inder\\anaconda3\\lib\\site-packages (from kaggle->opendatasets) (1.16.0)\n",
      "Requirement already satisfied: certifi in c:\\users\\inder\\anaconda3\\lib\\site-packages (from kaggle->opendatasets) (2023.7.22)\n",
      "Requirement already satisfied: python-dateutil in c:\\users\\inder\\anaconda3\\lib\\site-packages (from kaggle->opendatasets) (2.8.2)\n",
      "Requirement already satisfied: requests in c:\\users\\inder\\anaconda3\\lib\\site-packages (from kaggle->opendatasets) (2.31.0)\n",
      "Requirement already satisfied: python-slugify in c:\\users\\inder\\anaconda3\\lib\\site-packages (from kaggle->opendatasets) (5.0.2)\n",
      "Requirement already satisfied: urllib3 in c:\\users\\inder\\anaconda3\\lib\\site-packages (from kaggle->opendatasets) (1.26.16)\n",
      "Requirement already satisfied: bleach in c:\\users\\inder\\anaconda3\\lib\\site-packages (from kaggle->opendatasets) (4.1.0)\n",
      "Requirement already satisfied: packaging in c:\\users\\inder\\anaconda3\\lib\\site-packages (from bleach->kaggle->opendatasets) (23.0)\n",
      "Requirement already satisfied: webencodings in c:\\users\\inder\\anaconda3\\lib\\site-packages (from bleach->kaggle->opendatasets) (0.5.1)\n",
      "Requirement already satisfied: text-unidecode>=1.3 in c:\\users\\inder\\anaconda3\\lib\\site-packages (from python-slugify->kaggle->opendatasets) (1.3)\n",
      "Requirement already satisfied: charset-normalizer<4,>=2 in c:\\users\\inder\\anaconda3\\lib\\site-packages (from requests->kaggle->opendatasets) (2.0.4)\n",
      "Requirement already satisfied: idna<4,>=2.5 in c:\\users\\inder\\anaconda3\\lib\\site-packages (from requests->kaggle->opendatasets) (3.4)\n"
     ]
    }
   ],
   "source": [
    "!pip install opendatasets"
   ]
  },
  {
   "cell_type": "code",
   "execution_count": 54,
   "id": "3e71d401",
   "metadata": {},
   "outputs": [],
   "source": [
    "import opendatasets as od"
   ]
  },
  {
   "cell_type": "code",
   "execution_count": 55,
   "id": "b3fb3f08",
   "metadata": {},
   "outputs": [
    {
     "name": "stdout",
     "output_type": "stream",
     "text": [
      "Skipping, found downloaded files in \".\\wine-quality-binary-classification\" (use force=True to force download)\n"
     ]
    }
   ],
   "source": [
    "od.download(\"https://www.kaggle.com/datasets/nareshbhat/wine-quality-binary-classification\")"
   ]
  },
  {
   "cell_type": "code",
   "execution_count": 56,
   "id": "37124c8a",
   "metadata": {},
   "outputs": [
    {
     "data": {
      "text/html": [
       "<div>\n",
       "<style scoped>\n",
       "    .dataframe tbody tr th:only-of-type {\n",
       "        vertical-align: middle;\n",
       "    }\n",
       "\n",
       "    .dataframe tbody tr th {\n",
       "        vertical-align: top;\n",
       "    }\n",
       "\n",
       "    .dataframe thead th {\n",
       "        text-align: right;\n",
       "    }\n",
       "</style>\n",
       "<table border=\"1\" class=\"dataframe\">\n",
       "  <thead>\n",
       "    <tr style=\"text-align: right;\">\n",
       "      <th></th>\n",
       "      <th>fixed acidity</th>\n",
       "      <th>volatile acidity</th>\n",
       "      <th>citric acid</th>\n",
       "      <th>residual sugar</th>\n",
       "      <th>chlorides</th>\n",
       "      <th>free sulfur dioxide</th>\n",
       "      <th>total sulfur dioxide</th>\n",
       "      <th>density</th>\n",
       "      <th>pH</th>\n",
       "      <th>sulphates</th>\n",
       "      <th>alcohol</th>\n",
       "      <th>quality</th>\n",
       "    </tr>\n",
       "  </thead>\n",
       "  <tbody>\n",
       "    <tr>\n",
       "      <th>0</th>\n",
       "      <td>7.4</td>\n",
       "      <td>0.70</td>\n",
       "      <td>0.00</td>\n",
       "      <td>1.9</td>\n",
       "      <td>0.076</td>\n",
       "      <td>11.0</td>\n",
       "      <td>34.0</td>\n",
       "      <td>0.9978</td>\n",
       "      <td>3.51</td>\n",
       "      <td>0.56</td>\n",
       "      <td>9.4</td>\n",
       "      <td>bad</td>\n",
       "    </tr>\n",
       "    <tr>\n",
       "      <th>1</th>\n",
       "      <td>7.8</td>\n",
       "      <td>0.88</td>\n",
       "      <td>0.00</td>\n",
       "      <td>2.6</td>\n",
       "      <td>0.098</td>\n",
       "      <td>25.0</td>\n",
       "      <td>67.0</td>\n",
       "      <td>0.9968</td>\n",
       "      <td>3.20</td>\n",
       "      <td>0.68</td>\n",
       "      <td>9.8</td>\n",
       "      <td>bad</td>\n",
       "    </tr>\n",
       "    <tr>\n",
       "      <th>2</th>\n",
       "      <td>7.8</td>\n",
       "      <td>0.76</td>\n",
       "      <td>0.04</td>\n",
       "      <td>2.3</td>\n",
       "      <td>0.092</td>\n",
       "      <td>15.0</td>\n",
       "      <td>54.0</td>\n",
       "      <td>0.9970</td>\n",
       "      <td>3.26</td>\n",
       "      <td>0.65</td>\n",
       "      <td>9.8</td>\n",
       "      <td>bad</td>\n",
       "    </tr>\n",
       "    <tr>\n",
       "      <th>3</th>\n",
       "      <td>11.2</td>\n",
       "      <td>0.28</td>\n",
       "      <td>0.56</td>\n",
       "      <td>1.9</td>\n",
       "      <td>0.075</td>\n",
       "      <td>17.0</td>\n",
       "      <td>60.0</td>\n",
       "      <td>0.9980</td>\n",
       "      <td>3.16</td>\n",
       "      <td>0.58</td>\n",
       "      <td>9.8</td>\n",
       "      <td>good</td>\n",
       "    </tr>\n",
       "    <tr>\n",
       "      <th>4</th>\n",
       "      <td>7.4</td>\n",
       "      <td>0.70</td>\n",
       "      <td>0.00</td>\n",
       "      <td>1.9</td>\n",
       "      <td>0.076</td>\n",
       "      <td>11.0</td>\n",
       "      <td>34.0</td>\n",
       "      <td>0.9978</td>\n",
       "      <td>3.51</td>\n",
       "      <td>0.56</td>\n",
       "      <td>9.4</td>\n",
       "      <td>bad</td>\n",
       "    </tr>\n",
       "  </tbody>\n",
       "</table>\n",
       "</div>"
      ],
      "text/plain": [
       "   fixed acidity  volatile acidity  citric acid  residual sugar  chlorides  \\\n",
       "0            7.4              0.70         0.00             1.9      0.076   \n",
       "1            7.8              0.88         0.00             2.6      0.098   \n",
       "2            7.8              0.76         0.04             2.3      0.092   \n",
       "3           11.2              0.28         0.56             1.9      0.075   \n",
       "4            7.4              0.70         0.00             1.9      0.076   \n",
       "\n",
       "   free sulfur dioxide  total sulfur dioxide  density    pH  sulphates  \\\n",
       "0                 11.0                  34.0   0.9978  3.51       0.56   \n",
       "1                 25.0                  67.0   0.9968  3.20       0.68   \n",
       "2                 15.0                  54.0   0.9970  3.26       0.65   \n",
       "3                 17.0                  60.0   0.9980  3.16       0.58   \n",
       "4                 11.0                  34.0   0.9978  3.51       0.56   \n",
       "\n",
       "   alcohol quality  \n",
       "0      9.4     bad  \n",
       "1      9.8     bad  \n",
       "2      9.8     bad  \n",
       "3      9.8    good  \n",
       "4      9.4     bad  "
      ]
     },
     "execution_count": 56,
     "metadata": {},
     "output_type": "execute_result"
    }
   ],
   "source": [
    "import pandas as pd\n",
    "df=pd.read_csv('wine-quality-binary-classification/wine.csv')\n",
    "df.head()"
   ]
  },
  {
   "cell_type": "markdown",
   "id": "d39ce2ad",
   "metadata": {},
   "source": [
    "# Q3. Check for null values, identify categorical variables, and encode them."
   ]
  },
  {
   "cell_type": "code",
   "execution_count": 57,
   "id": "1a81e8af",
   "metadata": {},
   "outputs": [
    {
     "name": "stdout",
     "output_type": "stream",
     "text": [
      "fixed acidity           0\n",
      "volatile acidity        0\n",
      "citric acid             0\n",
      "residual sugar          0\n",
      "chlorides               0\n",
      "free sulfur dioxide     0\n",
      "total sulfur dioxide    0\n",
      "density                 0\n",
      "pH                      0\n",
      "sulphates               0\n",
      "alcohol                 0\n",
      "quality                 0\n",
      "dtype: int64\n",
      "\n",
      "\n",
      "total null values:0\n"
     ]
    }
   ],
   "source": [
    "print(df.isnull().sum())\n",
    "print('\\n')\n",
    "print(f'total null values:{df.isnull().sum().sum()}')"
   ]
  },
  {
   "cell_type": "code",
   "execution_count": 58,
   "id": "2df8e907",
   "metadata": {},
   "outputs": [
    {
     "name": "stdout",
     "output_type": "stream",
     "text": [
      "<class 'pandas.core.frame.DataFrame'>\n",
      "RangeIndex: 1599 entries, 0 to 1598\n",
      "Data columns (total 12 columns):\n",
      " #   Column                Non-Null Count  Dtype  \n",
      "---  ------                --------------  -----  \n",
      " 0   fixed acidity         1599 non-null   float64\n",
      " 1   volatile acidity      1599 non-null   float64\n",
      " 2   citric acid           1599 non-null   float64\n",
      " 3   residual sugar        1599 non-null   float64\n",
      " 4   chlorides             1599 non-null   float64\n",
      " 5   free sulfur dioxide   1599 non-null   float64\n",
      " 6   total sulfur dioxide  1599 non-null   float64\n",
      " 7   density               1599 non-null   float64\n",
      " 8   pH                    1599 non-null   float64\n",
      " 9   sulphates             1599 non-null   float64\n",
      " 10  alcohol               1599 non-null   float64\n",
      " 11  quality               1599 non-null   object \n",
      "dtypes: float64(11), object(1)\n",
      "memory usage: 150.0+ KB\n"
     ]
    }
   ],
   "source": [
    "df.info()"
   ]
  },
  {
   "cell_type": "code",
   "execution_count": 59,
   "id": "7205d01e",
   "metadata": {},
   "outputs": [
    {
     "data": {
      "text/plain": [
       "array(['bad', 'good'], dtype=object)"
      ]
     },
     "execution_count": 59,
     "metadata": {},
     "output_type": "execute_result"
    }
   ],
   "source": [
    "df['quality'].unique()"
   ]
  },
  {
   "cell_type": "code",
   "execution_count": 60,
   "id": "55b5c70d",
   "metadata": {},
   "outputs": [
    {
     "data": {
      "text/plain": [
       "1    855\n",
       "0    744\n",
       "Name: quality, dtype: int64"
      ]
     },
     "execution_count": 60,
     "metadata": {},
     "output_type": "execute_result"
    }
   ],
   "source": [
    "from sklearn.preprocessing import LabelEncoder\n",
    "le=LabelEncoder()\n",
    "df['quality']=le.fit_transform(df['quality'])\n",
    "df['quality'].value_counts()"
   ]
  },
  {
   "cell_type": "code",
   "execution_count": 61,
   "id": "8b0b00b3",
   "metadata": {},
   "outputs": [
    {
     "data": {
      "text/html": [
       "<div>\n",
       "<style scoped>\n",
       "    .dataframe tbody tr th:only-of-type {\n",
       "        vertical-align: middle;\n",
       "    }\n",
       "\n",
       "    .dataframe tbody tr th {\n",
       "        vertical-align: top;\n",
       "    }\n",
       "\n",
       "    .dataframe thead th {\n",
       "        text-align: right;\n",
       "    }\n",
       "</style>\n",
       "<table border=\"1\" class=\"dataframe\">\n",
       "  <thead>\n",
       "    <tr style=\"text-align: right;\">\n",
       "      <th></th>\n",
       "      <th>fixed acidity</th>\n",
       "      <th>volatile acidity</th>\n",
       "      <th>citric acid</th>\n",
       "      <th>residual sugar</th>\n",
       "      <th>chlorides</th>\n",
       "      <th>free sulfur dioxide</th>\n",
       "      <th>total sulfur dioxide</th>\n",
       "      <th>density</th>\n",
       "      <th>pH</th>\n",
       "      <th>sulphates</th>\n",
       "      <th>alcohol</th>\n",
       "      <th>quality</th>\n",
       "    </tr>\n",
       "  </thead>\n",
       "  <tbody>\n",
       "    <tr>\n",
       "      <th>0</th>\n",
       "      <td>7.4</td>\n",
       "      <td>0.700</td>\n",
       "      <td>0.00</td>\n",
       "      <td>1.9</td>\n",
       "      <td>0.076</td>\n",
       "      <td>11.0</td>\n",
       "      <td>34.0</td>\n",
       "      <td>0.99780</td>\n",
       "      <td>3.51</td>\n",
       "      <td>0.56</td>\n",
       "      <td>9.4</td>\n",
       "      <td>0</td>\n",
       "    </tr>\n",
       "    <tr>\n",
       "      <th>1</th>\n",
       "      <td>7.8</td>\n",
       "      <td>0.880</td>\n",
       "      <td>0.00</td>\n",
       "      <td>2.6</td>\n",
       "      <td>0.098</td>\n",
       "      <td>25.0</td>\n",
       "      <td>67.0</td>\n",
       "      <td>0.99680</td>\n",
       "      <td>3.20</td>\n",
       "      <td>0.68</td>\n",
       "      <td>9.8</td>\n",
       "      <td>0</td>\n",
       "    </tr>\n",
       "    <tr>\n",
       "      <th>2</th>\n",
       "      <td>7.8</td>\n",
       "      <td>0.760</td>\n",
       "      <td>0.04</td>\n",
       "      <td>2.3</td>\n",
       "      <td>0.092</td>\n",
       "      <td>15.0</td>\n",
       "      <td>54.0</td>\n",
       "      <td>0.99700</td>\n",
       "      <td>3.26</td>\n",
       "      <td>0.65</td>\n",
       "      <td>9.8</td>\n",
       "      <td>0</td>\n",
       "    </tr>\n",
       "    <tr>\n",
       "      <th>3</th>\n",
       "      <td>11.2</td>\n",
       "      <td>0.280</td>\n",
       "      <td>0.56</td>\n",
       "      <td>1.9</td>\n",
       "      <td>0.075</td>\n",
       "      <td>17.0</td>\n",
       "      <td>60.0</td>\n",
       "      <td>0.99800</td>\n",
       "      <td>3.16</td>\n",
       "      <td>0.58</td>\n",
       "      <td>9.8</td>\n",
       "      <td>1</td>\n",
       "    </tr>\n",
       "    <tr>\n",
       "      <th>4</th>\n",
       "      <td>7.4</td>\n",
       "      <td>0.700</td>\n",
       "      <td>0.00</td>\n",
       "      <td>1.9</td>\n",
       "      <td>0.076</td>\n",
       "      <td>11.0</td>\n",
       "      <td>34.0</td>\n",
       "      <td>0.99780</td>\n",
       "      <td>3.51</td>\n",
       "      <td>0.56</td>\n",
       "      <td>9.4</td>\n",
       "      <td>0</td>\n",
       "    </tr>\n",
       "    <tr>\n",
       "      <th>...</th>\n",
       "      <td>...</td>\n",
       "      <td>...</td>\n",
       "      <td>...</td>\n",
       "      <td>...</td>\n",
       "      <td>...</td>\n",
       "      <td>...</td>\n",
       "      <td>...</td>\n",
       "      <td>...</td>\n",
       "      <td>...</td>\n",
       "      <td>...</td>\n",
       "      <td>...</td>\n",
       "      <td>...</td>\n",
       "    </tr>\n",
       "    <tr>\n",
       "      <th>1594</th>\n",
       "      <td>6.2</td>\n",
       "      <td>0.600</td>\n",
       "      <td>0.08</td>\n",
       "      <td>2.0</td>\n",
       "      <td>0.090</td>\n",
       "      <td>32.0</td>\n",
       "      <td>44.0</td>\n",
       "      <td>0.99490</td>\n",
       "      <td>3.45</td>\n",
       "      <td>0.58</td>\n",
       "      <td>10.5</td>\n",
       "      <td>0</td>\n",
       "    </tr>\n",
       "    <tr>\n",
       "      <th>1595</th>\n",
       "      <td>5.9</td>\n",
       "      <td>0.550</td>\n",
       "      <td>0.10</td>\n",
       "      <td>2.2</td>\n",
       "      <td>0.062</td>\n",
       "      <td>39.0</td>\n",
       "      <td>51.0</td>\n",
       "      <td>0.99512</td>\n",
       "      <td>3.52</td>\n",
       "      <td>0.76</td>\n",
       "      <td>11.2</td>\n",
       "      <td>1</td>\n",
       "    </tr>\n",
       "    <tr>\n",
       "      <th>1596</th>\n",
       "      <td>6.3</td>\n",
       "      <td>0.510</td>\n",
       "      <td>0.13</td>\n",
       "      <td>2.3</td>\n",
       "      <td>0.076</td>\n",
       "      <td>29.0</td>\n",
       "      <td>40.0</td>\n",
       "      <td>0.99574</td>\n",
       "      <td>3.42</td>\n",
       "      <td>0.75</td>\n",
       "      <td>11.0</td>\n",
       "      <td>1</td>\n",
       "    </tr>\n",
       "    <tr>\n",
       "      <th>1597</th>\n",
       "      <td>5.9</td>\n",
       "      <td>0.645</td>\n",
       "      <td>0.12</td>\n",
       "      <td>2.0</td>\n",
       "      <td>0.075</td>\n",
       "      <td>32.0</td>\n",
       "      <td>44.0</td>\n",
       "      <td>0.99547</td>\n",
       "      <td>3.57</td>\n",
       "      <td>0.71</td>\n",
       "      <td>10.2</td>\n",
       "      <td>0</td>\n",
       "    </tr>\n",
       "    <tr>\n",
       "      <th>1598</th>\n",
       "      <td>6.0</td>\n",
       "      <td>0.310</td>\n",
       "      <td>0.47</td>\n",
       "      <td>3.6</td>\n",
       "      <td>0.067</td>\n",
       "      <td>18.0</td>\n",
       "      <td>42.0</td>\n",
       "      <td>0.99549</td>\n",
       "      <td>3.39</td>\n",
       "      <td>0.66</td>\n",
       "      <td>11.0</td>\n",
       "      <td>1</td>\n",
       "    </tr>\n",
       "  </tbody>\n",
       "</table>\n",
       "<p>1599 rows × 12 columns</p>\n",
       "</div>"
      ],
      "text/plain": [
       "      fixed acidity  volatile acidity  citric acid  residual sugar  chlorides  \\\n",
       "0               7.4             0.700         0.00             1.9      0.076   \n",
       "1               7.8             0.880         0.00             2.6      0.098   \n",
       "2               7.8             0.760         0.04             2.3      0.092   \n",
       "3              11.2             0.280         0.56             1.9      0.075   \n",
       "4               7.4             0.700         0.00             1.9      0.076   \n",
       "...             ...               ...          ...             ...        ...   \n",
       "1594            6.2             0.600         0.08             2.0      0.090   \n",
       "1595            5.9             0.550         0.10             2.2      0.062   \n",
       "1596            6.3             0.510         0.13             2.3      0.076   \n",
       "1597            5.9             0.645         0.12             2.0      0.075   \n",
       "1598            6.0             0.310         0.47             3.6      0.067   \n",
       "\n",
       "      free sulfur dioxide  total sulfur dioxide  density    pH  sulphates  \\\n",
       "0                    11.0                  34.0  0.99780  3.51       0.56   \n",
       "1                    25.0                  67.0  0.99680  3.20       0.68   \n",
       "2                    15.0                  54.0  0.99700  3.26       0.65   \n",
       "3                    17.0                  60.0  0.99800  3.16       0.58   \n",
       "4                    11.0                  34.0  0.99780  3.51       0.56   \n",
       "...                   ...                   ...      ...   ...        ...   \n",
       "1594                 32.0                  44.0  0.99490  3.45       0.58   \n",
       "1595                 39.0                  51.0  0.99512  3.52       0.76   \n",
       "1596                 29.0                  40.0  0.99574  3.42       0.75   \n",
       "1597                 32.0                  44.0  0.99547  3.57       0.71   \n",
       "1598                 18.0                  42.0  0.99549  3.39       0.66   \n",
       "\n",
       "      alcohol  quality  \n",
       "0         9.4        0  \n",
       "1         9.8        0  \n",
       "2         9.8        0  \n",
       "3         9.8        1  \n",
       "4         9.4        0  \n",
       "...       ...      ...  \n",
       "1594     10.5        0  \n",
       "1595     11.2        1  \n",
       "1596     11.0        1  \n",
       "1597     10.2        0  \n",
       "1598     11.0        1  \n",
       "\n",
       "[1599 rows x 12 columns]"
      ]
     },
     "execution_count": 61,
     "metadata": {},
     "output_type": "execute_result"
    }
   ],
   "source": [
    "df"
   ]
  },
  {
   "cell_type": "markdown",
   "id": "0fb88907",
   "metadata": {},
   "source": [
    "# Q4. Separate the features and target variables from the dataset."
   ]
  },
  {
   "cell_type": "code",
   "execution_count": 62,
   "id": "f824977d",
   "metadata": {},
   "outputs": [
    {
     "data": {
      "text/plain": [
       "0       0\n",
       "1       0\n",
       "2       0\n",
       "3       1\n",
       "4       0\n",
       "       ..\n",
       "1594    0\n",
       "1595    1\n",
       "1596    1\n",
       "1597    0\n",
       "1598    1\n",
       "Name: quality, Length: 1599, dtype: int32"
      ]
     },
     "execution_count": 62,
     "metadata": {},
     "output_type": "execute_result"
    }
   ],
   "source": [
    "X=df.drop(labels=['quality'],axis=1)\n",
    "y=df['quality']\n",
    "y"
   ]
  },
  {
   "cell_type": "markdown",
   "id": "8430ca21",
   "metadata": {},
   "source": [
    "# Q5. Perform a train-test split, dividing the data into training, validation, and test datasets."
   ]
  },
  {
   "cell_type": "code",
   "execution_count": 63,
   "id": "7f734684",
   "metadata": {},
   "outputs": [],
   "source": [
    "from sklearn.model_selection import train_test_split\n",
    "X_train,X_test,y_train,y_test=train_test_split(X,y,test_size=0.2,random_state=45)"
   ]
  },
  {
   "cell_type": "code",
   "execution_count": 64,
   "id": "557fecd5",
   "metadata": {},
   "outputs": [
    {
     "data": {
      "text/plain": [
       "(      fixed acidity  volatile acidity  citric acid  residual sugar  chlorides  \\\n",
       " 369             9.4             0.270         0.53             2.4      0.074   \n",
       " 458            10.4             0.330         0.63             2.8      0.084   \n",
       " 32              8.3             0.655         0.12             2.3      0.083   \n",
       " 556            10.9             0.530         0.49             4.6      0.118   \n",
       " 145             8.1             0.670         0.55             1.8      0.117   \n",
       " ...             ...               ...          ...             ...        ...   \n",
       " 163             7.4             0.600         0.26             7.3      0.070   \n",
       " 607             8.8             0.480         0.41             3.3      0.092   \n",
       " 1568            7.0             0.560         0.13             1.6      0.077   \n",
       " 414             8.8             0.520         0.34             2.7      0.087   \n",
       " 971            10.4             0.260         0.48             1.9      0.066   \n",
       " \n",
       "       free sulfur dioxide  total sulfur dioxide  density    pH  sulphates  \\\n",
       " 369                   6.0                  18.0  0.99620  3.20       1.13   \n",
       " 458                   5.0                  22.0  0.99980  3.26       0.74   \n",
       " 32                   15.0                 113.0  0.99660  3.17       0.66   \n",
       " 556                  10.0                  17.0  1.00020  3.07       0.56   \n",
       " 145                  32.0                 141.0  0.99680  3.17       0.62   \n",
       " ...                   ...                   ...      ...   ...        ...   \n",
       " 163                  36.0                 121.0  0.99820  3.37       0.49   \n",
       " 607                  26.0                  52.0  0.99820  3.31       0.53   \n",
       " 1568                 25.0                  42.0  0.99629  3.34       0.59   \n",
       " 414                  24.0                 122.0  0.99820  3.26       0.61   \n",
       " 971                   6.0                  10.0  0.99724  3.33       0.87   \n",
       " \n",
       "       alcohol  \n",
       " 369      12.0  \n",
       " 458      11.2  \n",
       " 32        9.8  \n",
       " 556      11.7  \n",
       " 145       9.4  \n",
       " ...       ...  \n",
       " 163       9.4  \n",
       " 607      10.5  \n",
       " 1568      9.2  \n",
       " 414       9.5  \n",
       " 971      10.9  \n",
       " \n",
       " [1279 rows x 11 columns],\n",
       " 369     1\n",
       " 458     1\n",
       " 32      0\n",
       " 556     1\n",
       " 145     0\n",
       "        ..\n",
       " 163     0\n",
       " 607     1\n",
       " 1568    0\n",
       " 414     0\n",
       " 971     1\n",
       " Name: quality, Length: 1279, dtype: int32)"
      ]
     },
     "execution_count": 64,
     "metadata": {},
     "output_type": "execute_result"
    }
   ],
   "source": [
    "X_train,y_train"
   ]
  },
  {
   "cell_type": "markdown",
   "id": "6cd33419",
   "metadata": {},
   "source": [
    "# Q6. Scale the dataset using an appropriate scaling technique."
   ]
  },
  {
   "cell_type": "code",
   "execution_count": 65,
   "id": "5785dfcb",
   "metadata": {},
   "outputs": [],
   "source": [
    "from sklearn.preprocessing import StandardScaler\n",
    "sc=StandardScaler()\n",
    "X_train=sc.fit_transform(X_train)\n",
    "X_test=sc.transform(X_test)"
   ]
  },
  {
   "cell_type": "markdown",
   "id": "e105ad78",
   "metadata": {},
   "source": [
    "# Q7. Design and implement at least two hidden layers and an output layer for the binary categorical variables."
   ]
  },
  {
   "cell_type": "code",
   "execution_count": 66,
   "id": "b1260a80",
   "metadata": {},
   "outputs": [],
   "source": [
    "from keras import layers"
   ]
  },
  {
   "cell_type": "code",
   "execution_count": 67,
   "id": "1c7014f4",
   "metadata": {},
   "outputs": [],
   "source": [
    "Layers=[\n",
    "    layers.Flatten(input_shape=(X_train.shape[1],)),\n",
    "    layers.Dense(64,activation='relu',name='hidden1'),\n",
    "    layers.Dense(32,activation='relu',name='hidden2'),\n",
    "    layers.Dense(1,activation='sigmoid',name='outputlayer')\n",
    "]"
   ]
  },
  {
   "cell_type": "markdown",
   "id": "3e6c546f",
   "metadata": {},
   "source": [
    "# Q8. Create a Sequential model in Keras and add the previously designed layers to it."
   ]
  },
  {
   "cell_type": "code",
   "execution_count": 68,
   "id": "af5833b7",
   "metadata": {},
   "outputs": [
    {
     "data": {
      "text/plain": [
       "[<keras.src.layers.reshaping.flatten.Flatten at 0x26d32455050>,\n",
       " <keras.src.layers.core.dense.Dense at 0x26d35bba2d0>,\n",
       " <keras.src.layers.core.dense.Dense at 0x26d32556cd0>,\n",
       " <keras.src.layers.core.dense.Dense at 0x26d32dfac90>]"
      ]
     },
     "execution_count": 68,
     "metadata": {},
     "output_type": "execute_result"
    }
   ],
   "source": [
    "model=keras.Sequential(Layers)\n",
    "model.layers"
   ]
  },
  {
   "cell_type": "markdown",
   "id": "fcafc39b",
   "metadata": {},
   "source": [
    "# Q9. Implement a TensorBoard callback to visualize and monitor the model's training process."
   ]
  },
  {
   "cell_type": "code",
   "execution_count": 69,
   "id": "9c5f3a16",
   "metadata": {},
   "outputs": [
    {
     "name": "stdout",
     "output_type": "stream",
     "text": [
      "The tensorboard extension is already loaded. To reload it, use:\n",
      "  %reload_ext tensorboard\n"
     ]
    }
   ],
   "source": [
    "# from keras.callbacks import TensorBoard\n",
    "log_folder='logs'\n",
    "%load_ext tensorboard\n",
    "tb_callback=keras.callbacks.TensorBoard(log_dir=log_folder,histogram_freq=1)"
   ]
  },
  {
   "cell_type": "code",
   "execution_count": 70,
   "id": "54754185",
   "metadata": {
    "scrolled": true
   },
   "outputs": [
    {
     "data": {
      "text/plain": [
       "Reusing TensorBoard on port 6006 (pid 11276), started 0:20:44 ago. (Use '!kill 11276' to kill it.)"
      ]
     },
     "metadata": {},
     "output_type": "display_data"
    },
    {
     "data": {
      "text/html": [
       "\n",
       "      <iframe id=\"tensorboard-frame-bb42dcfff2bd8d96\" width=\"100%\" height=\"800\" frameborder=\"0\">\n",
       "      </iframe>\n",
       "      <script>\n",
       "        (function() {\n",
       "          const frame = document.getElementById(\"tensorboard-frame-bb42dcfff2bd8d96\");\n",
       "          const url = new URL(\"/\", window.location);\n",
       "          const port = 6006;\n",
       "          if (port) {\n",
       "            url.port = port;\n",
       "          }\n",
       "          frame.src = url;\n",
       "        })();\n",
       "      </script>\n",
       "    "
      ],
      "text/plain": [
       "<IPython.core.display.HTML object>"
      ]
     },
     "metadata": {},
     "output_type": "display_data"
    }
   ],
   "source": [
    "tensorboard --logdir={log_folder}"
   ]
  },
  {
   "cell_type": "markdown",
   "id": "64043303",
   "metadata": {},
   "source": [
    "# Q10. Use Early Stopping to prevent overfitting by monitoring a chosen metric and stopping the training if no improvement is observed."
   ]
  },
  {
   "cell_type": "code",
   "execution_count": 71,
   "id": "98ff7e10",
   "metadata": {},
   "outputs": [],
   "source": [
    "early_stop_cb=keras.callbacks.EarlyStopping(patience=5,restore_best_weights=True)"
   ]
  },
  {
   "cell_type": "markdown",
   "id": "e6dc5ddb",
   "metadata": {},
   "source": [
    "# Q11. Implement a ModelCheckpoint callback to save the best model based on a chosen metric during training."
   ]
  },
  {
   "cell_type": "code",
   "execution_count": 72,
   "id": "ed2e50b1",
   "metadata": {},
   "outputs": [],
   "source": [
    "CKPT_path=\"model_chkpt\"\n",
    "checkpt_cb=keras.callbacks.ModelCheckpoint(CKPT_path,save_best_only=True)"
   ]
  },
  {
   "cell_type": "markdown",
   "id": "092ca0c7",
   "metadata": {},
   "source": [
    "# Q12. Print the summary of the model architecture."
   ]
  },
  {
   "cell_type": "code",
   "execution_count": 73,
   "id": "d1832b65",
   "metadata": {},
   "outputs": [
    {
     "name": "stdout",
     "output_type": "stream",
     "text": [
      "Model: \"sequential_1\"\n",
      "_________________________________________________________________\n",
      " Layer (type)                Output Shape              Param #   \n",
      "=================================================================\n",
      " flatten_1 (Flatten)         (None, 11)                0         \n",
      "                                                                 \n",
      " hidden1 (Dense)             (None, 64)                768       \n",
      "                                                                 \n",
      " hidden2 (Dense)             (None, 32)                2080      \n",
      "                                                                 \n",
      " outputlayer (Dense)         (None, 1)                 33        \n",
      "                                                                 \n",
      "=================================================================\n",
      "Total params: 2881 (11.25 KB)\n",
      "Trainable params: 2881 (11.25 KB)\n",
      "Non-trainable params: 0 (0.00 Byte)\n",
      "_________________________________________________________________\n"
     ]
    }
   ],
   "source": [
    "model.summary()"
   ]
  },
  {
   "cell_type": "markdown",
   "id": "03d45199",
   "metadata": {},
   "source": [
    "# Q13. Set the loss function(‘binary_crossentropy’), optimizer, and include the accuracy metric in the model."
   ]
  },
  {
   "cell_type": "code",
   "execution_count": 74,
   "id": "98de21d8",
   "metadata": {},
   "outputs": [],
   "source": [
    "Loss_fn='binary_crossentropy'\n",
    "opt='Adam'\n",
    "met=['accuracy']"
   ]
  },
  {
   "cell_type": "markdown",
   "id": "d80b4966",
   "metadata": {},
   "source": [
    "# Q14. Compile the model with the specified loss function, optimizer, and metrics."
   ]
  },
  {
   "cell_type": "code",
   "execution_count": 75,
   "id": "2a958137",
   "metadata": {},
   "outputs": [],
   "source": [
    "model.compile(\n",
    "loss=Loss_fn,\n",
    "optimizer=opt,\n",
    "metrics=met)"
   ]
  },
  {
   "cell_type": "markdown",
   "id": "974e4891",
   "metadata": {},
   "source": [
    "# Q15. Fit the model to the training data using appropriate batch size and number of epochs."
   ]
  },
  {
   "cell_type": "code",
   "execution_count": 76,
   "id": "ff7fabaa",
   "metadata": {},
   "outputs": [
    {
     "name": "stdout",
     "output_type": "stream",
     "text": [
      "Epoch 1/30\n",
      "34/40 [========================>.....] - ETA: 0s - loss: 0.6253 - accuracy: 0.6590INFO:tensorflow:Assets written to: model_chkpt\\assets\n"
     ]
    },
    {
     "name": "stderr",
     "output_type": "stream",
     "text": [
      "INFO:tensorflow:Assets written to: model_chkpt\\assets\n"
     ]
    },
    {
     "name": "stdout",
     "output_type": "stream",
     "text": [
      "40/40 [==============================] - 3s 33ms/step - loss: 0.6154 - accuracy: 0.6708 - val_loss: 0.5345 - val_accuracy: 0.7344\n",
      "Epoch 2/30\n",
      "40/40 [==============================] - ETA: 0s - loss: 0.5436 - accuracy: 0.7357INFO:tensorflow:Assets written to: model_chkpt\\assets\n"
     ]
    },
    {
     "name": "stderr",
     "output_type": "stream",
     "text": [
      "INFO:tensorflow:Assets written to: model_chkpt\\assets\n"
     ]
    },
    {
     "name": "stdout",
     "output_type": "stream",
     "text": [
      "40/40 [==============================] - 1s 25ms/step - loss: 0.5436 - accuracy: 0.7357 - val_loss: 0.4968 - val_accuracy: 0.7594\n",
      "Epoch 3/30\n",
      "39/40 [============================>.] - ETA: 0s - loss: 0.5235 - accuracy: 0.7308INFO:tensorflow:Assets written to: model_chkpt\\assets\n"
     ]
    },
    {
     "name": "stderr",
     "output_type": "stream",
     "text": [
      "INFO:tensorflow:Assets written to: model_chkpt\\assets\n"
     ]
    },
    {
     "name": "stdout",
     "output_type": "stream",
     "text": [
      "40/40 [==============================] - 1s 24ms/step - loss: 0.5227 - accuracy: 0.7310 - val_loss: 0.4874 - val_accuracy: 0.7688\n",
      "Epoch 4/30\n",
      "40/40 [==============================] - ETA: 0s - loss: 0.5120 - accuracy: 0.7490INFO:tensorflow:Assets written to: model_chkpt\\assets\n"
     ]
    },
    {
     "name": "stderr",
     "output_type": "stream",
     "text": [
      "INFO:tensorflow:Assets written to: model_chkpt\\assets\n"
     ]
    },
    {
     "name": "stdout",
     "output_type": "stream",
     "text": [
      "40/40 [==============================] - 1s 24ms/step - loss: 0.5120 - accuracy: 0.7490 - val_loss: 0.4776 - val_accuracy: 0.7781\n",
      "Epoch 5/30\n",
      "40/40 [==============================] - ETA: 0s - loss: 0.5051 - accuracy: 0.7412INFO:tensorflow:Assets written to: model_chkpt\\assets\n"
     ]
    },
    {
     "name": "stderr",
     "output_type": "stream",
     "text": [
      "INFO:tensorflow:Assets written to: model_chkpt\\assets\n"
     ]
    },
    {
     "name": "stdout",
     "output_type": "stream",
     "text": [
      "40/40 [==============================] - 1s 23ms/step - loss: 0.5051 - accuracy: 0.7412 - val_loss: 0.4731 - val_accuracy: 0.7844\n",
      "Epoch 6/30\n",
      "39/40 [============================>.] - ETA: 0s - loss: 0.4977 - accuracy: 0.7532INFO:tensorflow:Assets written to: model_chkpt\\assets\n"
     ]
    },
    {
     "name": "stderr",
     "output_type": "stream",
     "text": [
      "INFO:tensorflow:Assets written to: model_chkpt\\assets\n"
     ]
    },
    {
     "name": "stdout",
     "output_type": "stream",
     "text": [
      "40/40 [==============================] - 1s 23ms/step - loss: 0.4966 - accuracy: 0.7522 - val_loss: 0.4703 - val_accuracy: 0.7937\n",
      "Epoch 7/30\n",
      "39/40 [============================>.] - ETA: 0s - loss: 0.4924 - accuracy: 0.7588INFO:tensorflow:Assets written to: model_chkpt\\assets\n"
     ]
    },
    {
     "name": "stderr",
     "output_type": "stream",
     "text": [
      "INFO:tensorflow:Assets written to: model_chkpt\\assets\n"
     ]
    },
    {
     "name": "stdout",
     "output_type": "stream",
     "text": [
      "40/40 [==============================] - 1s 23ms/step - loss: 0.4906 - accuracy: 0.7600 - val_loss: 0.4661 - val_accuracy: 0.7937\n",
      "Epoch 8/30\n",
      "21/40 [==============>...............] - ETA: 0s - loss: 0.4717 - accuracy: 0.7783INFO:tensorflow:Assets written to: model_chkpt\\assets\n"
     ]
    },
    {
     "name": "stderr",
     "output_type": "stream",
     "text": [
      "INFO:tensorflow:Assets written to: model_chkpt\\assets\n"
     ]
    },
    {
     "name": "stdout",
     "output_type": "stream",
     "text": [
      "40/40 [==============================] - 1s 23ms/step - loss: 0.4860 - accuracy: 0.7592 - val_loss: 0.4596 - val_accuracy: 0.7844\n",
      "Epoch 9/30\n",
      "37/40 [==========================>...] - ETA: 0s - loss: 0.4750 - accuracy: 0.7601INFO:tensorflow:Assets written to: model_chkpt\\assets\n"
     ]
    },
    {
     "name": "stderr",
     "output_type": "stream",
     "text": [
      "INFO:tensorflow:Assets written to: model_chkpt\\assets\n"
     ]
    },
    {
     "name": "stdout",
     "output_type": "stream",
     "text": [
      "40/40 [==============================] - 1s 25ms/step - loss: 0.4819 - accuracy: 0.7576 - val_loss: 0.4593 - val_accuracy: 0.7937\n",
      "Epoch 10/30\n",
      "40/40 [==============================] - 0s 6ms/step - loss: 0.4792 - accuracy: 0.7576 - val_loss: 0.4617 - val_accuracy: 0.7906\n",
      "Epoch 11/30\n",
      "40/40 [==============================] - 0s 6ms/step - loss: 0.4740 - accuracy: 0.7608 - val_loss: 0.4594 - val_accuracy: 0.7937\n",
      "Epoch 12/30\n",
      "20/40 [==============>...............] - ETA: 0s - loss: 0.4931 - accuracy: 0.7547INFO:tensorflow:Assets written to: model_chkpt\\assets\n"
     ]
    },
    {
     "name": "stderr",
     "output_type": "stream",
     "text": [
      "INFO:tensorflow:Assets written to: model_chkpt\\assets\n"
     ]
    },
    {
     "name": "stdout",
     "output_type": "stream",
     "text": [
      "40/40 [==============================] - 1s 36ms/step - loss: 0.4737 - accuracy: 0.7623 - val_loss: 0.4564 - val_accuracy: 0.7812\n",
      "Epoch 13/30\n",
      "40/40 [==============================] - 0s 6ms/step - loss: 0.4702 - accuracy: 0.7678 - val_loss: 0.4627 - val_accuracy: 0.7969\n",
      "Epoch 14/30\n",
      "40/40 [==============================] - ETA: 0s - loss: 0.4655 - accuracy: 0.7686INFO:tensorflow:Assets written to: model_chkpt\\assets\n"
     ]
    },
    {
     "name": "stderr",
     "output_type": "stream",
     "text": [
      "INFO:tensorflow:Assets written to: model_chkpt\\assets\n"
     ]
    },
    {
     "name": "stdout",
     "output_type": "stream",
     "text": [
      "40/40 [==============================] - 1s 24ms/step - loss: 0.4655 - accuracy: 0.7686 - val_loss: 0.4560 - val_accuracy: 0.7937\n",
      "Epoch 15/30\n",
      "40/40 [==============================] - ETA: 0s - loss: 0.4614 - accuracy: 0.7764INFO:tensorflow:Assets written to: model_chkpt\\assets\n"
     ]
    },
    {
     "name": "stderr",
     "output_type": "stream",
     "text": [
      "INFO:tensorflow:Assets written to: model_chkpt\\assets\n"
     ]
    },
    {
     "name": "stdout",
     "output_type": "stream",
     "text": [
      "40/40 [==============================] - 1s 23ms/step - loss: 0.4614 - accuracy: 0.7764 - val_loss: 0.4529 - val_accuracy: 0.8000\n",
      "Epoch 16/30\n",
      "38/40 [===========================>..] - ETA: 0s - loss: 0.4561 - accuracy: 0.7829INFO:tensorflow:Assets written to: model_chkpt\\assets\n"
     ]
    },
    {
     "name": "stderr",
     "output_type": "stream",
     "text": [
      "INFO:tensorflow:Assets written to: model_chkpt\\assets\n"
     ]
    },
    {
     "name": "stdout",
     "output_type": "stream",
     "text": [
      "40/40 [==============================] - 1s 25ms/step - loss: 0.4608 - accuracy: 0.7756 - val_loss: 0.4493 - val_accuracy: 0.7906\n",
      "Epoch 17/30\n",
      "40/40 [==============================] - 0s 6ms/step - loss: 0.4594 - accuracy: 0.7670 - val_loss: 0.4699 - val_accuracy: 0.7875\n",
      "Epoch 18/30\n",
      "40/40 [==============================] - 0s 6ms/step - loss: 0.4558 - accuracy: 0.7748 - val_loss: 0.4608 - val_accuracy: 0.7906\n",
      "Epoch 19/30\n",
      "40/40 [==============================] - 0s 6ms/step - loss: 0.4544 - accuracy: 0.7772 - val_loss: 0.4507 - val_accuracy: 0.8031\n",
      "Epoch 20/30\n",
      "21/40 [==============>...............] - ETA: 0s - loss: 0.4545 - accuracy: 0.7872INFO:tensorflow:Assets written to: model_chkpt\\assets\n"
     ]
    },
    {
     "name": "stderr",
     "output_type": "stream",
     "text": [
      "INFO:tensorflow:Assets written to: model_chkpt\\assets\n"
     ]
    },
    {
     "name": "stdout",
     "output_type": "stream",
     "text": [
      "40/40 [==============================] - 1s 22ms/step - loss: 0.4492 - accuracy: 0.7850 - val_loss: 0.4479 - val_accuracy: 0.8094\n",
      "Epoch 21/30\n",
      "40/40 [==============================] - 0s 6ms/step - loss: 0.4446 - accuracy: 0.7819 - val_loss: 0.4485 - val_accuracy: 0.8000\n",
      "Epoch 22/30\n",
      "35/40 [=========================>....] - ETA: 0s - loss: 0.4476 - accuracy: 0.7857INFO:tensorflow:Assets written to: model_chkpt\\assets\n"
     ]
    },
    {
     "name": "stderr",
     "output_type": "stream",
     "text": [
      "INFO:tensorflow:Assets written to: model_chkpt\\assets\n"
     ]
    },
    {
     "name": "stdout",
     "output_type": "stream",
     "text": [
      "40/40 [==============================] - 1s 24ms/step - loss: 0.4427 - accuracy: 0.7889 - val_loss: 0.4469 - val_accuracy: 0.7969\n",
      "Epoch 23/30\n",
      "40/40 [==============================] - 0s 6ms/step - loss: 0.4392 - accuracy: 0.7858 - val_loss: 0.4482 - val_accuracy: 0.8031\n",
      "Epoch 24/30\n",
      "40/40 [==============================] - 0s 6ms/step - loss: 0.4389 - accuracy: 0.7858 - val_loss: 0.4482 - val_accuracy: 0.7937\n",
      "Epoch 25/30\n",
      "40/40 [==============================] - 0s 6ms/step - loss: 0.4334 - accuracy: 0.7897 - val_loss: 0.4484 - val_accuracy: 0.7812\n",
      "Epoch 26/30\n",
      "40/40 [==============================] - 0s 6ms/step - loss: 0.4346 - accuracy: 0.7920 - val_loss: 0.4521 - val_accuracy: 0.7906\n",
      "Epoch 27/30\n",
      "36/40 [==========================>...] - ETA: 0s - loss: 0.4214 - accuracy: 0.7960INFO:tensorflow:Assets written to: model_chkpt\\assets\n"
     ]
    },
    {
     "name": "stderr",
     "output_type": "stream",
     "text": [
      "INFO:tensorflow:Assets written to: model_chkpt\\assets\n"
     ]
    },
    {
     "name": "stdout",
     "output_type": "stream",
     "text": [
      "40/40 [==============================] - 1s 23ms/step - loss: 0.4301 - accuracy: 0.7920 - val_loss: 0.4453 - val_accuracy: 0.7875\n",
      "Epoch 28/30\n",
      "39/40 [============================>.] - ETA: 0s - loss: 0.4216 - accuracy: 0.7981INFO:tensorflow:Assets written to: model_chkpt\\assets\n"
     ]
    },
    {
     "name": "stderr",
     "output_type": "stream",
     "text": [
      "INFO:tensorflow:Assets written to: model_chkpt\\assets\n"
     ]
    },
    {
     "name": "stdout",
     "output_type": "stream",
     "text": [
      "40/40 [==============================] - 1s 24ms/step - loss: 0.4250 - accuracy: 0.7959 - val_loss: 0.4446 - val_accuracy: 0.7906\n",
      "Epoch 29/30\n",
      "40/40 [==============================] - 0s 6ms/step - loss: 0.4225 - accuracy: 0.7998 - val_loss: 0.4471 - val_accuracy: 0.8000\n",
      "Epoch 30/30\n",
      "40/40 [==============================] - 0s 6ms/step - loss: 0.4220 - accuracy: 0.7998 - val_loss: 0.4500 - val_accuracy: 0.7781\n"
     ]
    }
   ],
   "source": [
    "epochs=30\n",
    "valid_set=(X_test,y_test)\n",
    "\n",
    "history=model.fit(X_train,y_train,epochs=epochs, validation_data=valid_set,batch_size=32,\n",
    "                 callbacks=[tb_callback,early_stop_cb,checkpt_cb])"
   ]
  },
  {
   "cell_type": "code",
   "execution_count": 77,
   "id": "71a43cd6",
   "metadata": {},
   "outputs": [
    {
     "name": "stdout",
     "output_type": "stream",
     "text": [
      "Epoch 1/30\n",
      "37/40 [==========================>...] - ETA: 0s - loss: 0.4287 - accuracy: 0.7931INFO:tensorflow:Assets written to: model_chkpt\\assets\n"
     ]
    },
    {
     "name": "stderr",
     "output_type": "stream",
     "text": [
      "INFO:tensorflow:Assets written to: model_chkpt\\assets\n"
     ]
    },
    {
     "name": "stdout",
     "output_type": "stream",
     "text": [
      "40/40 [==============================] - 2s 31ms/step - loss: 0.4265 - accuracy: 0.7936 - val_loss: 0.4443 - val_accuracy: 0.7844\n",
      "Epoch 2/30\n",
      "40/40 [==============================] - 0s 6ms/step - loss: 0.4204 - accuracy: 0.7991 - val_loss: 0.4584 - val_accuracy: 0.7937\n",
      "Epoch 3/30\n",
      "40/40 [==============================] - 0s 7ms/step - loss: 0.4216 - accuracy: 0.8030 - val_loss: 0.4501 - val_accuracy: 0.7937\n",
      "Epoch 4/30\n",
      "40/40 [==============================] - 0s 6ms/step - loss: 0.4153 - accuracy: 0.8069 - val_loss: 0.4568 - val_accuracy: 0.7906\n",
      "Epoch 5/30\n",
      "40/40 [==============================] - 0s 6ms/step - loss: 0.4123 - accuracy: 0.8069 - val_loss: 0.4497 - val_accuracy: 0.7844\n",
      "Epoch 6/30\n",
      "38/40 [===========================>..] - ETA: 0s - loss: 0.4091 - accuracy: 0.8051INFO:tensorflow:Assets written to: model_chkpt\\assets\n"
     ]
    },
    {
     "name": "stderr",
     "output_type": "stream",
     "text": [
      "INFO:tensorflow:Assets written to: model_chkpt\\assets\n"
     ]
    },
    {
     "name": "stdout",
     "output_type": "stream",
     "text": [
      "40/40 [==============================] - 1s 24ms/step - loss: 0.4118 - accuracy: 0.8014 - val_loss: 0.4440 - val_accuracy: 0.7812\n",
      "Epoch 7/30\n",
      "40/40 [==============================] - 0s 6ms/step - loss: 0.4105 - accuracy: 0.8053 - val_loss: 0.4446 - val_accuracy: 0.7906\n",
      "Epoch 8/30\n",
      "40/40 [==============================] - 0s 6ms/step - loss: 0.4047 - accuracy: 0.8092 - val_loss: 0.4522 - val_accuracy: 0.8000\n",
      "Epoch 9/30\n",
      "21/40 [==============>...............] - ETA: 0s - loss: 0.4134 - accuracy: 0.7932INFO:tensorflow:Assets written to: model_chkpt\\assets\n"
     ]
    },
    {
     "name": "stderr",
     "output_type": "stream",
     "text": [
      "INFO:tensorflow:Assets written to: model_chkpt\\assets\n"
     ]
    },
    {
     "name": "stdout",
     "output_type": "stream",
     "text": [
      "40/40 [==============================] - 1s 24ms/step - loss: 0.4035 - accuracy: 0.8100 - val_loss: 0.4408 - val_accuracy: 0.7844\n",
      "Epoch 10/30\n",
      "40/40 [==============================] - 0s 6ms/step - loss: 0.3995 - accuracy: 0.8178 - val_loss: 0.4491 - val_accuracy: 0.7969\n",
      "Epoch 11/30\n",
      "40/40 [==============================] - 0s 6ms/step - loss: 0.3966 - accuracy: 0.8139 - val_loss: 0.4411 - val_accuracy: 0.7875\n",
      "Epoch 12/30\n",
      "40/40 [==============================] - 0s 6ms/step - loss: 0.3966 - accuracy: 0.8178 - val_loss: 0.4482 - val_accuracy: 0.7937\n",
      "Epoch 13/30\n",
      "40/40 [==============================] - 0s 6ms/step - loss: 0.3900 - accuracy: 0.8163 - val_loss: 0.4496 - val_accuracy: 0.7875\n",
      "Epoch 14/30\n",
      "40/40 [==============================] - 0s 6ms/step - loss: 0.3912 - accuracy: 0.8194 - val_loss: 0.4535 - val_accuracy: 0.7937\n"
     ]
    }
   ],
   "source": [
    "ckpt_model=keras.models.load_model(CKPT_path)\n",
    "history=ckpt_model.fit(X_train,y_train,epochs=epochs, validation_data=valid_set,batch_size=32,\n",
    "                 callbacks=[tb_callback,early_stop_cb,checkpt_cb])"
   ]
  },
  {
   "cell_type": "code",
   "execution_count": 78,
   "id": "af44f387",
   "metadata": {},
   "outputs": [],
   "source": [
    "import time\n",
    "import os\n",
    "\n",
    "def save_model_path(MODEL_dir = \"TRAINED_MODEL\"):\n",
    "  os.makedirs(MODEL_dir, exist_ok= True)\n",
    "  fileName = time.strftime(\"Model_%Y_%m_%d_%H_%M_%S_.h5\")\n",
    "  model_path = os.path.join(MODEL_dir, fileName)\n",
    "  print(f\"Model {fileName} will be saved at {model_path}\")\n",
    "  return model_path"
   ]
  },
  {
   "cell_type": "code",
   "execution_count": 79,
   "id": "199c35dc",
   "metadata": {},
   "outputs": [
    {
     "name": "stdout",
     "output_type": "stream",
     "text": [
      "Model Model_2023_10_23_01_45_08_.h5 will be saved at TRAINED_MODEL\\Model_2023_10_23_01_45_08_.h5\n"
     ]
    },
    {
     "data": {
      "text/plain": [
       "'TRAINED_MODEL\\\\Model_2023_10_23_01_45_08_.h5'"
      ]
     },
     "execution_count": 79,
     "metadata": {},
     "output_type": "execute_result"
    }
   ],
   "source": [
    "UNIQUE_PATH = save_model_path()\n",
    "UNIQUE_PATH "
   ]
  },
  {
   "cell_type": "code",
   "execution_count": 80,
   "id": "7f7d4294",
   "metadata": {},
   "outputs": [
    {
     "name": "stderr",
     "output_type": "stream",
     "text": [
      "C:\\Users\\inder\\AppData\\Local\\Temp\\ipykernel_20024\\1331571554.py:1: UserWarning: You are saving your model as an HDF5 file via `model.save()`. This file format is considered legacy. We recommend using instead the native Keras format, e.g. `model.save('my_model.keras')`.\n",
      "  keras.models.save_model(model, UNIQUE_PATH)\n"
     ]
    }
   ],
   "source": [
    "keras.models.save_model(model, UNIQUE_PATH)"
   ]
  },
  {
   "cell_type": "markdown",
   "id": "8d61e6d4",
   "metadata": {},
   "source": [
    "# Q16. Obtain the model's parameters (weights and biases)."
   ]
  },
  {
   "cell_type": "code",
   "execution_count": 81,
   "id": "01a2ee7a",
   "metadata": {
    "scrolled": false
   },
   "outputs": [
    {
     "name": "stdout",
     "output_type": "stream",
     "text": [
      "Layer hidden1:\n",
      "Weights: [[-2.50926971e-01 -2.33549178e-01 -5.07669263e-02 -2.88491637e-01\n",
      "   1.27288133e-01 -9.12136659e-02  2.39240095e-01 -2.19244227e-01\n",
      "   7.99698289e-03  1.92054778e-01  2.26915404e-01  1.93840172e-02\n",
      "  -1.83716074e-01  1.77420639e-02 -1.15776747e-01  1.45476103e-01\n",
      "   6.69498965e-02  2.60507524e-01  2.01356068e-01  1.99041590e-01\n",
      "  -7.92575479e-02 -4.61928211e-02  1.22475952e-01  2.76103437e-01\n",
      "   1.33472532e-01 -1.19459480e-01  7.35339373e-02 -3.05457354e-01\n",
      "   2.55196899e-01 -2.69384474e-01 -9.35901627e-02  1.05390780e-01\n",
      "   2.26037398e-01 -1.66858416e-02  3.33817244e-01  1.68416202e-01\n",
      "   9.41480398e-02  8.58293995e-02  4.09005806e-02  2.06055954e-01\n",
      "   1.61113873e-01 -9.89078805e-02  1.99246302e-01  2.36966789e-01\n",
      "  -8.09697211e-02  7.87142012e-03 -3.48017901e-01  2.27511138e-01\n",
      "   2.29457498e-01 -1.01004072e-01  6.70939833e-02 -1.69685975e-01\n",
      "   2.80027956e-01 -8.44040234e-03 -1.64907634e-01 -1.05549134e-01\n",
      "  -2.11722985e-01  8.66154507e-02  1.97741762e-01 -1.18791133e-01\n",
      "   5.25992587e-02 -1.90879166e-01  3.52710858e-02 -1.59909785e-01]\n",
      " [-3.33423987e-02  8.13841745e-02 -1.69971570e-01  1.21193863e-01\n",
      "  -1.91166744e-01 -4.71848920e-02 -3.10729414e-01  1.70275182e-01\n",
      "  -1.51963145e-01  2.24974409e-01  2.17159361e-01 -7.80726001e-02\n",
      "  -2.60071427e-01  2.35375792e-01  2.00134441e-01 -1.38926223e-01\n",
      "  -5.55917025e-02 -8.46545920e-02 -1.17290718e-02  3.07543203e-02\n",
      "  -2.76760459e-01  1.70281544e-01 -6.86090216e-02  1.81484923e-01\n",
      "   2.16220841e-01 -1.36281401e-01 -9.41011459e-02  3.08080316e-02\n",
      "   7.75144473e-02 -3.32686067e-01  2.18694702e-01 -7.02403411e-02\n",
      "  -1.13621382e-02  3.98246013e-02 -1.12860121e-01  1.49755135e-01\n",
      "  -1.09353013e-01 -2.51521260e-01 -5.91422021e-02 -2.32537448e-01\n",
      "   2.94041067e-01 -1.36602789e-01 -1.41589390e-02  2.06110895e-01\n",
      "  -2.19429433e-01  2.71295696e-01  9.92445797e-02  2.22463280e-01\n",
      "   2.67479513e-02 -1.19598985e-01  3.33796978e-01 -1.86484233e-01\n",
      "  -1.63098365e-01 -1.32157415e-01 -3.01929086e-01  2.83057213e-01\n",
      "  -2.50800133e-01 -3.54631618e-02 -2.27130633e-02 -1.26551688e-01\n",
      "   3.65262218e-02 -3.37487638e-01 -1.96487173e-01 -4.36308496e-02]\n",
      " [ 2.32332900e-01  3.18802670e-02 -1.95555478e-01  1.40488788e-01\n",
      "  -3.39529105e-02  1.88000739e-01 -2.84219146e-01 -5.06776869e-01\n",
      "  -2.72412091e-01  6.18941076e-02 -3.33619386e-01  2.05749229e-01\n",
      "   2.47060657e-01 -2.83270776e-01  8.10848773e-02  1.61700770e-01\n",
      "  -2.44875759e-01  1.16026804e-01 -2.41550475e-01 -1.59879267e-01\n",
      "   6.10832358e-03 -5.01555484e-03  1.83978647e-01 -1.59915954e-01\n",
      "   5.39611764e-02  2.54358709e-01  2.19493449e-01  2.67812848e-01\n",
      "   9.27251577e-02  1.56323329e-01 -2.91325003e-02  3.37622643e-01\n",
      "   1.59761786e-01  3.37488115e-01  3.03529263e-01 -2.57790715e-01\n",
      "  -2.80840665e-01  1.36181012e-01 -3.70162606e-01 -1.55474186e-01\n",
      "  -7.71949887e-02 -1.04890540e-01 -2.26712406e-01  3.04744095e-01\n",
      "  -2.38042563e-01  2.78156608e-01 -1.77270383e-01  1.64102808e-01\n",
      "  -7.20192045e-02  2.71543235e-01  1.18099593e-01 -1.02085702e-01\n",
      "   7.68101588e-02  2.31501177e-01  1.14289269e-01 -8.45675170e-02\n",
      "   9.62308347e-02 -1.37969300e-01  1.26644477e-01  1.54600054e-01\n",
      "  -2.93313801e-01  3.37542415e-01 -2.36789748e-01 -1.28675058e-01]\n",
      " [ 1.57087550e-01  3.16456631e-02  3.38438749e-01  4.06323671e-02\n",
      "  -1.17792385e-02  2.16899887e-01  8.81542359e-03 -1.28942639e-01\n",
      "   1.23774491e-01  1.17274791e-01  9.49653164e-02  6.72486126e-02\n",
      "  -4.36009653e-02 -3.63503218e-01  5.35528846e-02 -1.96162537e-01\n",
      "   1.50364405e-02 -1.01458974e-01 -2.65047908e-01 -1.33772746e-01\n",
      "  -6.36388436e-02  9.40853804e-02  1.77778713e-02  5.50168343e-02\n",
      "   2.18651801e-01  1.92054391e-01 -4.21094596e-02  3.25118899e-02\n",
      "   3.53901148e-01 -6.10039234e-02 -1.44851223e-01  1.36296386e-02\n",
      "  -8.92484933e-02  8.19414109e-02  7.82625377e-02 -3.02609414e-01\n",
      "   1.52681336e-01  3.35834585e-02  7.19332471e-02  2.23863512e-01\n",
      "  -9.21802502e-03  2.00113729e-01 -1.32049441e-01 -2.87035499e-02\n",
      "  -1.73916742e-01  2.69065738e-01  3.21977019e-01  4.61025275e-02\n",
      "   2.65753448e-01  4.42789979e-02  4.83118137e-03  1.61609769e-01\n",
      "  -3.25868100e-01  1.95764244e-01  2.51942903e-01 -1.58085451e-01\n",
      "   8.36165398e-02 -9.63602141e-02  2.33126849e-01 -1.09043270e-01\n",
      "   3.00148036e-02 -2.07732111e-01 -2.26319954e-01 -1.75282851e-01]\n",
      " [-5.49793914e-02  2.59028878e-02  3.06446224e-01  1.93054393e-01\n",
      "  -3.29165369e-01  3.28249425e-01 -2.23597020e-01  1.63077742e-01\n",
      "  -1.09281182e-01 -1.64392501e-01  6.29123002e-02 -5.20404279e-02\n",
      "  -1.49291158e-01  2.56708056e-01  1.85218379e-02 -1.27003059e-01\n",
      "  -3.54926169e-01  5.91051243e-02 -1.08052917e-01 -1.83161214e-01\n",
      "  -2.27091625e-01  1.42215222e-01  2.84666091e-01 -2.51997232e-01\n",
      "  -2.53854599e-02  4.97182179e-03  2.30572477e-01  2.44901925e-01\n",
      "   2.41584629e-02  4.46609259e-02 -1.29970461e-01 -9.61934701e-02\n",
      "  -2.67561823e-01  2.78689831e-01  3.42783242e-01  4.28200290e-02\n",
      "  -7.23172203e-02  6.15291037e-02  2.16876134e-01  5.73600223e-03\n",
      "   1.94343641e-01  2.15754118e-02  3.13514799e-01  1.69343501e-01\n",
      "  -1.31627738e-01  2.40527093e-01  2.11907938e-01  3.08260173e-01\n",
      "   1.40566096e-01  1.54764121e-02 -3.06760166e-02  1.96545318e-01\n",
      "  -2.79021472e-01  9.20975879e-02 -3.05388402e-02  9.76187643e-03\n",
      "   2.72016823e-01 -2.21059695e-01 -4.63589095e-03  6.17897399e-02\n",
      "  -3.03365916e-01 -1.38141081e-01 -1.71822861e-01 -6.01242594e-02]\n",
      " [ 8.76976177e-02  2.98568666e-01 -9.42579731e-02  5.56724593e-02\n",
      "  -1.75518677e-01  1.22397132e-02  1.53933987e-01  4.04252596e-02\n",
      "   1.20047472e-01 -3.09136808e-01 -1.28624693e-01 -1.48390219e-01\n",
      "  -1.55905321e-01 -1.22323014e-01 -2.40574256e-01  1.46304637e-01\n",
      "  -4.02664244e-01 -6.73524588e-02  1.93275943e-01  9.86342430e-02\n",
      "  -1.66269973e-01 -3.28904092e-01 -3.61886293e-01  3.90870720e-02\n",
      "  -1.44335032e-01 -3.31066921e-02 -4.11408246e-02 -3.22653651e-01\n",
      "   7.48061836e-02 -6.58749714e-02  5.92599325e-02 -1.06377773e-01\n",
      "   2.68227369e-01  2.38062963e-01 -3.06112617e-01 -2.01813579e-01\n",
      "  -2.85863817e-01 -2.26397626e-02  3.05299722e-02  1.42307326e-01\n",
      "   2.00097933e-01 -8.75450596e-02  1.99745730e-01  9.43094864e-02\n",
      "  -2.94232219e-01  3.03561985e-01 -2.13040337e-01  7.63246343e-02\n",
      "  -1.44579413e-03 -3.50116729e-03  3.68520655e-02 -3.13798115e-02\n",
      "   1.26646638e-01  1.85824379e-01  1.09438404e-01 -1.61912695e-01\n",
      "   1.56286374e-01 -1.19977646e-01 -1.93236604e-01 -1.66258991e-01\n",
      "  -3.88653576e-02  1.16592564e-01  6.28619418e-02 -1.39771745e-01]\n",
      " [ 2.06565544e-01  1.51009217e-01  2.23584950e-01  2.65106171e-01\n",
      "   7.75264017e-03 -1.77695557e-01 -1.85956478e-01 -3.11066538e-01\n",
      "  -2.95571595e-01  7.38914385e-02 -1.76827788e-01 -2.40538538e-01\n",
      "   1.97683815e-02  2.65759349e-01 -2.48372987e-01 -3.81367914e-02\n",
      "  -8.62917397e-03  3.20134640e-01  1.98210239e-01 -1.50702506e-01\n",
      "   2.82925606e-01  1.02528244e-01 -3.40967536e-01  1.99526325e-01\n",
      "   2.00658172e-01 -2.59108633e-01  3.70567083e-01 -2.17234626e-01\n",
      "  -2.49286428e-01  2.76158363e-01 -2.66778797e-01  1.93204015e-01\n",
      "   1.45909041e-01 -1.18323773e-01 -8.35550949e-04 -1.28139809e-01\n",
      "   4.71336283e-02  6.44047260e-02 -2.85703421e-01  2.43008807e-01\n",
      "  -1.47999704e-01  1.03148811e-01  2.16295004e-01 -6.41970858e-02\n",
      "  -2.24618167e-01  4.44200411e-02 -3.30660462e-01 -1.22239240e-01\n",
      "   3.59057635e-01  1.75776184e-01 -1.58538818e-02 -5.57449684e-02\n",
      "  -3.05741578e-01 -3.89106164e-04 -4.69846055e-02  1.59006625e-01\n",
      "   3.44933979e-02  2.66053796e-01 -2.66202122e-01 -4.57432896e-01\n",
      "   2.69955516e-01 -1.50427550e-01  8.55675153e-03 -4.78446186e-02]\n",
      " [-2.69329786e-01  1.39580995e-01  2.46776387e-01  3.39966221e-03\n",
      "   2.06653312e-01 -4.02936667e-01  4.09312725e-01 -8.36897194e-02\n",
      "  -2.11763859e-01 -6.33221790e-02  8.36158171e-02  4.64956053e-02\n",
      "  -5.71236238e-02  2.56247252e-01  6.06653653e-02 -1.82568818e-01\n",
      "  -2.44445205e-02  2.99116611e-01  9.43507552e-02  1.75187856e-01\n",
      "   1.64913490e-01  1.28480151e-01  2.65503943e-01 -2.42773697e-01\n",
      "  -1.37082264e-01  5.35800494e-02  3.45263213e-01  2.10325092e-01\n",
      "  -2.78137922e-02  1.76884219e-01  1.88919029e-03 -1.62389740e-01\n",
      "   1.58297285e-01  1.03703775e-01  2.60562986e-01 -3.12485486e-01\n",
      "  -2.25951314e-01  6.33198172e-02  8.35473761e-02 -1.24792725e-01\n",
      "  -4.73638326e-02 -2.59456128e-01  5.67328930e-02 -2.27100849e-01\n",
      "  -3.48077118e-02  2.92626351e-01  7.51773790e-02 -2.02642739e-01\n",
      "  -2.77562916e-01 -2.26921842e-01 -1.22780807e-01 -3.14106256e-01\n",
      "  -3.04074824e-01  1.42880470e-01  8.49500373e-02  1.05864167e-01\n",
      "  -2.51367599e-01  2.80923903e-01 -1.81907460e-01  1.13179207e-01\n",
      "   2.32782692e-01 -1.77492097e-01  2.02967942e-01 -3.08602035e-01]\n",
      " [-1.92247078e-01 -1.30148098e-01 -2.02946723e-01 -3.04393824e-02\n",
      "  -1.32590964e-01 -1.32294102e-02  1.46859018e-02 -7.58485496e-02\n",
      "  -5.08332476e-02  1.20186388e-01 -2.54482608e-02  3.80607307e-01\n",
      "   3.17209214e-01 -2.22990736e-01 -2.23774076e-01 -1.33520439e-01\n",
      "  -1.41624928e-01 -2.37882748e-01 -2.52416611e-01 -6.52437285e-02\n",
      "   1.55395225e-01 -1.61191866e-01  2.26311237e-01  2.12437063e-01\n",
      "  -5.04855774e-02  3.08766901e-01  7.93082193e-02 -1.60984874e-01\n",
      "   2.04221103e-02  1.98449746e-01 -3.60565744e-02  1.40279472e-01\n",
      "   3.40127051e-01  1.27077937e-01  1.55950829e-01  1.32830203e-01\n",
      "   1.51476339e-01 -1.04106907e-02  1.99966446e-01 -2.16174781e-01\n",
      "  -2.32535571e-01 -1.93103909e-01 -1.10154994e-01  3.46234925e-02\n",
      "   2.50661820e-02 -2.26885825e-02  3.72337729e-01  1.71307132e-01\n",
      "  -1.78788051e-01  2.62395322e-01 -1.13085724e-01 -3.07670057e-01\n",
      "  -1.96282491e-01 -1.94611982e-01 -2.37310436e-02  2.75387228e-01\n",
      "  -3.16948406e-02 -1.72757477e-01  1.46294348e-02  1.70728326e-01\n",
      "   2.34551013e-01 -8.15605596e-02 -3.62310410e-01  2.12109610e-01]\n",
      " [-1.45015463e-01  1.35479137e-01 -1.46822825e-01  3.11972499e-01\n",
      "  -4.61230844e-01  1.04387395e-01 -6.14856295e-02 -7.08959550e-02\n",
      "   2.40109161e-01 -1.04104467e-01 -8.41431096e-02 -4.26012456e-01\n",
      "  -3.62120092e-01 -1.87957898e-01  2.30467185e-01 -4.02012884e-05\n",
      "  -6.04548082e-02  1.51863933e-01 -9.03038830e-02  1.24516577e-01\n",
      "   3.25309694e-01 -1.50434136e-01 -1.23785183e-01  8.88894871e-03\n",
      "  -4.03234273e-01 -3.55402619e-01  2.93121487e-01 -3.48091573e-01\n",
      "  -2.04882324e-01 -4.02105339e-02 -3.43327075e-01  1.23693183e-01\n",
      "  -1.21179007e-01 -3.37298103e-02  2.41109394e-02  9.96500701e-02\n",
      "   2.26333752e-01  2.74305224e-01 -1.41718701e-01 -2.91522086e-01\n",
      "  -2.38158181e-01  2.56635547e-02 -2.52021905e-02 -1.33475795e-01\n",
      "  -4.49710101e-01  6.29203543e-02  1.39255181e-01 -2.49497190e-01\n",
      "  -3.62416953e-01  7.93261826e-02  5.77187464e-02  1.72989015e-02\n",
      "   8.45880583e-02 -4.66324203e-02  1.34810492e-01  3.25452834e-02\n",
      "   8.20497870e-02 -2.27845758e-02 -3.96845460e-01 -3.48243602e-02\n",
      "   1.62597358e-01  1.84275940e-01  1.03482492e-01  7.59733468e-02]\n",
      " [-5.71642518e-02 -1.93091065e-01  3.20632420e-02 -2.50275314e-01\n",
      "   5.85229024e-02  8.21094140e-02  8.65769852e-03 -1.89541243e-02\n",
      "   5.79892471e-02  2.56117612e-01  1.23244077e-01  1.83313534e-01\n",
      "  -4.55141515e-02  3.43277574e-01  1.01614222e-02 -5.34054171e-03\n",
      "   9.60660949e-02  2.88932949e-01 -3.76179844e-01  3.63746226e-01\n",
      "   4.75802459e-02 -5.93822636e-03 -3.12631531e-03  3.64191711e-01\n",
      "   3.25591899e-02  1.36260480e-01  1.11306407e-01  1.29763007e-01\n",
      "   2.72048891e-01 -2.73441344e-01 -3.29922847e-02  2.81865746e-01\n",
      "   3.73605311e-01  2.34140024e-01 -3.65296192e-02  7.36594060e-03\n",
      "   3.61795306e-01  2.92685300e-01  3.38891089e-01 -3.57571095e-01\n",
      "   1.08957954e-01  3.18260193e-01 -3.56159836e-01 -1.04689889e-01\n",
      "   2.03564614e-01 -9.92417186e-02 -2.35789761e-01  2.20524475e-01\n",
      "   6.84528649e-02  1.99182212e-01  3.51213723e-01 -1.10575378e-01\n",
      "   2.03771889e-01 -2.12353691e-01  1.52425021e-01 -3.13287079e-01\n",
      "   1.85672596e-01  1.66307688e-01 -2.43117720e-01 -1.47131443e-01\n",
      "   3.79500955e-01 -4.23243307e-02 -2.99577326e-01  3.29850465e-01]]\n",
      "Biases: [ 0.15968624 -0.05235588 -0.10583989 -0.17113328 -0.02171018 -0.0057744\n",
      "  0.0688233  -0.03266522  0.07122814  0.00649071  0.09442615 -0.07898207\n",
      "  0.01697121  0.00168087  0.09087458 -0.09017051  0.062582    0.05063974\n",
      " -0.01387675  0.04795736 -0.0008565  -0.02733689 -0.01520944 -0.0204232\n",
      " -0.02719051 -0.01981914 -0.07728085 -0.00399302 -0.09365975  0.13615327\n",
      " -0.05556509 -0.08571593  0.13950162  0.00119037  0.12284718  0.00764801\n",
      "  0.08520865  0.09933136  0.09082035  0.07488129 -0.02927231  0.07662988\n",
      "  0.00096715 -0.04699103 -0.00955053 -0.07394306 -0.02967098 -0.04985313\n",
      "  0.08204986 -0.0286688   0.15533163  0.06675395 -0.00217306 -0.03551165\n",
      " -0.03015079 -0.04662224  0.05079943 -0.01611867 -0.03783155  0.0821965\n",
      "  0.06088277  0.00403942 -0.07319292  0.0699491 ]\n",
      "Shape: (11, 64)\n",
      "Layer hidden2:\n",
      "Weights: [[-0.09863456 -0.2939822  -0.24280567 ... -0.01730818  0.13928956\n",
      "   0.06032627]\n",
      " [ 0.23710497 -0.1246834   0.11828559 ...  0.32371402 -0.01726157\n",
      "  -0.00067054]\n",
      " [-0.27310884  0.07111292 -0.3154078  ... -0.12852511  0.20946898\n",
      "  -0.242035  ]\n",
      " ...\n",
      " [-0.05577879  0.2719478  -0.24170141 ...  0.1521278  -0.04333589\n",
      "   0.07998328]\n",
      " [-0.04472444  0.06816857 -0.0516852  ...  0.22777735  0.35008973\n",
      "  -0.23137084]\n",
      " [-0.17481154  0.1633814  -0.12454852 ... -0.06500867  0.18238737\n",
      "  -0.0801727 ]]\n",
      "Biases: [-0.02456744  0.08362114  0.03143737  0.04374671 -0.01925205  0.00191498\n",
      " -0.02344023 -0.05302843  0.07593988  0.02892913  0.06171234 -0.03569611\n",
      " -0.02713075  0.0736315   0.06537063  0.02707853 -0.06471651 -0.08053073\n",
      "  0.10529017  0.05611006 -0.06735842 -0.03980419  0.02060723 -0.04873817\n",
      "  0.06381001  0.09135819  0.0624523  -0.03218734  0.03129525 -0.05650757\n",
      " -0.02830019 -0.04843775]\n",
      "Shape: (64, 32)\n",
      "Layer outputlayer:\n",
      "Weights: [[-0.45440966]\n",
      " [ 0.41956946]\n",
      " [ 0.5679064 ]\n",
      " [ 0.45357972]\n",
      " [-0.47195196]\n",
      " [ 0.365523  ]\n",
      " [-0.324339  ]\n",
      " [-0.173376  ]\n",
      " [ 0.13041401]\n",
      " [-0.4972314 ]\n",
      " [ 0.3233239 ]\n",
      " [-0.33284992]\n",
      " [ 0.41889924]\n",
      " [ 0.31305677]\n",
      " [ 0.37836304]\n",
      " [ 0.5720761 ]\n",
      " [-0.25433108]\n",
      " [-0.3270118 ]\n",
      " [ 0.6958229 ]\n",
      " [ 0.63650864]\n",
      " [-0.35057455]\n",
      " [-0.21688674]\n",
      " [ 0.38954774]\n",
      " [-0.17727399]\n",
      " [ 0.32389212]\n",
      " [ 0.24790531]\n",
      " [ 0.50368947]\n",
      " [-0.11003196]\n",
      " [ 0.56106037]\n",
      " [-0.10732432]\n",
      " [-0.4610766 ]\n",
      " [ 0.28174514]]\n",
      "Biases: [0.04878143]\n",
      "Shape: (32, 1)\n"
     ]
    }
   ],
   "source": [
    "for x in model.layers:\n",
    "    if len(x.get_weights())>0:\n",
    "        weights, biases = x.get_weights()\n",
    "        print(f\"Layer {x.name}:\")\n",
    "        print(f\"Weights: {weights}\")\n",
    "        print(f\"Biases: {biases}\")\n",
    "        print(f\"Shape: {weights.shape}\")"
   ]
  },
  {
   "cell_type": "markdown",
   "id": "587e3fc4",
   "metadata": {},
   "source": [
    "# Q17. Store the model's training history as a Pandas DataFrame."
   ]
  },
  {
   "cell_type": "code",
   "execution_count": 82,
   "id": "7e6c7d5f",
   "metadata": {},
   "outputs": [
    {
     "data": {
      "text/html": [
       "<div>\n",
       "<style scoped>\n",
       "    .dataframe tbody tr th:only-of-type {\n",
       "        vertical-align: middle;\n",
       "    }\n",
       "\n",
       "    .dataframe tbody tr th {\n",
       "        vertical-align: top;\n",
       "    }\n",
       "\n",
       "    .dataframe thead th {\n",
       "        text-align: right;\n",
       "    }\n",
       "</style>\n",
       "<table border=\"1\" class=\"dataframe\">\n",
       "  <thead>\n",
       "    <tr style=\"text-align: right;\">\n",
       "      <th></th>\n",
       "      <th>loss</th>\n",
       "      <th>accuracy</th>\n",
       "      <th>val_loss</th>\n",
       "      <th>val_accuracy</th>\n",
       "    </tr>\n",
       "  </thead>\n",
       "  <tbody>\n",
       "    <tr>\n",
       "      <th>0</th>\n",
       "      <td>0.426543</td>\n",
       "      <td>0.793589</td>\n",
       "      <td>0.444337</td>\n",
       "      <td>0.784375</td>\n",
       "    </tr>\n",
       "    <tr>\n",
       "      <th>1</th>\n",
       "      <td>0.420391</td>\n",
       "      <td>0.799062</td>\n",
       "      <td>0.458376</td>\n",
       "      <td>0.793750</td>\n",
       "    </tr>\n",
       "    <tr>\n",
       "      <th>2</th>\n",
       "      <td>0.421579</td>\n",
       "      <td>0.802971</td>\n",
       "      <td>0.450058</td>\n",
       "      <td>0.793750</td>\n",
       "    </tr>\n",
       "    <tr>\n",
       "      <th>3</th>\n",
       "      <td>0.415290</td>\n",
       "      <td>0.806880</td>\n",
       "      <td>0.456752</td>\n",
       "      <td>0.790625</td>\n",
       "    </tr>\n",
       "    <tr>\n",
       "      <th>4</th>\n",
       "      <td>0.412255</td>\n",
       "      <td>0.806880</td>\n",
       "      <td>0.449688</td>\n",
       "      <td>0.784375</td>\n",
       "    </tr>\n",
       "    <tr>\n",
       "      <th>5</th>\n",
       "      <td>0.411759</td>\n",
       "      <td>0.801407</td>\n",
       "      <td>0.444008</td>\n",
       "      <td>0.781250</td>\n",
       "    </tr>\n",
       "    <tr>\n",
       "      <th>6</th>\n",
       "      <td>0.410522</td>\n",
       "      <td>0.805317</td>\n",
       "      <td>0.444604</td>\n",
       "      <td>0.790625</td>\n",
       "    </tr>\n",
       "    <tr>\n",
       "      <th>7</th>\n",
       "      <td>0.404677</td>\n",
       "      <td>0.809226</td>\n",
       "      <td>0.452162</td>\n",
       "      <td>0.800000</td>\n",
       "    </tr>\n",
       "    <tr>\n",
       "      <th>8</th>\n",
       "      <td>0.403525</td>\n",
       "      <td>0.810008</td>\n",
       "      <td>0.440779</td>\n",
       "      <td>0.784375</td>\n",
       "    </tr>\n",
       "    <tr>\n",
       "      <th>9</th>\n",
       "      <td>0.399486</td>\n",
       "      <td>0.817826</td>\n",
       "      <td>0.449092</td>\n",
       "      <td>0.796875</td>\n",
       "    </tr>\n",
       "    <tr>\n",
       "      <th>10</th>\n",
       "      <td>0.396633</td>\n",
       "      <td>0.813917</td>\n",
       "      <td>0.441098</td>\n",
       "      <td>0.787500</td>\n",
       "    </tr>\n",
       "    <tr>\n",
       "      <th>11</th>\n",
       "      <td>0.396632</td>\n",
       "      <td>0.817826</td>\n",
       "      <td>0.448180</td>\n",
       "      <td>0.793750</td>\n",
       "    </tr>\n",
       "    <tr>\n",
       "      <th>12</th>\n",
       "      <td>0.389986</td>\n",
       "      <td>0.816263</td>\n",
       "      <td>0.449628</td>\n",
       "      <td>0.787500</td>\n",
       "    </tr>\n",
       "    <tr>\n",
       "      <th>13</th>\n",
       "      <td>0.391181</td>\n",
       "      <td>0.819390</td>\n",
       "      <td>0.453495</td>\n",
       "      <td>0.793750</td>\n",
       "    </tr>\n",
       "  </tbody>\n",
       "</table>\n",
       "</div>"
      ],
      "text/plain": [
       "        loss  accuracy  val_loss  val_accuracy\n",
       "0   0.426543  0.793589  0.444337      0.784375\n",
       "1   0.420391  0.799062  0.458376      0.793750\n",
       "2   0.421579  0.802971  0.450058      0.793750\n",
       "3   0.415290  0.806880  0.456752      0.790625\n",
       "4   0.412255  0.806880  0.449688      0.784375\n",
       "5   0.411759  0.801407  0.444008      0.781250\n",
       "6   0.410522  0.805317  0.444604      0.790625\n",
       "7   0.404677  0.809226  0.452162      0.800000\n",
       "8   0.403525  0.810008  0.440779      0.784375\n",
       "9   0.399486  0.817826  0.449092      0.796875\n",
       "10  0.396633  0.813917  0.441098      0.787500\n",
       "11  0.396632  0.817826  0.448180      0.793750\n",
       "12  0.389986  0.816263  0.449628      0.787500\n",
       "13  0.391181  0.819390  0.453495      0.793750"
      ]
     },
     "execution_count": 82,
     "metadata": {},
     "output_type": "execute_result"
    }
   ],
   "source": [
    "x=pd.DataFrame(history.history)\n",
    "x"
   ]
  },
  {
   "cell_type": "markdown",
   "id": "3ff19d76",
   "metadata": {},
   "source": [
    "# Q18. Plot the training history (e.g., accuracy and loss) using suitable visualization techniques."
   ]
  },
  {
   "cell_type": "code",
   "execution_count": 83,
   "id": "4721a569",
   "metadata": {},
   "outputs": [
    {
     "data": {
      "text/plain": [
       "<Axes: >"
      ]
     },
     "execution_count": 83,
     "metadata": {},
     "output_type": "execute_result"
    },
    {
     "data": {
      "image/png": "[encoded data removed]",
      "text/plain": [
       "<Figure size 640x480 with 1 Axes>"
      ]
     },
     "metadata": {},
     "output_type": "display_data"
    }
   ],
   "source": [
    "x.plot()"
   ]
  },
  {
   "cell_type": "markdown",
   "id": "656477c3",
   "metadata": {},
   "source": [
    "# Q19. Evaluate the model's performance using the test dataset and report relevant metrics."
   ]
  },
  {
   "cell_type": "code",
   "execution_count": 84,
   "id": "5bd4e090",
   "metadata": {},
   "outputs": [
    {
     "name": "stdout",
     "output_type": "stream",
     "text": [
      "10/10 [==============================] - 0s 2ms/step - loss: 0.4500 - accuracy: 0.7781\n"
     ]
    },
    {
     "data": {
      "text/plain": [
       "[0.44997113943099976, 0.778124988079071]"
      ]
     },
     "execution_count": 84,
     "metadata": {},
     "output_type": "execute_result"
    }
   ],
   "source": [
    "model.evaluate(X_test,y_test)"
   ]
  },
  {
   "cell_type": "code",
   "execution_count": 85,
   "id": "78c9058b",
   "metadata": {},
   "outputs": [
    {
     "name": "stdout",
     "output_type": "stream",
     "text": [
      "10/10 [==============================] - 0s 2ms/step\n"
     ]
    }
   ],
   "source": [
    "y_pred=model.predict(X_test)"
   ]
  },
  {
   "cell_type": "code",
   "execution_count": 86,
   "id": "1b1ca426",
   "metadata": {},
   "outputs": [
    {
     "data": {
      "text/plain": [
       "array([[0.8895189 ],\n",
       "       [0.86728346],\n",
       "       [0.1244393 ],\n",
       "       [0.92297596],\n",
       "       [0.82988995],\n",
       "       [0.90722084],\n",
       "       [0.91038126],\n",
       "       [0.7612416 ],\n",
       "       [0.2513726 ],\n",
       "       [0.05835068],\n",
       "       [0.25819513],\n",
       "       [0.31387687],\n",
       "       [0.655318  ],\n",
       "       [0.9154931 ],\n",
       "       [0.75120056],\n",
       "       [0.9620926 ],\n",
       "       [0.7708716 ],\n",
       "       [0.91430837],\n",
       "       [0.87392193],\n",
       "       [0.20869927],\n",
       "       [0.5068419 ],\n",
       "       [0.31467277],\n",
       "       [0.2292791 ],\n",
       "       [0.21401036],\n",
       "       [0.8303913 ],\n",
       "       [0.2549289 ],\n",
       "       [0.4945136 ],\n",
       "       [0.99132293],\n",
       "       [0.78429   ],\n",
       "       [0.93323463],\n",
       "       [0.97806877],\n",
       "       [0.1801772 ],\n",
       "       [0.94329655],\n",
       "       [0.23071323],\n",
       "       [0.42712477],\n",
       "       [0.87782985],\n",
       "       [0.4732586 ],\n",
       "       [0.552416  ],\n",
       "       [0.7365412 ],\n",
       "       [0.72375387],\n",
       "       [0.4327363 ],\n",
       "       [0.90780467],\n",
       "       [0.03047381],\n",
       "       [0.34935996],\n",
       "       [0.4793537 ],\n",
       "       [0.7880183 ],\n",
       "       [0.5802148 ],\n",
       "       [0.87815845],\n",
       "       [0.6096308 ],\n",
       "       [0.9382274 ],\n",
       "       [0.899468  ],\n",
       "       [0.56334233],\n",
       "       [0.23057139],\n",
       "       [0.99822366],\n",
       "       [0.9611443 ],\n",
       "       [0.3758499 ],\n",
       "       [0.0603452 ],\n",
       "       [0.83920187],\n",
       "       [0.31480443],\n",
       "       [0.39651054],\n",
       "       [0.04827775],\n",
       "       [0.72235197],\n",
       "       [0.9318019 ],\n",
       "       [0.9037232 ],\n",
       "       [0.60423064],\n",
       "       [0.83341485],\n",
       "       [0.92783797],\n",
       "       [0.61647934],\n",
       "       [0.570149  ],\n",
       "       [0.1600871 ],\n",
       "       [0.23991263],\n",
       "       [0.99598783],\n",
       "       [0.90696025],\n",
       "       [0.12269145],\n",
       "       [0.30518427],\n",
       "       [0.8910736 ],\n",
       "       [0.9041713 ],\n",
       "       [0.14809476],\n",
       "       [0.3170239 ],\n",
       "       [0.86973715],\n",
       "       [0.5239819 ],\n",
       "       [0.36675858],\n",
       "       [0.9416532 ],\n",
       "       [0.12068481],\n",
       "       [0.7784109 ],\n",
       "       [0.6333756 ],\n",
       "       [0.4141283 ],\n",
       "       [0.6862813 ],\n",
       "       [0.313667  ],\n",
       "       [0.9880906 ],\n",
       "       [0.22866489],\n",
       "       [0.4133246 ],\n",
       "       [0.39847744],\n",
       "       [0.06223569],\n",
       "       [0.02413512],\n",
       "       [0.37402377],\n",
       "       [0.88548636],\n",
       "       [0.14441511],\n",
       "       [0.97867095],\n",
       "       [0.9837298 ],\n",
       "       [0.29814076],\n",
       "       [0.49066904],\n",
       "       [0.31053862],\n",
       "       [0.8916459 ],\n",
       "       [0.5576182 ],\n",
       "       [0.00238979],\n",
       "       [0.96782094],\n",
       "       [0.97025937],\n",
       "       [0.46030712],\n",
       "       [0.738112  ],\n",
       "       [0.1657807 ],\n",
       "       [0.31194445],\n",
       "       [0.19680572],\n",
       "       [0.7642793 ],\n",
       "       [0.20453362],\n",
       "       [0.28554857],\n",
       "       [0.7764726 ],\n",
       "       [0.04293285],\n",
       "       [0.9968446 ],\n",
       "       [0.14266732],\n",
       "       [0.14235578],\n",
       "       [0.0407239 ],\n",
       "       [0.31610426],\n",
       "       [0.6010525 ],\n",
       "       [0.8665153 ],\n",
       "       [0.19117223],\n",
       "       [0.51523787],\n",
       "       [0.15432195],\n",
       "       [0.28862202],\n",
       "       [0.12375314],\n",
       "       [0.95405406],\n",
       "       [0.95661837],\n",
       "       [0.08638444],\n",
       "       [0.45275027],\n",
       "       [0.1932631 ],\n",
       "       [0.94329655],\n",
       "       [0.2852    ],\n",
       "       [0.99598587],\n",
       "       [0.4274726 ],\n",
       "       [0.10791345],\n",
       "       [0.8252379 ],\n",
       "       [0.19496031],\n",
       "       [0.475827  ],\n",
       "       [0.7758286 ],\n",
       "       [0.7383264 ],\n",
       "       [0.5972818 ],\n",
       "       [0.02741715],\n",
       "       [0.15343285],\n",
       "       [0.05820775],\n",
       "       [0.29452404],\n",
       "       [0.72312796],\n",
       "       [0.09356771],\n",
       "       [0.98389435],\n",
       "       [0.24861301],\n",
       "       [0.39486098],\n",
       "       [0.8401274 ],\n",
       "       [0.57625175],\n",
       "       [0.92432576],\n",
       "       [0.22143899],\n",
       "       [0.39826298],\n",
       "       [0.9666765 ],\n",
       "       [0.8775363 ],\n",
       "       [0.26530445],\n",
       "       [0.96689034],\n",
       "       [0.4945136 ],\n",
       "       [0.04389228],\n",
       "       [0.47956902],\n",
       "       [0.85363054],\n",
       "       [0.98682386],\n",
       "       [0.70711637],\n",
       "       [0.7400516 ],\n",
       "       [0.92661124],\n",
       "       [0.648539  ],\n",
       "       [0.5972818 ],\n",
       "       [0.14091204],\n",
       "       [0.55224645],\n",
       "       [0.9899416 ],\n",
       "       [0.14355329],\n",
       "       [0.7931774 ],\n",
       "       [0.93640786],\n",
       "       [0.26471874],\n",
       "       [0.27951908],\n",
       "       [0.9986442 ],\n",
       "       [0.11750297],\n",
       "       [0.937328  ],\n",
       "       [0.9837298 ],\n",
       "       [0.93857145],\n",
       "       [0.33113322],\n",
       "       [0.98793614],\n",
       "       [0.70017564],\n",
       "       [0.17529787],\n",
       "       [0.5499699 ],\n",
       "       [0.22821948],\n",
       "       [0.79352933],\n",
       "       [0.31615248],\n",
       "       [0.9216938 ],\n",
       "       [0.55914825],\n",
       "       [0.37225264],\n",
       "       [0.84035903],\n",
       "       [0.37853596],\n",
       "       [0.9079501 ],\n",
       "       [0.32859346],\n",
       "       [0.23855394],\n",
       "       [0.9681613 ],\n",
       "       [0.757483  ],\n",
       "       [0.9685261 ],\n",
       "       [0.5983348 ],\n",
       "       [0.07992312],\n",
       "       [0.99186283],\n",
       "       [0.99822366],\n",
       "       [0.96252316],\n",
       "       [0.9822645 ],\n",
       "       [0.68866986],\n",
       "       [0.7883444 ],\n",
       "       [0.20645817],\n",
       "       [0.2163287 ],\n",
       "       [0.70463634],\n",
       "       [0.16416882],\n",
       "       [0.90723085],\n",
       "       [0.91160506],\n",
       "       [0.9854599 ],\n",
       "       [0.7645366 ],\n",
       "       [0.56510764],\n",
       "       [0.19020982],\n",
       "       [0.6752755 ],\n",
       "       [0.11104317],\n",
       "       [0.8052754 ],\n",
       "       [0.997197  ],\n",
       "       [0.9660155 ],\n",
       "       [0.43162334],\n",
       "       [0.9423052 ],\n",
       "       [0.22460745],\n",
       "       [0.2742799 ],\n",
       "       [0.0958518 ],\n",
       "       [0.9741042 ],\n",
       "       [0.75814646],\n",
       "       [0.39660853],\n",
       "       [0.93407804],\n",
       "       [0.68195635],\n",
       "       [0.34328374],\n",
       "       [0.28649554],\n",
       "       [0.37911168],\n",
       "       [0.99897105],\n",
       "       [0.9526017 ],\n",
       "       [0.12398505],\n",
       "       [0.9616465 ],\n",
       "       [0.9519519 ],\n",
       "       [0.10093021],\n",
       "       [0.9070033 ],\n",
       "       [0.9904194 ],\n",
       "       [0.804308  ],\n",
       "       [0.37853596],\n",
       "       [0.15852731],\n",
       "       [0.15662378],\n",
       "       [0.92661124],\n",
       "       [0.12269145],\n",
       "       [0.5049973 ],\n",
       "       [0.9972332 ],\n",
       "       [0.92905533],\n",
       "       [0.9803185 ],\n",
       "       [0.16043422],\n",
       "       [0.23729675],\n",
       "       [0.8098832 ],\n",
       "       [0.83541095],\n",
       "       [0.39118594],\n",
       "       [0.66489965],\n",
       "       [0.71043736],\n",
       "       [0.72856975],\n",
       "       [0.67698896],\n",
       "       [0.37952483],\n",
       "       [0.4039158 ],\n",
       "       [0.11039739],\n",
       "       [0.22940935],\n",
       "       [0.55352366],\n",
       "       [0.07408872],\n",
       "       [0.71752876],\n",
       "       [0.27631974],\n",
       "       [0.5138453 ],\n",
       "       [0.06266783],\n",
       "       [0.3368102 ],\n",
       "       [0.7000468 ],\n",
       "       [0.2698983 ],\n",
       "       [0.9947928 ],\n",
       "       [0.28191268],\n",
       "       [0.97729844],\n",
       "       [0.9748267 ],\n",
       "       [0.16609365],\n",
       "       [0.678493  ],\n",
       "       [0.24577057],\n",
       "       [0.2605199 ],\n",
       "       [0.17468762],\n",
       "       [0.25502178],\n",
       "       [0.13053156],\n",
       "       [0.77331996],\n",
       "       [0.9256817 ],\n",
       "       [0.4272458 ],\n",
       "       [0.98793614],\n",
       "       [0.93618876],\n",
       "       [0.23991263],\n",
       "       [0.2634247 ],\n",
       "       [0.34935996],\n",
       "       [0.5769219 ],\n",
       "       [0.38715017],\n",
       "       [0.14809476],\n",
       "       [0.22476935],\n",
       "       [0.48424095],\n",
       "       [0.7304366 ],\n",
       "       [0.07221042],\n",
       "       [0.98827016],\n",
       "       [0.39899436],\n",
       "       [0.2256466 ],\n",
       "       [0.14278018],\n",
       "       [0.2361838 ],\n",
       "       [0.37462214],\n",
       "       [0.22821948],\n",
       "       [0.95928484],\n",
       "       [0.31500688],\n",
       "       [0.17915124],\n",
       "       [0.8924536 ],\n",
       "       [0.9139244 ]], dtype=float32)"
      ]
     },
     "execution_count": 86,
     "metadata": {},
     "output_type": "execute_result"
    }
   ],
   "source": [
    "y_pred"
   ]
  },
  {
   "cell_type": "code",
   "execution_count": 87,
   "id": "4200c807",
   "metadata": {},
   "outputs": [],
   "source": [
    "y_pred=y_pred.round().flatten()"
   ]
  },
  {
   "cell_type": "code",
   "execution_count": 88,
   "id": "56ef2c77",
   "metadata": {},
   "outputs": [
    {
     "data": {
      "text/plain": [
       "array([1., 1., 0., 1., 1., 1., 1., 1., 0., 0., 0., 0., 1., 1., 1., 1., 1.,\n",
       "       1., 1., 0., 1., 0., 0., 0., 1., 0., 0., 1., 1., 1., 1., 0., 1., 0.,\n",
       "       0., 1., 0., 1., 1., 1., 0., 1., 0., 0., 0., 1., 1., 1., 1., 1., 1.,\n",
       "       1., 0., 1., 1., 0., 0., 1., 0., 0., 0., 1., 1., 1., 1., 1., 1., 1.,\n",
       "       1., 0., 0., 1., 1., 0., 0., 1., 1., 0., 0., 1., 1., 0., 1., 0., 1.,\n",
       "       1., 0., 1., 0., 1., 0., 0., 0., 0., 0., 0., 1., 0., 1., 1., 0., 0.,\n",
       "       0., 1., 1., 0., 1., 1., 0., 1., 0., 0., 0., 1., 0., 0., 1., 0., 1.,\n",
       "       0., 0., 0., 0., 1., 1., 0., 1., 0., 0., 0., 1., 1., 0., 0., 0., 1.,\n",
       "       0., 1., 0., 0., 1., 0., 0., 1., 1., 1., 0., 0., 0., 0., 1., 0., 1.,\n",
       "       0., 0., 1., 1., 1., 0., 0., 1., 1., 0., 1., 0., 0., 0., 1., 1., 1.,\n",
       "       1., 1., 1., 1., 0., 1., 1., 0., 1., 1., 0., 0., 1., 0., 1., 1., 1.,\n",
       "       0., 1., 1., 0., 1., 0., 1., 0., 1., 1., 0., 1., 0., 1., 0., 0., 1.,\n",
       "       1., 1., 1., 0., 1., 1., 1., 1., 1., 1., 0., 0., 1., 0., 1., 1., 1.,\n",
       "       1., 1., 0., 1., 0., 1., 1., 1., 0., 1., 0., 0., 0., 1., 1., 0., 1.,\n",
       "       1., 0., 0., 0., 1., 1., 0., 1., 1., 0., 1., 1., 1., 0., 0., 0., 1.,\n",
       "       0., 1., 1., 1., 1., 0., 0., 1., 1., 0., 1., 1., 1., 1., 0., 0., 0.,\n",
       "       0., 1., 0., 1., 0., 1., 0., 0., 1., 0., 1., 0., 1., 1., 0., 1., 0.,\n",
       "       0., 0., 0., 0., 1., 1., 0., 1., 1., 0., 0., 0., 1., 0., 0., 0., 0.,\n",
       "       1., 0., 1., 0., 0., 0., 0., 0., 0., 1., 0., 0., 1., 1.],\n",
       "      dtype=float32)"
      ]
     },
     "execution_count": 88,
     "metadata": {},
     "output_type": "execute_result"
    }
   ],
   "source": [
    "y_pred"
   ]
  },
  {
   "cell_type": "code",
   "execution_count": 89,
   "id": "362221f5",
   "metadata": {},
   "outputs": [
    {
     "data": {
      "text/plain": [
       "69      1\n",
       "1541    1\n",
       "368     0\n",
       "559     1\n",
       "249     1\n",
       "       ..\n",
       "1426    1\n",
       "179     0\n",
       "417     0\n",
       "1298    1\n",
       "1062    1\n",
       "Name: quality, Length: 320, dtype: int32"
      ]
     },
     "execution_count": 89,
     "metadata": {},
     "output_type": "execute_result"
    }
   ],
   "source": [
    "y_test"
   ]
  }
 ],
 "metadata": {
  "kernelspec": {
   "display_name": "Python 3 (ipykernel)",
   "language": "python",
   "name": "python3"
  },
  "language_info": {
   "codemirror_mode": {
    "name": "ipython",
    "version": 3
   },
   "file_extension": ".py",
   "mimetype": "text/x-python",
   "name": "python",
   "nbconvert_exporter": "python",
   "pygments_lexer": "ipython3",
   "version": "3.11.4"
  }
 },
 "nbformat": 4,
 "nbformat_minor": 5
}
