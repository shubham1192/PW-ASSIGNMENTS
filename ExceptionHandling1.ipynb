{
 "cells": [
  {
   "cell_type": "markdown",
   "id": "7f8cd9e1",
   "metadata": {},
   "source": [
    "# Q1. "
   ]
  },
  {
   "cell_type": "markdown",
   "id": "49f099a8",
   "metadata": {},
   "source": [
    "An exception in Python is an event or condition that occurs during the execution of a program and disrupts the normal flow of instructions. Exceptions can be caused by various factors, such as user input, invalid operations, or unexpected conditions. When an exception occurs, Python raises an exception object that can be caught and handled by the program to prevent it from crashing.\n",
    "\n",
    "Difference between Exception and Syntax Errors:\n",
    "\n",
    "1. Exception:\n",
    "   - Occurs during program execution.\n",
    "   - It's a runtime error.\n",
    "   - Usually caused by logical issues or external factors.\n",
    "   - Can be anticipated and handled using `try` and `except` blocks.\n",
    "   - Allows the program to continue running with proper error handling.\n",
    "\n",
    "2. Syntax Error:\n",
    "   - Detected before program execution (during parsing).\n",
    "   - It's a compile-time error.\n",
    "   - Caused by violations of Python's syntax rules.\n",
    "   - Must be fixed in the code before the program can run.\n",
    "   - Prevents the program from running until the syntax errors are resolved."
   ]
  },
  {
   "cell_type": "markdown",
   "id": "c94a1165",
   "metadata": {},
   "source": [
    "# Q2."
   ]
  },
  {
   "cell_type": "markdown",
   "id": "e4157713",
   "metadata": {},
   "source": [
    "When an exception is not handled in a Python program, it will propagate up the call stack until a suitable exception handler is found. If no appropriate exception handler is encountered, the program will terminate, and an error message indicating the unhandled exception will be displayed. This can lead to program crashes and potentially undesirable user experiences."
   ]
  },
  {
   "cell_type": "code",
   "execution_count": 3,
   "id": "81d6a5b3",
   "metadata": {},
   "outputs": [
    {
     "ename": "ZeroDivisionError",
     "evalue": "division by zero",
     "output_type": "error",
     "traceback": [
      "\u001b[1;31m---------------------------------------------------------------------------\u001b[0m",
      "\u001b[1;31mZeroDivisionError\u001b[0m                         Traceback (most recent call last)",
      "Cell \u001b[1;32mIn[3], line 4\u001b[0m\n\u001b[0;32m      2\u001b[0m     res\u001b[38;5;241m=\u001b[39ma\u001b[38;5;241m/\u001b[39m\u001b[38;5;241m0\u001b[39m\n\u001b[0;32m      3\u001b[0m     \u001b[38;5;28;01mreturn\u001b[39;00m res\n\u001b[1;32m----> 4\u001b[0m res\u001b[38;5;241m=\u001b[39mdiv(\u001b[38;5;241m6\u001b[39m) \n\u001b[0;32m      5\u001b[0m \u001b[38;5;28mprint\u001b[39m(res)\n",
      "Cell \u001b[1;32mIn[3], line 2\u001b[0m, in \u001b[0;36mdiv\u001b[1;34m(a)\u001b[0m\n\u001b[0;32m      1\u001b[0m \u001b[38;5;28;01mdef\u001b[39;00m \u001b[38;5;21mdiv\u001b[39m(a):\n\u001b[1;32m----> 2\u001b[0m     res\u001b[38;5;241m=\u001b[39ma\u001b[38;5;241m/\u001b[39m\u001b[38;5;241m0\u001b[39m\n\u001b[0;32m      3\u001b[0m     \u001b[38;5;28;01mreturn\u001b[39;00m res\n",
      "\u001b[1;31mZeroDivisionError\u001b[0m: division by zero"
     ]
    }
   ],
   "source": [
    "def div(a):\n",
    "    res=a/0\n",
    "    return res\n",
    "res=div(6) \n",
    "print(res)"
   ]
  },
  {
   "cell_type": "code",
   "execution_count": 8,
   "id": "17243782",
   "metadata": {},
   "outputs": [
    {
     "name": "stdout",
     "output_type": "stream",
     "text": [
      "An error : division by zero\n"
     ]
    }
   ],
   "source": [
    "def div(a):\n",
    "    try:\n",
    "        return a/0\n",
    "    except ZeroDivisionError as e:\n",
    "        print(f'An error :',e)\n",
    "        return None\n",
    "\n",
    "res=div(3)\n",
    "if res is not None:\n",
    "    print(res)      "
   ]
  },
  {
   "cell_type": "markdown",
   "id": "3140f3a4",
   "metadata": {},
   "source": [
    "# Q3."
   ]
  },
  {
   "cell_type": "markdown",
   "id": "6dee8283",
   "metadata": {},
   "source": [
    "In Python, you can catch and handle exceptions using the try and except statements. The try block encloses the code that may raise an exception, and the except block specifies how to handle the exception if it occurs."
   ]
  },
  {
   "cell_type": "code",
   "execution_count": 19,
   "id": "b2f06840",
   "metadata": {},
   "outputs": [
    {
     "name": "stdout",
     "output_type": "stream",
     "text": [
      "Enter a no.s\n",
      "Error! enter a no.\n",
      "Enter a no.sd\n",
      "Error! enter a no.\n",
      "Enter a no.23\n",
      "23\n"
     ]
    }
   ],
   "source": [
    "\n",
    "def In():\n",
    "    try:\n",
    "        n=int(input('Enter a no.'))\n",
    "        return n\n",
    "    except ValueError as e:\n",
    "        print('Error! enter a no.')\n",
    "        return None\n",
    "    \n",
    "no=In()\n",
    "while no is None:\n",
    "    no=In()\n",
    "print(no)    \n"
   ]
  },
  {
   "cell_type": "markdown",
   "id": "0cee1748",
   "metadata": {},
   "source": [
    "# Q4."
   ]
  },
  {
   "cell_type": "markdown",
   "id": "7b3e4569",
   "metadata": {},
   "source": [
    "**try/except** : In Python, you can catch and handle exceptions using the try and except statements. The try block encloses the code that may raise an exception, and the except block specifies how to handle the exception if it occurs.\n",
    "**finally** : Python provides a keyword finally, which is always executed after try and except blocks. The finally block always executes after normal termination of try block or after try block terminates due to some exception. Even if you return in the except block still the finally block will execute"
   ]
  },
  {
   "cell_type": "code",
   "execution_count": 21,
   "id": "a25c32e9",
   "metadata": {},
   "outputs": [
    {
     "name": "stdout",
     "output_type": "stream",
     "text": [
      "else block executed, ans=2.0\n",
      "It will always run\n",
      "cant divide by zero\n",
      "It will always run\n"
     ]
    }
   ],
   "source": [
    "def divide(x,y):\n",
    "    try:\n",
    "        res= x/y\n",
    "    except ZeroDivisionError as e:\n",
    "        print('cant divide by zero')\n",
    "    else:\n",
    "        print(f'else block executed, ans={res}')\n",
    "    finally:\n",
    "        print('It will always run')\n",
    "        \n",
    "divide(8,4)\n",
    "divide(8,0)"
   ]
  },
  {
   "cell_type": "markdown",
   "id": "09b87873",
   "metadata": {},
   "source": [
    "# Q5."
   ]
  },
  {
   "cell_type": "markdown",
   "id": "c0c37e45",
   "metadata": {},
   "source": [
    "Custom exceptions in Python are user-defined exception classes that extend the built-in Exception class or one of its subclasses. These custom exceptions allow you to define your own exception types tailored to your specific application's needs. You might need custom exceptions to handle specific errors or conditions that are not adequately covered by the built-in exception classes. This can lead to more informative and organized error handling in your code.\n",
    "\n",
    "\n",
    "Specific Error Handling: Custom exceptions allow you to handle specific error scenarios in a more organized and precise manner. This can make your code easier to understand and maintain.\n",
    "\n",
    "Clearer Code: Using custom exceptions with descriptive names helps make your code self-documenting. When someone reads your code, they can immediately understand the nature of the error being handled.\n",
    "\n",
    "Centralized Exception Handling: Custom exceptions can be used to centralize exception handling for a particular module or application. You can catch and handle custom exceptions at a higher level in your code."
   ]
  },
  {
   "cell_type": "code",
   "execution_count": 64,
   "id": "5fbbba50",
   "metadata": {},
   "outputs": [
    {
     "name": "stdout",
     "output_type": "stream",
     "text": [
      "Error ->  Negative value not allowed: -24\n"
     ]
    }
   ],
   "source": [
    "class NegativeValueError(Exception):\n",
    "    \"\"\"Custom exception to handle negative values.\"\"\"\n",
    "\n",
    "    def __init__(self, value):\n",
    "        super().__init__(f\"Negative value not allowed: {value}\")\n",
    "        self.value = value\n",
    "\n",
    "def calculate_square_root(number):\n",
    "    if number < 0:\n",
    "        raise NegativeValueError(number)  # Raise the custom exception\n",
    "    return number ** 0.5\n",
    "\n",
    "try:\n",
    "    result = calculate_square_root(-24)\n",
    "except NegativeValueError as e:\n",
    "     print('Error -> ',e)\n",
    "else:\n",
    "    print(\"Square root:\", result)\n"
   ]
  },
  {
   "cell_type": "markdown",
   "id": "c48ce1e4",
   "metadata": {},
   "source": [
    "# Q6."
   ]
  },
  {
   "cell_type": "code",
   "execution_count": null,
   "id": "e5743778",
   "metadata": {},
   "outputs": [],
   "source": [
    "class NegativeValueError(Exception):\n",
    "    \"\"\"Custom exception to handle negative values.\"\"\"\n",
    "\n",
    "    def __init__(self, value):\n",
    "        super().__init__(f\"Negative value not allowed: {value}\")\n",
    "        self.value = value\n",
    "\n",
    "def calculate_square_root(number):\n",
    "    if number < 0:\n",
    "        raise NegativeValueError(number)  # Raise the custom exception\n",
    "    return number ** 0.5\n",
    "\n",
    "try:\n",
    "    result = calculate_square_root(-24)\n",
    "except NegativeValueError as e:\n",
    "     print('Error -> ',e)\n",
    "else:\n",
    "    print(\"Square root:\", result)"
   ]
  }
 ],
 "metadata": {
  "kernelspec": {
   "display_name": "Python 3 (ipykernel)",
   "language": "python",
   "name": "python3"
  },
  "language_info": {
   "codemirror_mode": {
    "name": "ipython",
    "version": 3
   },
   "file_extension": ".py",
   "mimetype": "text/x-python",
   "name": "python",
   "nbconvert_exporter": "python",
   "pygments_lexer": "ipython3",
   "version": "3.11.4"
  }
 },
 "nbformat": 4,
 "nbformat_minor": 5
}
