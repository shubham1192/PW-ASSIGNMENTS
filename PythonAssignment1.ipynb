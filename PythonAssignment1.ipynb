{
 "cells": [
  {
   "cell_type": "markdown",
   "id": "dfd85a14",
   "metadata": {},
   "source": [
    "# Q1"
   ]
  },
  {
   "cell_type": "code",
   "execution_count": 6,
   "id": "85e5f2bb",
   "metadata": {},
   "outputs": [
    {
     "data": {
      "text/plain": [
       "(1, 3, 4)"
      ]
     },
     "execution_count": 6,
     "metadata": {},
     "output_type": "execute_result"
    }
   ],
   "source": [
    "# String\n",
    "st='Hey'\n",
    "# list\n",
    "l=[1,2,3]\n",
    "# float\n",
    "f=2.4\n",
    "# tuple\n",
    "t=(1,3,4)"
   ]
  },
  {
   "cell_type": "markdown",
   "id": "bb1ff7c0",
   "metadata": {},
   "source": [
    "# Q2"
   ]
  },
  {
   "cell_type": "code",
   "execution_count": 63,
   "id": "28fa8368",
   "metadata": {},
   "outputs": [
    {
     "name": "stdout",
     "output_type": "stream",
     "text": [
      "(1) <class 'str'>\n",
      "(2) <class 'str'>\n",
      "(3) <class 'list'>\n",
      "(4) <class 'int'>\n"
     ]
    }
   ],
   "source": [
    "vars=['','[DS,ML,Python]',['DS','ML','Python'],1]\n",
    "for i in range(len(vars)):\n",
    "    print(f\"({i+1}) {type(vars[i])}\")"
   ]
  },
  {
   "cell_type": "markdown",
   "id": "84757c44",
   "metadata": {},
   "source": [
    "# Q3"
   ]
  },
  {
   "cell_type": "code",
   "execution_count": 43,
   "id": "5c6b2374",
   "metadata": {},
   "outputs": [
    {
     "name": "stdout",
     "output_type": "stream",
     "text": [
      "(i) Division 41.666666666666664\n",
      "(ii) Modulus 2\n",
      "(iii) Floor Division 41\n",
      "(iv) Power 1953125\n"
     ]
    }
   ],
   "source": [
    "x=125\n",
    "y=3\n",
    "print(f\"(i) Division {x/y}\")\n",
    "print(f\"(ii) Modulus {x%y}\")\n",
    "print(f\"(iii) Floor Division {x//y}\")\n",
    "print(f\"(iv) Power {x**y}\")"
   ]
  },
  {
   "cell_type": "markdown",
   "id": "d5e419b3",
   "metadata": {},
   "source": [
    "# Q4"
   ]
  },
  {
   "cell_type": "code",
   "execution_count": 66,
   "id": "792c0d4a",
   "metadata": {},
   "outputs": [
    {
     "name": "stdout",
     "output_type": "stream",
     "text": [
      "(1)  <class 'str'>\n",
      "(2) [DS,ML,Python] <class 'str'>\n",
      "(3) ['DS', 'ML', 'Python'] <class 'list'>\n",
      "(4) 1 <class 'int'>\n",
      "(5) (1, 23) <class 'tuple'>\n",
      "(6) str <class 'str'>\n",
      "(7) 1 <class 'int'>\n",
      "(8) 5 <class 'int'>\n",
      "(9) 5.4 <class 'float'>\n",
      "(10) {'add': '+'} <class 'dict'>\n"
     ]
    }
   ],
   "source": [
    "vars2=['','[DS,ML,Python]',['DS','ML','Python'],1,(1,23),'str',\n",
    "     1,5,5.4,{'add':'+'}]\n",
    "for i in range(len(vars2)):\n",
    "    print(f\"({i+1}) {vars2[i]} {type(vars2[i])}\")"
   ]
  },
  {
   "cell_type": "markdown",
   "id": "49de8f3d",
   "metadata": {},
   "source": [
    "# Q5"
   ]
  },
  {
   "cell_type": "code",
   "execution_count": 12,
   "id": "063bbfe9",
   "metadata": {},
   "outputs": [
    {
     "name": "stdout",
     "output_type": "stream",
     "text": [
      "3 times\n"
     ]
    }
   ],
   "source": [
    "x=125\n",
    "y=5\n",
    "c=0\n",
    "while(x%y==0):\n",
    "    x=x/y\n",
    "    c+=1\n",
    "    if(x==1):\n",
    "        print(f\"{c} times\")\n",
    "        break\n",
    "if(x!=1):\n",
    "    print('Not purely divisible')"
   ]
  },
  {
   "cell_type": "markdown",
   "id": "1b7ed580",
   "metadata": {},
   "source": [
    "# Q6"
   ]
  },
  {
   "cell_type": "code",
   "execution_count": 35,
   "id": "fc87d346",
   "metadata": {},
   "outputs": [
    {
     "name": "stdout",
     "output_type": "stream",
     "text": [
      "[1, 2, 3, 4, 5, 6, 7, 8, 9, 10, 11, 12, 13, 14, 15, 16, 17, 18, 19, 20, 21, 22, 23, 24, 25]\n",
      "['1 : not divisible', '2 : not divisible', '3 : divisible', '4 : not divisible', '5 : not divisible', '6 : divisible', '7 : not divisible', '8 : not divisible', '9 : divisible', '10 : not divisible', '11 : not divisible', '12 : divisible', '13 : not divisible', '14 : not divisible', '15 : divisible', '16 : not divisible', '17 : not divisible', '18 : divisible', '19 : not divisible', '20 : not divisible', '21 : divisible', '22 : not divisible', '23 : not divisible', '24 : divisible', '25 : not divisible']\n"
     ]
    }
   ],
   "source": [
    "l=[]\n",
    "for i in range(1,26):\n",
    "    l.append(i)\n",
    "print(l)\n",
    "\n",
    "for i in l:\n",
    "    if(i%3==0):\n",
    "        l[i-1]=f\"{i} : divisible\"\n",
    "    else:\n",
    "        l[i-1]=f\"{i} : not divisible\"\n",
    "print(l)"
   ]
  },
  {
   "cell_type": "markdown",
   "id": "b3322bdf",
   "metadata": {},
   "source": [
    "# Q7"
   ]
  },
  {
   "cell_type": "code",
   "execution_count": 36,
   "id": "e8423d5d",
   "metadata": {},
   "outputs": [
    {
     "name": "stdout",
     "output_type": "stream",
     "text": [
      "[1, 2, 3]\n",
      "[4, 2, 3]\n"
     ]
    }
   ],
   "source": [
    "# Mutable Data Types:\n",
    "\n",
    "# Mutable data types are those where the data can be modified after the object is created.\n",
    "# Lists and dictionaries are common examples of mutable data types in Python.\n",
    "\n",
    "my_list = [1, 2, 3]\n",
    "print(my_list)\n",
    "my_list[0] = 4  \n",
    "print(my_list)  \n"
   ]
  },
  {
   "cell_type": "code",
   "execution_count": 40,
   "id": "520ae9ef",
   "metadata": {},
   "outputs": [
    {
     "name": "stdout",
     "output_type": "stream",
     "text": [
      "(1, 2)\n"
     ]
    }
   ],
   "source": [
    "my_tuple=(1,2)\n",
    "print(my_tuple)\n",
    "# my_tuple[0]=0 this will thrown an error "
   ]
  }
 ],
 "metadata": {
  "kernelspec": {
   "display_name": "Python 3 (ipykernel)",
   "language": "python",
   "name": "python3"
  },
  "language_info": {
   "codemirror_mode": {
    "name": "ipython",
    "version": 3
   },
   "file_extension": ".py",
   "mimetype": "text/x-python",
   "name": "python",
   "nbconvert_exporter": "python",
   "pygments_lexer": "ipython3",
   "version": "3.11.4"
  }
 },
 "nbformat": 4,
 "nbformat_minor": 5
}
