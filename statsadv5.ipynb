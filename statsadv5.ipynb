{
 "cells": [
  {
   "cell_type": "code",
   "execution_count": 24,
   "id": "f6bf0435",
   "metadata": {},
   "outputs": [],
   "source": [
    "import numpy as np\n",
    "import scipy.stats as st\n",
    "import pandas as pd\n",
    "import matplotlib.pyplot as plt\n",
    "import statsmodels.api as sm"
   ]
  },
  {
   "cell_type": "code",
   "execution_count": 5,
   "id": "f9bd8c69",
   "metadata": {},
   "outputs": [
    {
     "name": "stdout",
     "output_type": "stream",
     "text": [
      "52.191306351441455 47.808693648558545\n"
     ]
    }
   ],
   "source": [
    "#Q1\n",
    "\n",
    "mean=50\n",
    "sd=5\n",
    "n=20\n",
    "CI=0.95\n",
    "alpha=1-CI\n",
    "\n",
    "MOR=st.norm.ppf(1-(alpha/2))*(sd/(n**0.5))\n",
    "\n",
    "CI_High=mean+MOR\n",
    "CI_low=mean-MOR\n",
    "\n",
    "print(CI_High,CI_low)"
   ]
  },
  {
   "cell_type": "code",
   "execution_count": 36,
   "id": "5813a7db",
   "metadata": {},
   "outputs": [
    {
     "name": "stdout",
     "output_type": "stream",
     "text": [
      "9.739495798319327\n",
      "0.08296212160607244\n",
      "11.070497693516351\n",
      "ACCEPT\n"
     ]
    }
   ],
   "source": [
    "#Q2\n",
    "\n",
    "obs=[35,27,18,12,11,16]\n",
    "d2=[20,20,20,10,10,20]\n",
    "exp_freq=[val/100 for val in d2]\n",
    "exp_count=[i*sum(obs) for i in exp_freq]\n",
    "\n",
    "stat,p=st.chisquare(obs,exp_count)\n",
    "print(stat)\n",
    "print(p)\n",
    "\n",
    "#CRITICAL VALUE\n",
    "\n",
    "dof=len(obs)-1\n",
    "sig=0.05\n",
    "cv=st.chi2.ppf(1-sig,dof)\n",
    "print(cv)\n",
    "if stat>cv:\n",
    "    print(\"REJECT null hypothesis\")\n",
    "else:\n",
    "    print(\"ACCEPT\")"
   ]
  },
  {
   "cell_type": "code",
   "execution_count": 44,
   "id": "9962c159",
   "metadata": {},
   "outputs": [
    {
     "data": {
      "text/html": [
       "<div>\n",
       "<style scoped>\n",
       "    .dataframe tbody tr th:only-of-type {\n",
       "        vertical-align: middle;\n",
       "    }\n",
       "\n",
       "    .dataframe tbody tr th {\n",
       "        vertical-align: top;\n",
       "    }\n",
       "\n",
       "    .dataframe thead th {\n",
       "        text-align: right;\n",
       "    }\n",
       "</style>\n",
       "<table border=\"1\" class=\"dataframe\">\n",
       "  <thead>\n",
       "    <tr style=\"text-align: right;\">\n",
       "      <th></th>\n",
       "      <th>Group A</th>\n",
       "      <th>Group B</th>\n",
       "    </tr>\n",
       "  </thead>\n",
       "  <tbody>\n",
       "    <tr>\n",
       "      <th>Outcome1</th>\n",
       "      <td>20</td>\n",
       "      <td>15</td>\n",
       "    </tr>\n",
       "    <tr>\n",
       "      <th>Outcome2</th>\n",
       "      <td>10</td>\n",
       "      <td>25</td>\n",
       "    </tr>\n",
       "    <tr>\n",
       "      <th>Outcome3</th>\n",
       "      <td>15</td>\n",
       "      <td>20</td>\n",
       "    </tr>\n",
       "  </tbody>\n",
       "</table>\n",
       "</div>"
      ],
      "text/plain": [
       "          Group A  Group B\n",
       "Outcome1       20       15\n",
       "Outcome2       10       25\n",
       "Outcome3       15       20"
      ]
     },
     "execution_count": 44,
     "metadata": {},
     "output_type": "execute_result"
    }
   ],
   "source": [
    "#Q3\n",
    "\n",
    "df1=pd.DataFrame({'Group A':[20,10,15],'Group B':[15,25,20]},\n",
    "                index=['Outcome1','Outcome2','Outcome3'])\n",
    "df1"
   ]
  },
  {
   "cell_type": "code",
   "execution_count": 45,
   "id": "bc8518ff",
   "metadata": {},
   "outputs": [
    {
     "data": {
      "text/plain": [
       "Chi2ContingencyResult(statistic=5.833333333333334, pvalue=0.05411376622282158, dof=2, expected_freq=array([[15., 20.],\n",
       "       [15., 20.],\n",
       "       [15., 20.]]))"
      ]
     },
     "execution_count": 45,
     "metadata": {},
     "output_type": "execute_result"
    }
   ],
   "source": [
    "st.chi2_contingency(df1)"
   ]
  },
  {
   "cell_type": "code",
   "execution_count": 30,
   "id": "c01e5ee9",
   "metadata": {},
   "outputs": [
    {
     "data": {
      "text/plain": [
       "(0.09151638887130706, 0.14848361112869293)"
      ]
     },
     "execution_count": 30,
     "metadata": {},
     "output_type": "execute_result"
    }
   ],
   "source": [
    "#Q4\n",
    "\n",
    "n=500\n",
    "sample_proportion=60/n\n",
    "\n",
    "ci=sm.stats.proportion_confint(60,n,0.05)\n",
    "ci"
   ]
  },
  {
   "cell_type": "code",
   "execution_count": 46,
   "id": "153426fc",
   "metadata": {},
   "outputs": [
    {
     "name": "stdout",
     "output_type": "stream",
     "text": [
      "79.41360542748069 70.58639457251931\n"
     ]
    }
   ],
   "source": [
    "#Q5\n",
    "\n",
    "mean=75\n",
    "sd=12\n",
    "n=20\n",
    "CI=0.90\n",
    "alpha=1-CI\n",
    "\n",
    "MOR=st.norm.ppf(1-(alpha/2))*(sd/(n**0.5))\n",
    "\n",
    "CI_High=mean+MOR\n",
    "CI_low=mean-MOR\n",
    "\n",
    "print(CI_High,CI_low)"
   ]
  },
  {
   "cell_type": "code",
   "execution_count": 23,
   "id": "48797459",
   "metadata": {},
   "outputs": [
    {
     "data": {
      "image/png": "[encoded data removed]",
      "text/plain": [
       "<Figure size 640x480 with 1 Axes>"
      ]
     },
     "metadata": {},
     "output_type": "display_data"
    }
   ],
   "source": [
    "#Q6\n",
    "\n",
    "dof=10\n",
    "x=np.arange(0,50)\n",
    "plt.plot(x,st.chi2.pdf(x,dof))\n",
    "\n",
    "xshade=np.arange(15,50)\n",
    "plt.fill_between(xshade,st.chi2.pdf(xshade,dof),color=\"red\")\n",
    "\n",
    "plt.xlabel(\"chi-sq stats\")\n",
    "plt.ylabel(\"pdf\")\n",
    "plt.show()"
   ]
  },
  {
   "cell_type": "code",
   "execution_count": 31,
   "id": "d9cf9a8e",
   "metadata": {},
   "outputs": [
    {
     "data": {
      "text/plain": [
       "(0.4793051576779699, 0.5606948423220302)"
      ]
     },
     "execution_count": 31,
     "metadata": {},
     "output_type": "execute_result"
    }
   ],
   "source": [
    "#Q7\n",
    "\n",
    "n=1000\n",
    "sample_proportion=520/n\n",
    "\n",
    "ci=sm.stats.proportion_confint(520,n,1-0.99)\n",
    "ci"
   ]
  },
  {
   "cell_type": "code",
   "execution_count": 37,
   "id": "dfa609bf",
   "metadata": {},
   "outputs": [
    {
     "name": "stdout",
     "output_type": "stream",
     "text": [
      "1.0\n",
      "0.31731050786291115\n",
      "3.841458820694124\n",
      "ACCEPT\n"
     ]
    }
   ],
   "source": [
    "trials=100\n",
    "obs=[45,55]\n",
    "exp=[50,50]\n",
    "stat,p=st.chisquare(obs,exp)\n",
    "print(stat)\n",
    "print(p)\n",
    "\n",
    "#CRITICAL VALUE\n",
    "\n",
    "dof=len(obs)-1\n",
    "sig=0.05\n",
    "cv=st.chi2.ppf(1-sig,dof)\n",
    "print(cv)\n",
    "if stat>cv:\n",
    "    print(\"REJECT null hypothesis\")\n",
    "else:\n",
    "    print(\"ACCEPT\")"
   ]
  },
  {
   "cell_type": "code",
   "execution_count": 38,
   "id": "9d5a342e",
   "metadata": {},
   "outputs": [
    {
     "data": {
      "text/html": [
       "<div>\n",
       "<style scoped>\n",
       "    .dataframe tbody tr th:only-of-type {\n",
       "        vertical-align: middle;\n",
       "    }\n",
       "\n",
       "    .dataframe tbody tr th {\n",
       "        vertical-align: top;\n",
       "    }\n",
       "\n",
       "    .dataframe thead th {\n",
       "        text-align: right;\n",
       "    }\n",
       "</style>\n",
       "<table border=\"1\" class=\"dataframe\">\n",
       "  <thead>\n",
       "    <tr style=\"text-align: right;\">\n",
       "      <th></th>\n",
       "      <th>Lung cancer:yes</th>\n",
       "      <th>Lung cancer:no</th>\n",
       "    </tr>\n",
       "  </thead>\n",
       "  <tbody>\n",
       "    <tr>\n",
       "      <th>smoker</th>\n",
       "      <td>60</td>\n",
       "      <td>140</td>\n",
       "    </tr>\n",
       "    <tr>\n",
       "      <th>non smoker</th>\n",
       "      <td>30</td>\n",
       "      <td>170</td>\n",
       "    </tr>\n",
       "  </tbody>\n",
       "</table>\n",
       "</div>"
      ],
      "text/plain": [
       "            Lung cancer:yes  Lung cancer:no\n",
       "smoker                   60             140\n",
       "non smoker               30             170"
      ]
     },
     "execution_count": 38,
     "metadata": {},
     "output_type": "execute_result"
    }
   ],
   "source": [
    "#Q9\n",
    "\n",
    "df2=pd.DataFrame({'Lung cancer:yes':[60,30],'Lung cancer:no':[140,170]}\n",
    "                ,index=['smoker','non smoker'])\n",
    "df2"
   ]
  },
  {
   "cell_type": "code",
   "execution_count": 53,
   "id": "149c6ca0",
   "metadata": {},
   "outputs": [
    {
     "name": "stdout",
     "output_type": "stream",
     "text": [
      "REJECT NULL HYPOTHESIS\n"
     ]
    }
   ],
   "source": [
    "stat=st.chi2_contingency(df2)\n",
    "chi=stat[0]\n",
    "p=stat[1]\n",
    "\n",
    "if p<0.05:\n",
    "    print(\"REJECT NULL HYPOTHESIS\")\n",
    "else:\n",
    "    print(\"ACCEPT\")"
   ]
  },
  {
   "cell_type": "code",
   "execution_count": 54,
   "id": "20530d29",
   "metadata": {},
   "outputs": [
    {
     "data": {
      "text/html": [
       "<div>\n",
       "<style scoped>\n",
       "    .dataframe tbody tr th:only-of-type {\n",
       "        vertical-align: middle;\n",
       "    }\n",
       "\n",
       "    .dataframe tbody tr th {\n",
       "        vertical-align: top;\n",
       "    }\n",
       "\n",
       "    .dataframe thead th {\n",
       "        text-align: right;\n",
       "    }\n",
       "</style>\n",
       "<table border=\"1\" class=\"dataframe\">\n",
       "  <thead>\n",
       "    <tr style=\"text-align: right;\">\n",
       "      <th></th>\n",
       "      <th>Milk chocolate</th>\n",
       "      <th>Dark chocolate</th>\n",
       "      <th>White chocolate</th>\n",
       "    </tr>\n",
       "  </thead>\n",
       "  <tbody>\n",
       "    <tr>\n",
       "      <th>US</th>\n",
       "      <td>200</td>\n",
       "      <td>150</td>\n",
       "      <td>150</td>\n",
       "    </tr>\n",
       "    <tr>\n",
       "      <th>UK</th>\n",
       "      <td>225</td>\n",
       "      <td>175</td>\n",
       "      <td>100</td>\n",
       "    </tr>\n",
       "  </tbody>\n",
       "</table>\n",
       "</div>"
      ],
      "text/plain": [
       "    Milk chocolate  Dark chocolate  White chocolate\n",
       "US             200             150              150\n",
       "UK             225             175              100"
      ]
     },
     "execution_count": 54,
     "metadata": {},
     "output_type": "execute_result"
    }
   ],
   "source": [
    "#Q10\n",
    "\n",
    "df3=pd.DataFrame({\n",
    "    'Milk chocolate':[200,225],\n",
    "    'Dark chocolate':[150,175],\n",
    "    'White chocolate':[150,100]\n",
    "},index=['US','UK'])\n",
    "df3"
   ]
  },
  {
   "cell_type": "code",
   "execution_count": 56,
   "id": "916ca4ad",
   "metadata": {},
   "outputs": [
    {
     "name": "stdout",
     "output_type": "stream",
     "text": [
      "REJECT NULL HYPOTHESIS(NO ASSOCIATION BETWEEN CHOCOLATE PREFERENCE)\n"
     ]
    }
   ],
   "source": [
    "stat=st.chi2_contingency(df3)\n",
    "chi=stat[0]\n",
    "p=stat[1]\n",
    "\n",
    "if p<0.05:\n",
    "    print(\"REJECT NULL HYPOTHESIS(NO ASSOCIATION BETWEEN CHOCOLATE PREFERENCE)\")\n",
    "else:\n",
    "    print(\"ACCEPT\")"
   ]
  },
  {
   "cell_type": "code",
   "execution_count": 60,
   "id": "57eb9a4d",
   "metadata": {},
   "outputs": [
    {
     "name": "stdout",
     "output_type": "stream",
     "text": [
      "ACCEPT H0: mean is 70\n"
     ]
    }
   ],
   "source": [
    "#Q11\n",
    "\n",
    "sample_size=30\n",
    "sample_mean=72\n",
    "sample_sd=10\n",
    "alpha=0.05\n",
    "dof=sample_size-1\n",
    "\n",
    "t=(sample_mean-70)/(sample_sd/(sample_size**0.5))\n",
    "cv=st.t.ppf(1-(alpha/2),dof)\n",
    "\n",
    "if t > cv or t < -cv:\n",
    "    print(\"REJECT H0: POP MEAN IS SIGNIFICANTLY DIFFERENT\")\n",
    "else:\n",
    "    print(\"ACCEPT H0: mean is 70\")\n",
    "    \n"
   ]
  }
 ],
 "metadata": {
  "kernelspec": {
   "display_name": "Python 3 (ipykernel)",
   "language": "python",
   "name": "python3"
  },
  "language_info": {
   "codemirror_mode": {
    "name": "ipython",
    "version": 3
   },
   "file_extension": ".py",
   "mimetype": "text/x-python",
   "name": "python",
   "nbconvert_exporter": "python",
   "pygments_lexer": "ipython3",
   "version": "3.11.3"
  }
 },
 "nbformat": 4,
 "nbformat_minor": 5
}
