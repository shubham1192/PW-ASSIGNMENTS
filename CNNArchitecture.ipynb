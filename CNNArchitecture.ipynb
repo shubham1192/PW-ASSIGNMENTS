{
 "cells": [
  {
   "cell_type": "markdown",
   "id": "2534e816",
   "metadata": {},
   "source": [
    "# UNDERSTANDING POOLING AND PADDING IN CNN"
   ]
  },
  {
   "cell_type": "markdown",
   "id": "1176b892",
   "metadata": {},
   "source": [
    "## Q1."
   ]
  },
  {
   "cell_type": "markdown",
   "id": "37c9f11f",
   "metadata": {},
   "source": [
    "Pooling, in the context of Convolutional Neural Networks (CNNs), is a down-sampling operation that reduces the spatial dimensions (width and height) of feature maps while retaining their most important information. It is a crucial component in CNNs for several reasons, and it has various benefits:\n",
    "\n",
    "**Purpose of Pooling in CNNs:**\n",
    "\n",
    "1. **Dimension Reduction:** Pooling reduces the spatial dimensions of the feature maps, which helps in reducing the number of parameters and computations in subsequent layers. This, in turn, helps control overfitting and computational cost.\n",
    "\n",
    "2. **Translation Invariance:** Pooling helps achieve translational invariance, meaning that the network can recognize patterns regardless of their position in the input image. Features learned by convolutional layers are still recognized even if they are slightly shifted.\n",
    "\n",
    "3. **Increased Receptive Field:** Pooling increases the effective receptive field of neurons in deeper layers. This allows the network to capture information from a larger region of the input image without having to use larger convolutional filters.\n",
    "\n",
    "4. **Feature Selection:** Pooling retains the most important features from each region by aggregating information. It keeps the strongest activations and discards less important details.\n",
    "\n",
    "**Results and Effects of Pooling:**\n",
    "\n",
    "1. **Size Reduction:** Pooling typically reduces the spatial dimensions of feature maps. Common pooling operations like max pooling or average pooling take the maximum or average value, respectively, from a small region of the input. For example, max pooling retains the maximum value in the region, and this value represents the presence of a feature in that region.\n",
    "\n",
    "2. **Resolution Reduction:** Pooling reduces the resolution of feature maps, making them smaller and more computationally efficient. Smaller feature maps require fewer computations and less memory.\n",
    "\n",
    "3. **Increased Robustness:** Pooling can make the network more robust to small translations or distortions in the input data. It helps ensure that the same features are recognized even if they appear in slightly different positions.\n",
    "\n",
    "4. **Reduction in Overfitting:** By reducing the spatial dimensions and keeping the most significant features, pooling helps prevent overfitting. It acts as a form of regularization and makes the network more generalizable to new, unseen data.\n",
    "\n",
    "5. **Increased Depth:** Pooling is often followed by additional convolutional layers, increasing the depth of the network. This allows the network to learn more abstract and complex features.\n",
    "\n",
    "In summary, pooling in CNNs is a crucial operation that helps reduce dimensionality, increase translation invariance, and select important features while increasing the depth and robustness of the network. Different pooling strategies (e.g., max pooling, average pooling) can be used based on the specific task and data characteristics. Pooling is a key component that contributes to the success of CNNs in various computer vision tasks."
   ]
  },
  {
   "cell_type": "markdown",
   "id": "d00f6a8b",
   "metadata": {},
   "source": [
    "## Q2."
   ]
  },
  {
   "cell_type": "markdown",
   "id": "04e1b98b",
   "metadata": {},
   "source": [
    "Max pooling and min pooling are two common types of pooling operations used in Convolutional Neural Networks (CNNs) for down-sampling and feature selection. They have distinct differences in how they process and aggregate information from a local region of the input.\n",
    "\n",
    "**Max Pooling:**\n",
    "\n",
    "1. **Operation**: In max pooling, for each local region (typically a small grid or window, like 2x2 or 3x3), the operation selects the maximum value from that region.\n",
    "\n",
    "2. **Purpose**: Max pooling retains the most prominent feature or activation in a region and discards less important information. It emphasizes the presence of a specific feature or pattern.\n",
    "\n",
    "3. **Effect**: Max pooling helps maintain and strengthen the presence of significant features in the down-sampled feature map. It is particularly useful for recognizing edges, textures, and patterns in the data.\n",
    "\n",
    "4. **Advantages**: \n",
    "   - Translation invariance: Max pooling makes the network invariant to small translations or shifts in the input.\n",
    "   - Non-linearity: It introduces a non-linear element into the network.\n",
    "\n",
    "**Min Pooling:**\n",
    "\n",
    "1. **Operation**: In min pooling, for each local region, the operation selects the minimum value from that region.\n",
    "\n",
    "2. **Purpose**: Min pooling emphasizes the presence of the least prominent feature in a region, essentially highlighting the weakest signal. It's less commonly used compared to max pooling.\n",
    "\n",
    "3. **Effect**: Min pooling accentuates the least significant features in the down-sampled feature map. However, it's less common because it's generally more challenging to extract meaningful information from the minimum activations.\n",
    "\n",
    "4. **Use Cases**: Min pooling is less commonly used in practice, as max pooling is more effective in capturing important features.\n",
    "\n",
    "In summary, the primary difference between max pooling and min pooling lies in the operation they perform on local regions of the input. Max pooling selects the maximum value, emphasizing the most prominent feature, while min pooling selects the minimum value, highlighting the least prominent feature. Max pooling is the more common choice in CNNs because it effectively captures and emphasizes essential features, making it a popular choice for down-sampling and feature selection."
   ]
  },
  {
   "cell_type": "markdown",
   "id": "d0c31f31",
   "metadata": {},
   "source": [
    "## Q3."
   ]
  },
  {
   "cell_type": "markdown",
   "id": "8e332950",
   "metadata": {},
   "source": [
    "**Padding** is a technique used in Convolutional Neural Networks (CNNs) to adjust the spatial dimensions of feature maps as they pass through convolutional and pooling layers. It involves adding extra border pixels (often zeros) to the input feature map, creating an extended version of the original input. Padding can be either valid (no padding) or same (zero-padding) and plays a significant role in the design and effectiveness of CNN architectures. Here's a discussion of padding in CNNs and its significance:\n",
    "\n",
    "1. **No Padding (Valid Convolution)**:\n",
    "   - In valid convolution, there is no padding. The filter (also known as kernel) is applied only to regions of the input where it fully overlaps with the input data.\n",
    "   - This operation reduces the spatial dimensions of the feature map. For an input of size HxW and a filter of size FxF, the output size will be (H - F + 1) x (W - F + 1).\n",
    "\n",
    "2. **Zero Padding (Same Convolution)**:\n",
    "   - In same convolution, zero-padding is applied to the input feature map before applying the filter. Padding is added in such a way that the output spatial dimensions match the input spatial dimensions.\n",
    "   - The padding size P is usually set to (F - 1) / 2, where F is the filter size. This ensures that the output dimensions remain the same as the input dimensions.\n",
    "   - If you have an odd-sized filter, such as 3x3, padding is typically (3 - 1) / 2 = 1.\n",
    "\n",
    "**Significance of Padding**:\n",
    "\n",
    "1. **Preserving Spatial Information**:\n",
    "   - Padding is often used to preserve spatial information in the feature maps. Without padding, each layer's spatial dimensions would gradually reduce, which can lead to the loss of information at deeper layers.\n",
    "\n",
    "2. **Dealing with Border Effects**:\n",
    "   - When applying filters at the edges of the input, the output may not fully cover the input. Padding helps ensure that filter operations are applied to all parts of the input, avoiding border effects.\n",
    "\n",
    "3. **Centering Feature Extraction**:\n",
    "   - Padding centers the feature extraction process. With padding, the central pixel in the filter corresponds to the central pixel in the input, making it easier for the network to capture local patterns.\n",
    "\n",
    "4. **Controlling Output Dimensions**:\n",
    "   - Same convolution with padding is often used to control the output dimensions. This can be beneficial when designing architectures and connecting layers.\n",
    "\n",
    "5. **Network Robustness**:\n",
    "   - Padding, especially in early layers of a CNN, can enhance the network's robustness to small translations in the input data, ensuring that important features are detected regardless of their location.\n",
    "\n",
    "In summary, padding in CNNs, whether through valid (no padding) or same (zero-padding) convolution, is a crucial technique for controlling spatial dimensions, preserving information, and maintaining network performance. The choice of padding depends on the architecture's design and its objectives, and it plays a significant role in how CNNs process and analyze spatial data."
   ]
  },
  {
   "cell_type": "markdown",
   "id": "b56916cc",
   "metadata": {},
   "source": [
    "## Q4. "
   ]
  },
  {
   "cell_type": "markdown",
   "id": "820d7dd2",
   "metadata": {},
   "source": [
    "**Zero Padding** and **Valid Padding** are two techniques used to adjust the size of the output feature maps in convolutional layers within Convolutional Neural Networks (CNNs). Here's a comparison and contrast of these padding methods in terms of their effects on the output feature map size:\n",
    "\n",
    "**Zero Padding:**\n",
    "\n",
    "1. **Purpose**: Zero padding is used to control the spatial dimensions of the output feature maps by adding zeros around the input feature map.\n",
    "\n",
    "2. **Effect on Output Size**:\n",
    "   - With zero padding, the output feature map can be made to have the same spatial dimensions as the input feature map (or very close to it).\n",
    "   - Typically, the amount of zero padding (P) is chosen such that the output size remains the same as the input size, i.e., P = (F - 1) / 2, where F is the size of the convolutional filter (kernel).\n",
    "\n",
    "3. **Preservation of Spatial Information**: Zero padding helps preserve spatial information and reduces the risk of losing valuable information at the borders of the feature map.\n",
    "\n",
    "4. **Border Effects**: With zero padding, convolutional filters can be applied to all parts of the input, avoiding issues related to border effects, where the filter doesn't fully cover the input.\n",
    "\n",
    "**Valid Padding:**\n",
    "\n",
    "1. **Purpose**: Valid padding is used to reduce the spatial dimensions of the output feature maps by omitting any padding.\n",
    "\n",
    "2. **Effect on Output Size**:\n",
    "   - Valid padding reduces the output size relative to the input size.\n",
    "   - Without padding, the output size is determined by the convolutional filter's size and the stride used in the convolution.\n",
    "\n",
    "3. **Dimension Reduction**: Valid padding typically results in smaller output feature maps, which can be advantageous for dimensionality reduction as you move deeper into the network.\n",
    "\n",
    "4. **Border Effects**: When using valid padding, the output may not fully cover the input, which can lead to border effects, especially when applying filters at the edges of the input.\n",
    "\n",
    "**Comparison**:\n",
    "\n",
    "- Zero padding and valid padding are used to control the spatial dimensions of the output feature maps in opposite ways.\n",
    "- Zero padding adds a border of zeros around the input, which can help preserve spatial information and mitigate border effects. It typically results in output maps with the same spatial dimensions as the input.\n",
    "- Valid padding, on the other hand, omits any padding and leads to output maps with smaller spatial dimensions compared to the input. This is used for dimension reduction in deeper layers.\n",
    "\n",
    "The choice between zero padding and valid padding depends on the architectural and design goals of the CNN. Zero padding is often used to maintain spatial information and control output size, while valid padding is used to reduce dimensionality. The decision is made based on the trade-offs between preserving information and controlling computational complexity and output size."
   ]
  },
  {
   "cell_type": "markdown",
   "id": "7e69da33",
   "metadata": {},
   "source": [
    "# EXPLORING LENET"
   ]
  },
  {
   "cell_type": "markdown",
   "id": "09e7f91e",
   "metadata": {},
   "source": [
    "## Q1."
   ]
  },
  {
   "cell_type": "markdown",
   "id": "94c84703",
   "metadata": {},
   "source": [
    "LeNet-5 is a classic and influential Convolutional Neural Network (CNN) architecture, developed by Yann LeCun and his colleagues, and it played a significant role in the advancement of deep learning. It was primarily designed for handwritten digit recognition and is well-known for its application to the MNIST dataset. Here's a brief overview of the LeNet-5 architecture:\n",
    "\n",
    "**1. Input Layer (32x32x1):** LeNet-5 takes as input grayscale images of size 32x32 pixels with a single channel (1 for grayscale).\n",
    "\n",
    "**2. Convolutional Layer (C1):**\n",
    "   - 6 filters (kernels) of size 5x5 are applied.\n",
    "   - Stride of 1.\n",
    "   - Activation function: Sigmoid.\n",
    "   - Output: 28x28x6 feature maps.\n",
    "\n",
    "**3. Max-Pooling Layer (S2):**\n",
    "   - Max-pooling is applied on each feature map.\n",
    "   - 2x2 pooling window with a stride of 2.\n",
    "   - Output: 14x14x6 feature maps.\n",
    "\n",
    "**4. Convolutional Layer (C3):**\n",
    "   - 16 filters of size 5x5 are applied.\n",
    "   - Stride of 1.\n",
    "   - Activation function: Sigmoid.\n",
    "   - Output: 10x10x16 feature maps.\n",
    "\n",
    "**5. Max-Pooling Layer (S4):**\n",
    "   - Max-pooling is applied on each feature map.\n",
    "   - 2x2 pooling window with a stride of 2.\n",
    "   - Output: 5x5x16 feature maps.\n",
    "\n",
    "**6. Fully Connected Layer (F5):**\n",
    "   - 120 neurons in the fully connected layer.\n",
    "   - Activation function: Sigmoid.\n",
    "\n",
    "**7. Fully Connected Layer (F6):**\n",
    "   - 84 neurons in the fully connected layer.\n",
    "   - Activation function: Sigmoid.\n",
    "\n",
    "**8. Output Layer (Output):**\n",
    "   - 10 neurons, each corresponding to one of the 10 possible digits (0 to 9).\n",
    "   - Activation function: Softmax.\n",
    "\n",
    "**9. Training and Loss Function:** LeNet-5 is typically trained using a cross-entropy loss function for multi-class classification tasks. The optimization algorithm used during training is usually stochastic gradient descent (SGD).\n",
    "\n",
    "**Key Features and Significance:**\n",
    "- LeNet-5 was one of the pioneering CNN architectures and laid the foundation for modern CNNs.\n",
    "- It demonstrated the effectiveness of convolutional layers and weight sharing in image feature extraction.\n",
    "- The architecture is relatively shallow by today's standards but was groundbreaking in its time.\n",
    "- It achieved remarkable accuracy on handwritten digit recognition tasks, such as MNIST.\n",
    "- The use of sigmoid activation functions has been replaced by more modern activation functions like ReLU.\n",
    "- LeNet-5 showed the potential of deep learning for computer vision tasks and inspired the development of more complex architectures.\n",
    "\n",
    "While LeNet-5 may seem simple compared to contemporary deep CNNs, it played a vital role in the development of convolutional neural networks and demonstrated the power of deep learning in image recognition tasks."
   ]
  },
  {
   "cell_type": "markdown",
   "id": "65f4c044",
   "metadata": {},
   "source": [
    "## Q2."
   ]
  },
  {
   "cell_type": "markdown",
   "id": "9faacdb4",
   "metadata": {},
   "source": [
    "LeNet-5, a classic Convolutional Neural Network (CNN) architecture, is composed of several key components that work together to process and recognize patterns in images. Here are the key components of LeNet-5:\n",
    "\n",
    "1. **Input Layer**:\n",
    "   - The LeNet-5 architecture begins with an input layer that accepts grayscale images. The input images are typically 32x32 pixels with a single color channel, representing handwritten digits in the case of the original MNIST dataset.\n",
    "\n",
    "2. **Convolutional Layers**:\n",
    "   - LeNet-5 contains two convolutional layers:\n",
    "     - **Convolutional Layer (C1)**: The first convolutional layer applies six 5x5 filters to the input image with a stride of 1. This operation results in six feature maps.\n",
    "     - **Convolutional Layer (C3)**: The second convolutional layer applies sixteen 5x5 filters to the feature maps produced by C1. Again, a stride of 1 is used. This layer yields sixteen feature maps.\n",
    "\n",
    "3. **Activation Functions**:\n",
    "   - Sigmoid activation functions are used after each convolutional layer. In the original LeNet-5, the sigmoid function is used to introduce non-linearity.\n",
    "\n",
    "4. **Max-Pooling Layers**:\n",
    "   - LeNet-5 employs two max-pooling layers:\n",
    "     - **Max-Pooling Layer (S2)**: After C1, max-pooling with a 2x2 pooling window and a stride of 2 is applied. This reduces the spatial dimensions by half and leads to feature maps that are 2 times smaller.\n",
    "     - **Max-Pooling Layer (S4)**: After C3, another max-pooling operation with a 2x2 pooling window and a stride of 2 is applied, again reducing the spatial dimensions.\n",
    "\n",
    "5. **Fully Connected Layers**:\n",
    "   - LeNet-5 has two fully connected layers:\n",
    "     - **Fully Connected Layer (F5)**: This layer contains 120 neurons and uses a sigmoid activation function.\n",
    "     - **Fully Connected Layer (F6)**: The second fully connected layer consists of 84 neurons, also with sigmoid activation.\n",
    "\n",
    "6. **Output Layer**:\n",
    "   - The output layer (often referred to as \"Output\") consists of ten neurons, corresponding to the ten possible digits (0 to 9). A softmax activation function is applied to obtain class probabilities.\n",
    "\n",
    "7. **Training and Optimization**:\n",
    "   - During training, LeNet-5 uses a cross-entropy loss function for multi-class classification tasks. The model is trained using optimization algorithms such as stochastic gradient descent (SGD).\n",
    "\n",
    "8. **Number of Parameters**:\n",
    "   - The number of parameters in each layer of LeNet-5 can vary depending on the specific implementation. However, the architecture is characterized by a relatively small number of parameters compared to modern deep neural networks.\n",
    "\n",
    "LeNet-5's key components, including convolutional layers, pooling layers, fully connected layers, and the final softmax output layer, work together to recognize and classify handwritten digits. While this architecture is relatively simple compared to contemporary CNNs, it was groundbreaking in its time and played a crucial role in the development of deep learning for computer vision tasks."
   ]
  },
  {
   "cell_type": "markdown",
   "id": "cfe1c873",
   "metadata": {},
   "source": [
    "## Q3."
   ]
  },
  {
   "cell_type": "markdown",
   "id": "2ad0a3d2",
   "metadata": {},
   "source": [
    "LeNet-5, a pioneering Convolutional Neural Network (CNN) architecture, introduced several groundbreaking concepts and techniques for image classification tasks. However, it also has certain limitations. Let's discuss the advantages and limitations of LeNet-5 in the context of image classification tasks:\n",
    "\n",
    "**Advantages of LeNet-5:**\n",
    "\n",
    "1. **Effective Feature Extraction**: LeNet-5 demonstrated the effectiveness of using convolutional layers to automatically extract hierarchical features from images. This concept laid the foundation for modern CNNs, making feature extraction more efficient.\n",
    "\n",
    "2. **Weight Sharing**: LeNet-5 introduced the concept of weight sharing, where the same set of weights is used for different regions of the input. This property reduces the number of parameters, which is particularly important when working with limited data.\n",
    "\n",
    "3. **Hierarchical Learning**: The architecture of LeNet-5 is designed to learn low-level features in early layers (e.g., edges and textures) and progressively more complex features in deeper layers. This hierarchical learning allows for better representation of visual patterns.\n",
    "\n",
    "4. **Translation Invariance**: The max-pooling layers in LeNet-5 introduce a degree of translation invariance. This means the network can recognize patterns regardless of their precise location in the input, making it robust to slight translations.\n",
    "\n",
    "5. **Application to MNIST**: LeNet-5 was originally designed for handwritten digit recognition on the MNIST dataset and achieved remarkable accuracy on this task. It demonstrated the potential of deep learning for image recognition.\n",
    "\n",
    "**Limitations of LeNet-5:**\n",
    "\n",
    "1. **Shallow Architecture**: LeNet-5 is relatively shallow by modern standards. Deeper networks have been shown to capture more complex and abstract features. Deeper architectures, like ResNet and VGG, have surpassed LeNet-5's performance on a wide range of tasks.\n",
    "\n",
    "2. **Sigmoid Activation**: LeNet-5 uses sigmoid activation functions, which have been largely replaced by more effective and efficient activation functions like ReLU (Rectified Linear Unit) in modern architectures. Sigmoid functions can suffer from vanishing gradients, which slow down training.\n",
    "\n",
    "3. **Limited Receptive Field**: The small 5x5 receptive fields in LeNet-5 might not be sufficient for recognizing large, complex objects in high-resolution images. Modern architectures use larger receptive fields and often include skip connections.\n",
    "\n",
    "4. **Overfitting**: LeNet-5 does not include modern regularization techniques like dropout or batch normalization, which can help reduce overfitting.\n",
    "\n",
    "5. **Dataset and Task Specificity**: LeNet-5 was originally designed for digit recognition. Its applicability to more diverse and complex image classification tasks is limited, and it may not be as effective in handling more complex and varied datasets.\n",
    "\n",
    "In conclusion, LeNet-5's advantages lie in its pioneering concepts for feature extraction and weight sharing, as well as its hierarchical learning and translation invariance. However, it has limitations in terms of its shallow architecture, use of sigmoid activation functions, limited receptive field, and lack of modern regularization techniques. While it laid the groundwork for deep learning in computer vision, more advanced architectures have since been developed to address these limitations and excel in a wider range of image classification tasks."
   ]
  },
  {
   "cell_type": "markdown",
   "id": "3aa14b91",
   "metadata": {},
   "source": [
    "## Q4."
   ]
  },
  {
   "cell_type": "code",
   "execution_count": 2,
   "id": "cd671dc9",
   "metadata": {},
   "outputs": [],
   "source": [
    "import keras\n",
    "from keras.datasets import mnist"
   ]
  },
  {
   "cell_type": "markdown",
   "id": "ad42d6f6",
   "metadata": {},
   "source": [
    "### LOAD AND PREPROCESS DATA"
   ]
  },
  {
   "cell_type": "code",
   "execution_count": 4,
   "id": "69a2b8fb",
   "metadata": {},
   "outputs": [],
   "source": [
    "(X_train,y_train),(X_test,y_test)=mnist.load_data()"
   ]
  },
  {
   "cell_type": "code",
   "execution_count": 8,
   "id": "6ee669e9",
   "metadata": {},
   "outputs": [],
   "source": [
    "# 4d tensor is required\n",
    "X_train=X_train.reshape(X_train.shape[0],28,28,1)\n",
    "X_test=X_test.reshape(X_test.shape[0],28,28,1)"
   ]
  },
  {
   "cell_type": "code",
   "execution_count": 9,
   "id": "dabc0a2e",
   "metadata": {},
   "outputs": [],
   "source": [
    "X_train=X_train/255\n",
    "X_test=X_test/255"
   ]
  },
  {
   "cell_type": "code",
   "execution_count": 11,
   "id": "609c33ff",
   "metadata": {},
   "outputs": [],
   "source": [
    "# One hot encoding\n",
    "y_train=keras.utils.to_categorical(y_train,10)\n",
    "y_test=keras.utils.to_categorical(y_test,10)"
   ]
  },
  {
   "cell_type": "markdown",
   "id": "5b0df692",
   "metadata": {},
   "source": [
    "### BUILDING LENET 5"
   ]
  },
  {
   "cell_type": "code",
   "execution_count": 13,
   "id": "807fad4d",
   "metadata": {},
   "outputs": [],
   "source": [
    "from keras import layers"
   ]
  },
  {
   "cell_type": "code",
   "execution_count": 15,
   "id": "1acbd6ae",
   "metadata": {},
   "outputs": [],
   "source": [
    "Layers=[\n",
    "    layers.Conv2D(6,kernel_size=(5,5),activation='relu',input_shape=(28,28,1)),\n",
    "    layers.MaxPooling2D(pool_size=(2,2)),\n",
    "    layers.Conv2D(16,(5,5),activation='relu'),\n",
    "    layers.MaxPool2D((2,2)),\n",
    "    \n",
    "    layers.Flatten(),\n",
    "    layers.Dense(120, activation='relu'),\n",
    "    layers.Dense(84, activation='relu'),\n",
    "    layers.Dense(10, activation='softmax')\n",
    "]"
   ]
  },
  {
   "cell_type": "code",
   "execution_count": 17,
   "id": "2dc0fe2e",
   "metadata": {},
   "outputs": [
    {
     "name": "stdout",
     "output_type": "stream",
     "text": [
      "Model: \"sequential_1\"\n",
      "_________________________________________________________________\n",
      " Layer (type)                Output Shape              Param #   \n",
      "=================================================================\n",
      " conv2d (Conv2D)             (None, 24, 24, 6)         156       \n",
      "                                                                 \n",
      " max_pooling2d (MaxPooling2  (None, 12, 12, 6)         0         \n",
      " D)                                                              \n",
      "                                                                 \n",
      " conv2d_1 (Conv2D)           (None, 8, 8, 16)          2416      \n",
      "                                                                 \n",
      " max_pooling2d_1 (MaxPoolin  (None, 4, 4, 16)          0         \n",
      " g2D)                                                            \n",
      "                                                                 \n",
      " flatten (Flatten)           (None, 256)               0         \n",
      "                                                                 \n",
      " dense (Dense)               (None, 120)               30840     \n",
      "                                                                 \n",
      " dense_1 (Dense)             (None, 84)                10164     \n",
      "                                                                 \n",
      " dense_2 (Dense)             (None, 10)                850       \n",
      "                                                                 \n",
      "=================================================================\n",
      "Total params: 44426 (173.54 KB)\n",
      "Trainable params: 44426 (173.54 KB)\n",
      "Non-trainable params: 0 (0.00 Byte)\n",
      "_________________________________________________________________\n"
     ]
    }
   ],
   "source": [
    "model=keras.Sequential(Layers)\n",
    "model.summary()"
   ]
  },
  {
   "cell_type": "markdown",
   "id": "9ee48bb1",
   "metadata": {},
   "source": [
    "### COMPILE"
   ]
  },
  {
   "cell_type": "code",
   "execution_count": 18,
   "id": "e09466a0",
   "metadata": {},
   "outputs": [],
   "source": [
    "model.compile(\n",
    "    loss=keras.metrics.categorical_crossentropy,\n",
    "    optimizer=keras.optimizers.Adam(),\n",
    "    metrics=['accuracy']\n",
    ")"
   ]
  },
  {
   "cell_type": "code",
   "execution_count": 22,
   "id": "e4ac60c7",
   "metadata": {},
   "outputs": [
    {
     "name": "stdout",
     "output_type": "stream",
     "text": [
      "Epoch 1/2\n",
      "469/469 [==============================] - 9s 20ms/step - loss: 0.0470 - accuracy: 0.9855 - val_loss: 0.0479 - val_accuracy: 0.9850\n",
      "Epoch 2/2\n",
      "469/469 [==============================] - 10s 20ms/step - loss: 0.0383 - accuracy: 0.9879 - val_loss: 0.0382 - val_accuracy: 0.9870\n"
     ]
    }
   ],
   "source": [
    "history=model.fit(X_train,y_train,epochs=2, validation_data=(X_test,y_test),batch_size=128)"
   ]
  },
  {
   "cell_type": "markdown",
   "id": "dada0ffa",
   "metadata": {},
   "source": [
    "### PERFORMANCE AND INSIGHTS"
   ]
  },
  {
   "cell_type": "code",
   "execution_count": 21,
   "id": "cdc1363d",
   "metadata": {},
   "outputs": [],
   "source": [
    "import matplotlib.pyplot as plt"
   ]
  },
  {
   "cell_type": "code",
   "execution_count": 23,
   "id": "a710d9bc",
   "metadata": {},
   "outputs": [
    {
     "data": {
      "image/png": "[encoded data removed]",
      "text/plain": [
       "<Figure size 1200x400 with 2 Axes>"
      ]
     },
     "metadata": {},
     "output_type": "display_data"
    }
   ],
   "source": [
    "plt.figure(figsize=(12, 4))\n",
    "plt.subplot(1, 2, 1)\n",
    "plt.plot(history.history['accuracy'], label='Training Accuracy')\n",
    "plt.plot(history.history['val_accuracy'], label='Validation Accuracy')\n",
    "plt.legend()\n",
    "plt.title('Training and Validation Accuracy')\n",
    "\n",
    "plt.subplot(1, 2, 2)\n",
    "plt.plot(history.history['loss'], label='Training Loss')\n",
    "plt.plot(history.history['val_loss'], label='Validation Loss')\n",
    "plt.legend()\n",
    "plt.title('Training and Validation Loss')\n",
    "plt.show()"
   ]
  },
  {
   "cell_type": "code",
   "execution_count": 24,
   "id": "33dba661",
   "metadata": {},
   "outputs": [
    {
     "name": "stdout",
     "output_type": "stream",
     "text": [
      "313/313 [==============================] - 2s 5ms/step - loss: 0.0382 - accuracy: 0.9870\n"
     ]
    }
   ],
   "source": [
    "sc=model.evaluate(X_test,y_test)"
   ]
  },
  {
   "cell_type": "code",
   "execution_count": 25,
   "id": "7ba0d5cd",
   "metadata": {},
   "outputs": [
    {
     "data": {
      "text/plain": [
       "[0.03824346512556076, 0.9869999885559082]"
      ]
     },
     "execution_count": 25,
     "metadata": {},
     "output_type": "execute_result"
    }
   ],
   "source": [
    "sc"
   ]
  },
  {
   "cell_type": "markdown",
   "id": "eb8e3811",
   "metadata": {},
   "source": [
    "# ANALYZING ALEXNET"
   ]
  },
  {
   "cell_type": "markdown",
   "id": "07a40437",
   "metadata": {},
   "source": [
    "## Q1."
   ]
  },
  {
   "cell_type": "markdown",
   "id": "9a5cece6",
   "metadata": {},
   "source": [
    "AlexNet is a landmark deep learning architecture that played a pivotal role in advancing the field of computer vision. Developed by Alex Krizhevsky, Ilya Sutskever, and Geoffrey Hinton, AlexNet achieved a major breakthrough by winning the ImageNet Large Scale Visual Recognition Challenge (ILSVRC) in 2012. Below is an overview of the AlexNet architecture:\n",
    "\n",
    "**1. Input Layer (224x224x3):**\n",
    "   - AlexNet takes as input color images with a resolution of 224x224 pixels (3 channels for RGB color images).\n",
    "\n",
    "**2. Convolutional Layers:**\n",
    "   - **Convolutional Layer 1 (Conv1)**:\n",
    "     - 96 filters (kernels) of size 11x11.\n",
    "     - Stride of 4.\n",
    "     - Rectified Linear Unit (ReLU) activation.\n",
    "     - Local Response Normalization (LRN).\n",
    "     - Output: 55x55x96 feature maps.\n",
    "\n",
    "   - **Convolutional Layer 2 (Conv2)**:\n",
    "     - 256 filters of size 5x5.\n",
    "     - Stride of 1.\n",
    "     - ReLU activation.\n",
    "     - LRN.\n",
    "     - Max-pooling.\n",
    "     - Output: 27x27x256 feature maps.\n",
    "\n",
    "   - **Convolutional Layer 3 (Conv3)**:\n",
    "     - 384 filters of size 3x3.\n",
    "     - Stride of 1.\n",
    "     - ReLU activation.\n",
    "     - Output: 13x13x384 feature maps.\n",
    "\n",
    "   - **Convolutional Layer 4 (Conv4)**:\n",
    "     - 384 filters of size 3x3.\n",
    "     - Stride of 1.\n",
    "     - ReLU activation.\n",
    "     - Output: 13x13x384 feature maps.\n",
    "\n",
    "   - **Convolutional Layer 5 (Conv5)**:\n",
    "     - 256 filters of size 3x3.\n",
    "     - Stride of 1.\n",
    "     - ReLU activation.\n",
    "     - Max-pooling.\n",
    "     - Output: 6x6x256 feature maps.\n",
    "\n",
    "**3. Fully Connected Layers:**\n",
    "   - **Fully Connected Layer 6 (FC6)**:\n",
    "     - 4096 neurons.\n",
    "     - ReLU activation.\n",
    "     - Dropout (regularization).\n",
    "\n",
    "   - **Fully Connected Layer 7 (FC7)**:\n",
    "     - 4096 neurons.\n",
    "     - ReLU activation.\n",
    "     - Dropout (regularization).\n",
    "\n",
    "   - **Output Layer (FC8)**:\n",
    "     - 1000 neurons (for ImageNet's 1000 categories).\n",
    "     - Softmax activation.\n",
    "\n",
    "**4. Training and Optimization:**\n",
    "   - During training, AlexNet uses a cross-entropy loss function for multi-class classification tasks.\n",
    "   - The optimization algorithm used is stochastic gradient descent (SGD) with momentum.\n",
    "   - Data augmentation and dropout are employed for regularization.\n",
    "\n",
    "**Key Features and Significance:**\n",
    "- AlexNet is known for its deep architecture with multiple convolutional and fully connected layers. It helped establish the importance of deep neural networks in computer vision tasks.\n",
    "- The introduction of the Rectified Linear Unit (ReLU) activation function significantly accelerated training by mitigating the vanishing gradient problem.\n",
    "- Local Response Normalization (LRN) was used to enhance the generalization of the model.\n",
    "- AlexNet's architecture, along with regularization techniques, set a new standard in image classification and demonstrated the power of deep learning in computer vision.\n",
    "- Its success in the ImageNet competition was a turning point, inspiring the development of even more complex and efficient deep neural network architectures.\n"
   ]
  },
  {
   "cell_type": "markdown",
   "id": "8c157933",
   "metadata": {},
   "source": [
    "## Q2."
   ]
  },
  {
   "cell_type": "markdown",
   "id": "30cc3c1e",
   "metadata": {},
   "source": [
    "AlexNet introduced several architectural innovations that contributed to its groundbreaking performance and played a key role in its breakthrough in the ImageNet Large Scale Visual Recognition Challenge (ILSVRC) in 2012. These innovations were instrumental in making deep learning a mainstream approach for computer vision. Here are some of the key architectural innovations in AlexNet:\n",
    "\n",
    "1. **Deep Architecture**:\n",
    "   - AlexNet was one of the first deep convolutional neural networks to use a relatively deep architecture compared to previous shallow networks. It included multiple convolutional and fully connected layers.\n",
    "   - The deep architecture allowed the model to capture hierarchical features in the input data, learning low-level features in the early layers and more abstract features in deeper layers.\n",
    "\n",
    "2. **ReLU Activation Function**:\n",
    "   - AlexNet made extensive use of Rectified Linear Units (ReLU) as activation functions. ReLU is known for its efficiency and its ability to accelerate training by mitigating the vanishing gradient problem.\n",
    "   - The use of ReLU improved the convergence of the network and enabled training of deep architectures.\n",
    "\n",
    "3. **Local Response Normalization (LRN)**:\n",
    "   - AlexNet used a local response normalization (LRN) layer after the ReLU activation in some convolutional layers. LRN enhanced the model's ability to generalize by normalizing the responses of neighboring neurons.\n",
    "   - It acted as a form of lateral inhibition, emphasizing the most active neurons in a local neighborhood, which was beneficial for detecting localized features.\n",
    "\n",
    "4. **Large Convolutional Kernels**:\n",
    "   - The first convolutional layer (Conv1) in AlexNet used large 11x11 filters, which allowed the network to capture larger patterns and features in the input data.\n",
    "   - The combination of large receptive fields and deep architecture helped AlexNet capture both fine-grained and high-level features in images.\n",
    "\n",
    "5. **Overlapping Max-Pooling**:\n",
    "   - In AlexNet, max-pooling was applied with a small 3x3 window and a stride of 2, leading to overlapping pooling regions. This allowed for translation invariance, meaning the network could recognize patterns regardless of their precise location in the input.\n",
    "\n",
    "6. **Dropout Regularization**:\n",
    "   - AlexNet used dropout in the fully connected layers (FC6 and FC7) to prevent overfitting. Dropout randomly \"dropped out\" a fraction of neurons during training, effectively creating an ensemble of different network architectures.\n",
    "   - This regularization technique improved generalization and helped prevent the network from fitting noise in the training data.\n",
    "\n",
    "7. **Data Augmentation**:\n",
    "   - Data augmentation techniques, such as random cropping and horizontal flipping, were used during training to increase the diversity of the training data. This made the model more robust to variations in the input images.\n",
    "\n",
    "8. **Parallelism and GPU Utilization**:\n",
    "   - AlexNet was designed to take advantage of multiple GPUs for parallel processing. This was a practical innovation that significantly accelerated training times and allowed for training deeper networks.\n",
    "\n",
    "These architectural innovations collectively allowed AlexNet to achieve a significant reduction in error rates on the ImageNet dataset, setting a new standard for image classification. It demonstrated the potential of deep learning and motivated the development of even more advanced CNN architectures. The principles introduced in AlexNet have since become fundamental in the design of state-of-the-art deep learning models for computer vision tasks."
   ]
  },
  {
   "cell_type": "markdown",
   "id": "5afb9ad5",
   "metadata": {},
   "source": [
    "## Q3."
   ]
  },
  {
   "cell_type": "markdown",
   "id": "bd5946b3",
   "metadata": {},
   "source": [
    "In AlexNet, a groundbreaking convolutional neural network (CNN) architecture, the combination of convolutional layers, pooling layers, and fully connected layers plays a crucial role in the network's ability to capture hierarchical features and perform image classification tasks. Here's a discussion of the roles and contributions of these different layer types in AlexNet:\n",
    "\n",
    "**1. Convolutional Layers:**\n",
    "   - **Convolutional layers are responsible for feature extraction.** In AlexNet, several convolutional layers are used with different filter sizes and numbers of filters to capture features of varying scales and complexity.\n",
    "   - **Deep Features**: The deep convolutional layers, such as Conv1, Conv2, and so on, capture low-level features like edges, textures, and simple shapes in early layers and progressively more complex features as we move deeper into the network.\n",
    "   - **Hierarchical Learning**: The hierarchical learning facilitated by convolutional layers allows the network to learn increasingly abstract representations of the input data, enabling it to recognize patterns and objects at various levels of complexity.\n",
    "\n",
    "**2. Pooling Layers:**\n",
    "   - **Pooling layers are responsible for down-sampling and feature selection.** In AlexNet, max-pooling layers are used.\n",
    "   - **Dimension Reduction**: Max-pooling reduces the spatial dimensions of the feature maps, making the network more computationally efficient and reducing the risk of overfitting.\n",
    "   - **Translation Invariance**: Max-pooling introduces translation invariance, allowing the network to recognize patterns regardless of their exact location in the input. Overlapping pooling regions help achieve this invariance.\n",
    "   - **Feature Selection**: By selecting the maximum activation in each pooling region, pooling layers retain the most important features while discarding less significant details. This helps the network focus on the most discriminative information.\n",
    "\n",
    "**3. Fully Connected Layers:**\n",
    "   - **Fully connected layers are responsible for high-level feature aggregation and classification.** In AlexNet, there are several fully connected layers, including FC6, FC7, and FC8 (the output layer).\n",
    "   - **High-Level Abstractions**: Fully connected layers aggregate high-level features from the convolutional and pooling layers to make classification decisions.\n",
    "   - **Non-Linearity**: ReLU activation functions in fully connected layers introduce non-linearity and enhance the network's ability to model complex relationships in the data.\n",
    "   - **Regularization**: Dropout is applied in the fully connected layers for regularization, preventing overfitting and improving generalization.\n",
    "\n",
    "In summary, the convolutional layers in AlexNet are responsible for extracting features, the pooling layers down-sample and select the most relevant features, and the fully connected layers perform high-level feature aggregation and classification. The combination of these layers allows the network to capture a wide range of features, from simple to complex, and make accurate predictions in image classification tasks. The specific architectural choices and innovations in each layer type were key factors in AlexNet's breakthrough performance in the ImageNet competition and its impact on the field of deep learning."
   ]
  },
  {
   "cell_type": "markdown",
   "id": "04163d8a",
   "metadata": {},
   "source": [
    "## Q4."
   ]
  },
  {
   "cell_type": "code",
   "execution_count": 26,
   "id": "8bd4ec0a",
   "metadata": {},
   "outputs": [
    {
     "name": "stdout",
     "output_type": "stream",
     "text": [
      "Collecting tflearn\n",
      "  Downloading tflearn-0.5.0.tar.gz (107 kB)\n",
      "     ---------------------------------------- 0.0/107.3 kB ? eta -:--:--\n",
      "     ----------- --------------------------- 30.7/107.3 kB 1.3 MB/s eta 0:00:01\n",
      "     -------------------------------------- 107.3/107.3 kB 1.6 MB/s eta 0:00:00\n",
      "  Preparing metadata (setup.py): started\n",
      "  Preparing metadata (setup.py): finished with status 'done'\n",
      "Requirement already satisfied: numpy in c:\\users\\inder\\anaconda3\\lib\\site-packages (from tflearn) (1.24.3)\n",
      "Requirement already satisfied: six in c:\\users\\inder\\anaconda3\\lib\\site-packages (from tflearn) (1.16.0)\n",
      "Requirement already satisfied: Pillow in c:\\users\\inder\\anaconda3\\lib\\site-packages (from tflearn) (9.4.0)\n",
      "Building wheels for collected packages: tflearn\n",
      "  Building wheel for tflearn (setup.py): started\n",
      "  Building wheel for tflearn (setup.py): finished with status 'done'\n",
      "  Created wheel for tflearn: filename=tflearn-0.5.0-py3-none-any.whl size=127290 sha256=83ed10f9808d1ad833e59ded4d37298ef31e9719f5d5b8c0607dbb5edfef7012\n",
      "  Stored in directory: c:\\users\\inder\\appdata\\local\\pip\\cache\\wheels\\67\\dd\\7b\\ddc1488c900739f410ea276e0e450d220f69d85c39e421f5f3\n",
      "Successfully built tflearn\n",
      "Installing collected packages: tflearn\n",
      "Successfully installed tflearn-0.5.0\n"
     ]
    }
   ],
   "source": [
    "!pip install tflearn"
   ]
  },
  {
   "cell_type": "code",
   "execution_count": 58,
   "id": "3375b8fb",
   "metadata": {},
   "outputs": [],
   "source": [
    "import tensorflow as tf\n",
    "from tensorflow.keras import layers, models\n",
    "from tensorflow.keras.optimizers import SGD\n",
    "from tensorflow.keras.datasets import cifar10\n",
    "from sklearn.metrics import accuracy_score"
   ]
  },
  {
   "cell_type": "code",
   "execution_count": 66,
   "id": "4b6c29b2",
   "metadata": {},
   "outputs": [
    {
     "ename": "NotImplementedError",
     "evalue": "numpy() is only available when eager execution is enabled.",
     "output_type": "error",
     "traceback": [
      "\u001b[1;31m---------------------------------------------------------------------------\u001b[0m",
      "\u001b[1;31mNotImplementedError\u001b[0m                       Traceback (most recent call last)",
      "Cell \u001b[1;32mIn[66], line 24\u001b[0m\n\u001b[0;32m     21\u001b[0m model1\u001b[38;5;241m.\u001b[39madd(layers\u001b[38;5;241m.\u001b[39mDense(\u001b[38;5;241m10\u001b[39m, activation\u001b[38;5;241m=\u001b[39m\u001b[38;5;124m'\u001b[39m\u001b[38;5;124msoftmax\u001b[39m\u001b[38;5;124m'\u001b[39m))  \u001b[38;5;66;03m# 10 classes in CIFAR-10\u001b[39;00m\n\u001b[0;32m     23\u001b[0m \u001b[38;5;66;03m# Compile the model\u001b[39;00m\n\u001b[1;32m---> 24\u001b[0m model1\u001b[38;5;241m.\u001b[39mcompile(optimizer\u001b[38;5;241m=\u001b[39mSGD(learning_rate\u001b[38;5;241m=\u001b[39m\u001b[38;5;241m0.01\u001b[39m), loss\u001b[38;5;241m=\u001b[39m\u001b[38;5;124m'\u001b[39m\u001b[38;5;124msparse_categorical_crossentropy\u001b[39m\u001b[38;5;124m'\u001b[39m, metrics\u001b[38;5;241m=\u001b[39m[\u001b[38;5;124m'\u001b[39m\u001b[38;5;124maccuracy\u001b[39m\u001b[38;5;124m'\u001b[39m])\n\u001b[0;32m     26\u001b[0m \u001b[38;5;66;03m# Train the model\u001b[39;00m\n\u001b[0;32m     27\u001b[0m model1\u001b[38;5;241m.\u001b[39mfit(x_train, y_train, epochs\u001b[38;5;241m=\u001b[39m\u001b[38;5;241m10\u001b[39m, validation_data\u001b[38;5;241m=\u001b[39m(x_test, y_test))\n",
      "File \u001b[1;32m~\\anaconda3\\Lib\\site-packages\\tensorflow\\python\\trackable\\base.py:204\u001b[0m, in \u001b[0;36mno_automatic_dependency_tracking.<locals>._method_wrapper\u001b[1;34m(self, *args, **kwargs)\u001b[0m\n\u001b[0;32m    202\u001b[0m \u001b[38;5;28mself\u001b[39m\u001b[38;5;241m.\u001b[39m_self_setattr_tracking \u001b[38;5;241m=\u001b[39m \u001b[38;5;28;01mFalse\u001b[39;00m  \u001b[38;5;66;03m# pylint: disable=protected-access\u001b[39;00m\n\u001b[0;32m    203\u001b[0m \u001b[38;5;28;01mtry\u001b[39;00m:\n\u001b[1;32m--> 204\u001b[0m   result \u001b[38;5;241m=\u001b[39m method(\u001b[38;5;28mself\u001b[39m, \u001b[38;5;241m*\u001b[39margs, \u001b[38;5;241m*\u001b[39m\u001b[38;5;241m*\u001b[39mkwargs)\n\u001b[0;32m    205\u001b[0m \u001b[38;5;28;01mfinally\u001b[39;00m:\n\u001b[0;32m    206\u001b[0m   \u001b[38;5;28mself\u001b[39m\u001b[38;5;241m.\u001b[39m_self_setattr_tracking \u001b[38;5;241m=\u001b[39m previous_value  \u001b[38;5;66;03m# pylint: disable=protected-access\u001b[39;00m\n",
      "File \u001b[1;32m~\\anaconda3\\Lib\\site-packages\\keras\\src\\engine\\training_v1.py:321\u001b[0m, in \u001b[0;36mModel.compile\u001b[1;34m(self, optimizer, loss, metrics, loss_weights, sample_weight_mode, weighted_metrics, target_tensors, distribute, **kwargs)\u001b[0m\n\u001b[0;32m    314\u001b[0m     \u001b[38;5;28;01mif\u001b[39;00m \u001b[38;5;28mself\u001b[39m\u001b[38;5;241m.\u001b[39mrun_eagerly:\n\u001b[0;32m    315\u001b[0m         \u001b[38;5;28;01mraise\u001b[39;00m \u001b[38;5;167;01mValueError\u001b[39;00m(\n\u001b[0;32m    316\u001b[0m             \u001b[38;5;124m\"\u001b[39m\u001b[38;5;124mSession keyword arguments are not supported \u001b[39m\u001b[38;5;124m\"\u001b[39m\n\u001b[0;32m    317\u001b[0m             \u001b[38;5;124m\"\u001b[39m\u001b[38;5;124mwhen `run_eagerly=True`. You passed the following \u001b[39m\u001b[38;5;124m\"\u001b[39m\n\u001b[0;32m    318\u001b[0m             \u001b[38;5;124m\"\u001b[39m\u001b[38;5;124mSession arguments: \u001b[39m\u001b[38;5;132;01m%s\u001b[39;00m\u001b[38;5;124m\"\u001b[39m \u001b[38;5;241m%\u001b[39m (\u001b[38;5;28mself\u001b[39m\u001b[38;5;241m.\u001b[39m_function_kwargs,)\n\u001b[0;32m    319\u001b[0m         )\n\u001b[1;32m--> 321\u001b[0m \u001b[38;5;28mself\u001b[39m\u001b[38;5;241m.\u001b[39m_set_optimizer(optimizer)\n\u001b[0;32m    322\u001b[0m is_any_keras_optimizer_v1 \u001b[38;5;241m=\u001b[39m \u001b[38;5;28many\u001b[39m(\n\u001b[0;32m    323\u001b[0m     (\n\u001b[0;32m    324\u001b[0m         \u001b[38;5;28misinstance\u001b[39m(opt, optimizer_v1\u001b[38;5;241m.\u001b[39mOptimizer)\n\u001b[1;32m   (...)\u001b[0m\n\u001b[0;32m    327\u001b[0m     \u001b[38;5;28;01mfor\u001b[39;00m opt \u001b[38;5;129;01min\u001b[39;00m tf\u001b[38;5;241m.\u001b[39mnest\u001b[38;5;241m.\u001b[39mflatten(\u001b[38;5;28mself\u001b[39m\u001b[38;5;241m.\u001b[39moptimizer)\n\u001b[0;32m    328\u001b[0m )\n\u001b[0;32m    330\u001b[0m \u001b[38;5;28;01mif\u001b[39;00m (\n\u001b[0;32m    331\u001b[0m     is_any_keras_optimizer_v1\n\u001b[0;32m    332\u001b[0m     \u001b[38;5;129;01mand\u001b[39;00m tf\u001b[38;5;241m.\u001b[39mcompat\u001b[38;5;241m.\u001b[39mv1\u001b[38;5;241m.\u001b[39mexecuting_eagerly_outside_functions()\n\u001b[0;32m    333\u001b[0m ):\n",
      "File \u001b[1;32m~\\anaconda3\\Lib\\site-packages\\keras\\src\\engine\\training_v1.py:1473\u001b[0m, in \u001b[0;36mModel._set_optimizer\u001b[1;34m(self, optimizer)\u001b[0m\n\u001b[0;32m   1471\u001b[0m     \u001b[38;5;28mself\u001b[39m\u001b[38;5;241m.\u001b[39moptimizer \u001b[38;5;241m=\u001b[39m [optimizers\u001b[38;5;241m.\u001b[39mget(opt) \u001b[38;5;28;01mfor\u001b[39;00m opt \u001b[38;5;129;01min\u001b[39;00m optimizer]\n\u001b[0;32m   1472\u001b[0m \u001b[38;5;28;01melse\u001b[39;00m:\n\u001b[1;32m-> 1473\u001b[0m     \u001b[38;5;28mself\u001b[39m\u001b[38;5;241m.\u001b[39moptimizer \u001b[38;5;241m=\u001b[39m optimizers\u001b[38;5;241m.\u001b[39mget(optimizer)\n\u001b[0;32m   1475\u001b[0m \u001b[38;5;28;01mif\u001b[39;00m \u001b[38;5;28mself\u001b[39m\u001b[38;5;241m.\u001b[39m_dtype_policy\u001b[38;5;241m.\u001b[39mname \u001b[38;5;241m==\u001b[39m \u001b[38;5;124m\"\u001b[39m\u001b[38;5;124mmixed_float16\u001b[39m\u001b[38;5;124m\"\u001b[39m \u001b[38;5;129;01mand\u001b[39;00m \u001b[38;5;129;01mnot\u001b[39;00m \u001b[38;5;28misinstance\u001b[39m(\n\u001b[0;32m   1476\u001b[0m     \u001b[38;5;28mself\u001b[39m\u001b[38;5;241m.\u001b[39moptimizer, loss_scale_optimizer\u001b[38;5;241m.\u001b[39mLossScaleOptimizer\n\u001b[0;32m   1477\u001b[0m ):\n\u001b[0;32m   1478\u001b[0m     \u001b[38;5;28;01mif\u001b[39;00m \u001b[38;5;28misinstance\u001b[39m(\u001b[38;5;28mself\u001b[39m\u001b[38;5;241m.\u001b[39moptimizer, \u001b[38;5;28mlist\u001b[39m):\n",
      "File \u001b[1;32m~\\anaconda3\\Lib\\site-packages\\keras\\src\\optimizers\\__init__.py:306\u001b[0m, in \u001b[0;36mget\u001b[1;34m(identifier, **kwargs)\u001b[0m\n\u001b[0;32m    302\u001b[0m         \u001b[38;5;28;01mreturn\u001b[39;00m identifier\n\u001b[0;32m    303\u001b[0m     \u001b[38;5;28;01melse\u001b[39;00m:\n\u001b[0;32m    304\u001b[0m         \u001b[38;5;66;03m# If TF2 is disabled, we convert to the legacy\u001b[39;00m\n\u001b[0;32m    305\u001b[0m         \u001b[38;5;66;03m# optimizer.\u001b[39;00m\n\u001b[1;32m--> 306\u001b[0m         \u001b[38;5;28;01mreturn\u001b[39;00m convert_to_legacy_optimizer(identifier)\n\u001b[0;32m    308\u001b[0m \u001b[38;5;66;03m# Wrap legacy TF optimizer instances\u001b[39;00m\n\u001b[0;32m    309\u001b[0m \u001b[38;5;28;01melif\u001b[39;00m \u001b[38;5;28misinstance\u001b[39m(identifier, tf\u001b[38;5;241m.\u001b[39mcompat\u001b[38;5;241m.\u001b[39mv1\u001b[38;5;241m.\u001b[39mtrain\u001b[38;5;241m.\u001b[39mOptimizer):\n",
      "File \u001b[1;32m~\\anaconda3\\Lib\\site-packages\\keras\\src\\optimizers\\__init__.py:239\u001b[0m, in \u001b[0;36mconvert_to_legacy_optimizer\u001b[1;34m(optimizer)\u001b[0m\n\u001b[0;32m    233\u001b[0m     \u001b[38;5;28;01mraise\u001b[39;00m \u001b[38;5;167;01mValueError\u001b[39;00m(\n\u001b[0;32m    234\u001b[0m         \u001b[38;5;124m\"\u001b[39m\u001b[38;5;124m`convert_to_legacy_optimizer` should only be called \u001b[39m\u001b[38;5;124m\"\u001b[39m\n\u001b[0;32m    235\u001b[0m         \u001b[38;5;124m\"\u001b[39m\u001b[38;5;124mon instances of `tf.keras.optimizers.Optimizer`, but \u001b[39m\u001b[38;5;124m\"\u001b[39m\n\u001b[0;32m    236\u001b[0m         \u001b[38;5;124mf\u001b[39m\u001b[38;5;124m\"\u001b[39m\u001b[38;5;124mreceived \u001b[39m\u001b[38;5;132;01m{\u001b[39;00moptimizer\u001b[38;5;132;01m}\u001b[39;00m\u001b[38;5;124m of type \u001b[39m\u001b[38;5;132;01m{\u001b[39;00m\u001b[38;5;28mtype\u001b[39m(optimizer)\u001b[38;5;132;01m}\u001b[39;00m\u001b[38;5;124m.\u001b[39m\u001b[38;5;124m\"\u001b[39m\n\u001b[0;32m    237\u001b[0m     )\n\u001b[0;32m    238\u001b[0m optimizer_name \u001b[38;5;241m=\u001b[39m optimizer\u001b[38;5;241m.\u001b[39m\u001b[38;5;18m__class__\u001b[39m\u001b[38;5;241m.\u001b[39m\u001b[38;5;18m__name__\u001b[39m\u001b[38;5;241m.\u001b[39mlower()\n\u001b[1;32m--> 239\u001b[0m config \u001b[38;5;241m=\u001b[39m optimizer\u001b[38;5;241m.\u001b[39mget_config()\n\u001b[0;32m    240\u001b[0m \u001b[38;5;66;03m# Remove fields that only exist in experimental optimizer.\u001b[39;00m\n\u001b[0;32m    241\u001b[0m keys_to_remove \u001b[38;5;241m=\u001b[39m [\n\u001b[0;32m    242\u001b[0m     \u001b[38;5;124m\"\u001b[39m\u001b[38;5;124mweight_decay\u001b[39m\u001b[38;5;124m\"\u001b[39m,\n\u001b[0;32m    243\u001b[0m     \u001b[38;5;124m\"\u001b[39m\u001b[38;5;124muse_ema\u001b[39m\u001b[38;5;124m\"\u001b[39m,\n\u001b[1;32m   (...)\u001b[0m\n\u001b[0;32m    247\u001b[0m     \u001b[38;5;124m\"\u001b[39m\u001b[38;5;124mis_legacy_optimizer\u001b[39m\u001b[38;5;124m\"\u001b[39m,\n\u001b[0;32m    248\u001b[0m ]\n",
      "File \u001b[1;32m~\\anaconda3\\Lib\\site-packages\\keras\\src\\optimizers\\sgd.py:195\u001b[0m, in \u001b[0;36mSGD.get_config\u001b[1;34m(self)\u001b[0m\n\u001b[0;32m    190\u001b[0m \u001b[38;5;28;01mdef\u001b[39;00m \u001b[38;5;21mget_config\u001b[39m(\u001b[38;5;28mself\u001b[39m):\n\u001b[0;32m    191\u001b[0m     config \u001b[38;5;241m=\u001b[39m \u001b[38;5;28msuper\u001b[39m()\u001b[38;5;241m.\u001b[39mget_config()\n\u001b[0;32m    193\u001b[0m     config\u001b[38;5;241m.\u001b[39mupdate(\n\u001b[0;32m    194\u001b[0m         {\n\u001b[1;32m--> 195\u001b[0m             \u001b[38;5;124m\"\u001b[39m\u001b[38;5;124mlearning_rate\u001b[39m\u001b[38;5;124m\"\u001b[39m: \u001b[38;5;28mself\u001b[39m\u001b[38;5;241m.\u001b[39m_serialize_hyperparameter(\n\u001b[0;32m    196\u001b[0m                 \u001b[38;5;28mself\u001b[39m\u001b[38;5;241m.\u001b[39m_learning_rate\n\u001b[0;32m    197\u001b[0m             ),\n\u001b[0;32m    198\u001b[0m             \u001b[38;5;124m\"\u001b[39m\u001b[38;5;124mmomentum\u001b[39m\u001b[38;5;124m\"\u001b[39m: \u001b[38;5;28mself\u001b[39m\u001b[38;5;241m.\u001b[39mmomentum,\n\u001b[0;32m    199\u001b[0m             \u001b[38;5;124m\"\u001b[39m\u001b[38;5;124mnesterov\u001b[39m\u001b[38;5;124m\"\u001b[39m: \u001b[38;5;28mself\u001b[39m\u001b[38;5;241m.\u001b[39mnesterov,\n\u001b[0;32m    200\u001b[0m         }\n\u001b[0;32m    201\u001b[0m     )\n\u001b[0;32m    202\u001b[0m     \u001b[38;5;28;01mreturn\u001b[39;00m config\n",
      "File \u001b[1;32m~\\anaconda3\\Lib\\site-packages\\keras\\src\\optimizers\\optimizer.py:726\u001b[0m, in \u001b[0;36m_BaseOptimizer._serialize_hyperparameter\u001b[1;34m(self, hyperparameter)\u001b[0m\n\u001b[0;32m    724\u001b[0m     \u001b[38;5;28;01mreturn\u001b[39;00m learning_rate_schedule\u001b[38;5;241m.\u001b[39mserialize(hyperparameter)\n\u001b[0;32m    725\u001b[0m \u001b[38;5;28;01mif\u001b[39;00m \u001b[38;5;28misinstance\u001b[39m(hyperparameter, tf\u001b[38;5;241m.\u001b[39mVariable):\n\u001b[1;32m--> 726\u001b[0m     \u001b[38;5;28;01mreturn\u001b[39;00m hyperparameter\u001b[38;5;241m.\u001b[39mnumpy()\n\u001b[0;32m    727\u001b[0m \u001b[38;5;28;01mif\u001b[39;00m \u001b[38;5;28mcallable\u001b[39m(hyperparameter):\n\u001b[0;32m    728\u001b[0m     \u001b[38;5;28;01mreturn\u001b[39;00m hyperparameter()\n",
      "File \u001b[1;32m~\\anaconda3\\Lib\\site-packages\\tensorflow\\python\\ops\\resource_variable_ops.py:688\u001b[0m, in \u001b[0;36mBaseResourceVariable.numpy\u001b[1;34m(self)\u001b[0m\n\u001b[0;32m    686\u001b[0m \u001b[38;5;28;01mif\u001b[39;00m context\u001b[38;5;241m.\u001b[39mexecuting_eagerly():\n\u001b[0;32m    687\u001b[0m   \u001b[38;5;28;01mreturn\u001b[39;00m \u001b[38;5;28mself\u001b[39m\u001b[38;5;241m.\u001b[39mread_value()\u001b[38;5;241m.\u001b[39mnumpy()\n\u001b[1;32m--> 688\u001b[0m \u001b[38;5;28;01mraise\u001b[39;00m \u001b[38;5;167;01mNotImplementedError\u001b[39;00m(\n\u001b[0;32m    689\u001b[0m     \u001b[38;5;124m\"\u001b[39m\u001b[38;5;124mnumpy() is only available when eager execution is enabled.\u001b[39m\u001b[38;5;124m\"\u001b[39m)\n",
      "\u001b[1;31mNotImplementedError\u001b[0m: numpy() is only available when eager execution is enabled."
     ]
    }
   ],
   "source": [
    "# Load and preprocess the CIFAR-10 dataset\n",
    "(x_train, y_train), (x_test, y_test) = cifar10.load_data()\n",
    "x_train, x_test = x_train / 255.0, x_test / 255.0  # Normalize pixel values to [0, 1]\n",
    "\n",
    "# Define the AlexNet architecture\n",
    "model1 = models.Sequential()\n",
    "\n",
    "# Convolutional layers\n",
    "model1.add(layers.Conv2D(96, (11, 11), strides=(4, 4), activation='relu', input_shape=(224, 224, 3)))\n",
    "model1.add(layers.MaxPooling2D((3, 3), strides=(2, 2)))\n",
    "model1.add(layers.Conv2D(256, (5, 5), activation='relu'))\n",
    "model1.add(layers.MaxPooling2D((3, 3), strides=(2, 2)))\n",
    "model1.add(layers.Conv2D(384, (3, 3), activation='relu'))\n",
    "model1.add(layers.Conv2D(384, (3, 3), activation='relu'))\n",
    "model1.add(layers.Conv2D(256, (3, 3), activation='relu'))\n",
    "model1.add(layers.MaxPooling2D((3, 3), strides=(2, 2)))\n",
    "model1.add(layers.Flatten())\n",
    "model1.add(layers.Dropout(0.5))\n",
    "model1.add(layers.Dense(4096, activation='relu'))\n",
    "model1.add(layers.Dropout(0.5))\n",
    "model1.add(layers.Dense(10, activation='softmax'))  # 10 classes in CIFAR-10\n",
    "\n",
    "# Compile the model\n",
    "model1.compile(optimizer=SGD(learning_rate=0.01), loss='sparse_categorical_crossentropy', metrics=['accuracy'])\n",
    "\n",
    "# Train the model\n",
    "model1.fit(x_train, y_train, epochs=10, validation_data=(x_test, y_test))\n",
    "\n",
    "# Evaluate the model\n",
    "y_pred = model.predict(x_test)\n",
    "y_pred_classes = [tf.argmax(y, output_type=tf.int32) for y in y_pred]\n",
    "test_accuracy = accuracy_score(y_test, y_pred_classes)\n",
    "print(f'Test accuracy: {test_accuracy * 100:.2f}%')"
   ]
  }
 ],
 "metadata": {
  "kernelspec": {
   "display_name": "Python 3 (ipykernel)",
   "language": "python",
   "name": "python3"
  },
  "language_info": {
   "codemirror_mode": {
    "name": "ipython",
    "version": 3
   },
   "file_extension": ".py",
   "mimetype": "text/x-python",
   "name": "python",
   "nbconvert_exporter": "python",
   "pygments_lexer": "ipython3",
   "version": "3.11.4"
  }
 },
 "nbformat": 4,
 "nbformat_minor": 5
}
