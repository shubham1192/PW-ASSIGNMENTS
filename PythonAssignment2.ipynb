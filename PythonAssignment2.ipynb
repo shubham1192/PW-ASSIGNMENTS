{
 "cells": [
  {
   "cell_type": "markdown",
   "id": "73294173",
   "metadata": {},
   "source": [
    "# Q1"
   ]
  },
  {
   "cell_type": "markdown",
   "id": "d6606afe",
   "metadata": {},
   "source": [
    "1. Single-line Comments: Single-line comments are used to comment out a single line of code or to provide a brief explanation for a single line of code. In Python, you can create single-line comments using the # character. Anything after # on the same line is considered a comment and is ignored by the Python interpreter.\n",
    "\n",
    "2. Multi-line Comments (Docstrings): Multi-line comments are used for longer explanations, documentation, or multiline comments. In Python, multi-line comments are often written using triple-quotes (''' or \"\"\"). While these are not technically comments, they are used as documentation strings, also known as \"docstrings.\""
   ]
  },
  {
   "cell_type": "code",
   "execution_count": 7,
   "id": "8390d123",
   "metadata": {},
   "outputs": [
    {
     "data": {
      "text/plain": [
       "'\\nThis is a multi-line comment or docstring.\\nIt can span multiple lines and is often used to provide\\ndocumentation for functions, classes, or modules.\\n'"
      ]
     },
     "execution_count": 7,
     "metadata": {},
     "output_type": "execute_result"
    }
   ],
   "source": [
    "# x=5\n",
    "\n",
    "'''\n",
    "This is a multi-line comment or docstring.\n",
    "It can span multiple lines and is often used to provide\n",
    "documentation for functions, classes, or modules.\n",
    "'''"
   ]
  },
  {
   "cell_type": "markdown",
   "id": "31190aa0",
   "metadata": {},
   "source": [
    "# Q2"
   ]
  },
  {
   "cell_type": "markdown",
   "id": "1e8a31e4",
   "metadata": {},
   "source": [
    "In Python, variables are used to store and manipulate data. A variable is like a labeled container that holds a value or reference to an object. Variables allow you to work with data in your programs by giving a name to a particular value or object. Here are some key points about variables in Python:\n",
    "\n",
    "1. **Variable Naming Rules**:\n",
    "   - Variable names must start with a letter (a-z, A-Z) or an underscore `_`.\n",
    "   - Subsequent characters in variable names can include letters, numbers (0-9), and underscores.\n",
    "   - Variable names are case-sensitive, meaning `myVar` and `myvar` are treated as different variables.\n",
    "\n",
    "2. **Assignment**:\n",
    "   - To create a variable and assign it a value, you use the assignment operator (`=`).\n",
    "   - For example, `x = 5` assigns the value `5` to the variable `x`.\n",
    "\n",
    "3. **Dynamic Typing**:\n",
    "   - Python is dynamically typed, which means you don't need to declare the data type of a variable explicitly.\n",
    "   - The data type of a variable is determined automatically based on the value it holds.\n",
    "\n",
    "4. **Example of Variables**:\n",
    "   ```python\n",
    "   x = 5         # Integer variable\n",
    "   y = 3.14      # Floating-point variable\n",
    "   name = \"John\" # String variable\n",
    "   is_valid = True # Boolean variable\n",
    "   ```\n",
    "\n",
    "5. **Reassignment**:\n",
    "   - You can change the value of a variable by assigning it a new value.\n",
    "   ```python\n",
    "   x = 5\n",
    "   x = x + 1  # Reassigning a new value to x\n",
    "   ```\n",
    "\n",
    "6. **Variable Scope**:\n",
    "   - Variables have a scope, which defines where in your code the variable can be accessed.\n",
    "   - Variables can be either global (accessible throughout the entire program) or local (only accessible within a specific function or block of code).\n",
    "\n",
    "7. **Deleting Variables**:\n",
    "   - You can delete a variable using the `del` statement.\n",
    "   ```python\n",
    "   x = 5\n",
    "   del x  # Deletes the variable x\n",
    "   ```\n",
    "\n",
    "8. **Type() Function**:\n",
    "   - You can use the `type()` function to determine the data type of a variable.\n",
    "   ```python\n",
    "   x = 5\n",
    "   print(type(x))  # Output: <class 'int'>\n",
    "   \n",
    "\n",
    "9. **Variable Names Convention**:\n",
    "   - It's a good practice to use descriptive variable names to make your code more readable.\n",
    "   - Conventionally, variable names are written in lowercase, with underscores separating words (e.g., `my_variable_name`).\n",
    "\n",
    "Variables are fundamental in programming, as they allow you to store and manipulate data, making your code more flexible and expressive."
   ]
  },
  {
   "cell_type": "markdown",
   "id": "970f6a33",
   "metadata": {},
   "source": [
    "# Q3"
   ]
  },
  {
   "cell_type": "markdown",
   "id": "5f8f1b4e",
   "metadata": {},
   "source": [
    "In Python, you can convert one data type to another using type conversion functions or by simply assigning a value of one data type to a variable of another data type. Here are some common ways to perform type conversion:\n",
    "\n",
    "1. **Implicit Type Conversion (Automatic Type Conversion)**:\n",
    "   - Python automatically converts data types in certain situations, such as when performing operations between different data types.\n",
    "\n",
    "   ```python\n",
    "   x = 5  # Integer\n",
    "   y = 2.0  # Float\n",
    "   z = x + y  # Implicit conversion to float\n",
    "   ```\n",
    "\n",
    "   In this example, `x` (an integer) is implicitly converted to a float when it's added to `y` (a float).\n",
    "\n",
    "2. **Explicit Type Conversion (Type Casting)**:\n",
    "   - You can explicitly convert one data type to another using type casting functions. Common type casting functions include `int()`, `float()`, `str()`, and others.\n",
    "\n",
    "   ```python\n",
    "   x = 5.7  # Float\n",
    "   y = int(x)  # Explicit conversion to integer\n",
    "   ```\n",
    "\n",
    "   In this example, `float x` is explicitly converted to an integer using the `int()` function, which truncates the decimal part.\n",
    "\n",
    "3. **Using Type-Specific Functions**:\n",
    "   - Some data types have specific methods or functions for type conversion.\n",
    "\n",
    "   ```python\n",
    "   my_string = \"123\"\n",
    "   my_integer = int(my_string)\n",
    "   ```\n",
    "\n",
    "   Here, the `int()` function is used to convert a string containing digits to an integer.\n",
    "\n",
    "4. **Using `str()` for String Conversion**:\n",
    "   - You can use the `str()` function to convert other data types to strings.\n",
    "\n",
    "   ```python\n",
    "   my_number = 42\n",
    "   my_string = str(my_number)\n",
    "   ```\n",
    "\n",
    "   In this example, `int my_number` is converted to a string.\n",
    "\n",
    "5. **Using `list()`, `tuple()`, `set()`, etc., for Collection Conversion**:\n",
    "   - You can use collection-specific functions like `list()`, `tuple()`, and `set()` to convert data types to lists, tuples, or sets.\n",
    "\n",
    "   ```python\n",
    "   my_list = list(\"hello\")  # Converts a string to a list of characters\n",
    "   ```\n",
    "\n",
    "6. **Using `bool()` for Boolean Conversion**:\n",
    "   - You can use `bool()` to convert values to Boolean (True or False).\n",
    "\n",
    "   ```python\n",
    "   x = 0\n",
    "   is_valid = bool(x)  # Converts 0 to False\n",
    "   ```\n",
    "\n",
    "7. **Custom Type Conversion**:\n",
    "   - In some cases, you may need to define your custom conversion functions for user-defined classes.\n",
    "\n",
    "These are some common methods for type conversion in Python. Choosing the appropriate method depends on the specific conversion you need to perform. Always be mindful of potential data loss or exceptions when converting between data types."
   ]
  },
  {
   "cell_type": "markdown",
   "id": "4b5ff89e",
   "metadata": {},
   "source": [
    "# Q4"
   ]
  },
  {
   "cell_type": "markdown",
   "id": "a8bc468c",
   "metadata": {},
   "source": [
    "1. **Open a Text Editor**:\n",
    "   - Open a text editor of your choice, such as Notepad (on Windows), TextEdit (on macOS), or any code editor like Visual Studio Code, Sublime Text, or Atom.\n",
    "\n",
    "2. **Write Your Python Script**:\n",
    "   - Write your Python code in the text editor. For example, you can create a simple script like this:\n",
    "\n",
    "   ```python\n",
    "   # my_script.py\n",
    "   print(\"Hello, World!\")\n",
    "   ```\n",
    "\n",
    "3. **Save the File**:\n",
    "   - Save the file with a `.py` extension, which is the standard extension for Python scripts. For our example, save it as `my_script.py`.\n",
    "\n",
    "4. **Open the Command Line Interface**:\n",
    "   - Open your operating system's command line interface:\n",
    "     - On Windows, you can use Command Prompt or PowerShell.\n",
    "     - On macOS and Linux, you can use the Terminal.\n",
    "\n",
    "5. **Navigate to the Script's Directory**:\n",
    "   - Use the `cd` command to navigate to the directory where your Python script is located. For example:\n",
    "\n",
    "   ```bash\n",
    "   cd path/to/your/script/directory\n",
    "   ```\n",
    "\n",
    "6. **Run the Python Script**:\n",
    "   - To run your script, simply type `python` followed by the script's filename and press Enter:\n",
    "\n",
    "   ```bash\n",
    "   python my_script.py\n",
    "   ```\n",
    "\n",
    "   Replace `my_script.py` with the actual name of your Python script.\n",
    "\n",
    "7. **View the Output**:\n",
    "   - The script will execute, and you should see the output in the command line:\n",
    "\n",
    "   ```bash\n",
    "   Hello, World!\n",
    "   ```"
   ]
  },
  {
   "cell_type": "markdown",
   "id": "18ebefd0",
   "metadata": {},
   "source": [
    "# Q5"
   ]
  },
  {
   "cell_type": "code",
   "execution_count": 9,
   "id": "1711c900",
   "metadata": {},
   "outputs": [
    {
     "data": {
      "text/plain": [
       "[2, 3]"
      ]
     },
     "execution_count": 9,
     "metadata": {},
     "output_type": "execute_result"
    }
   ],
   "source": [
    "my_list=[1,2,3,4,5]\n",
    "my_list[1:3]"
   ]
  },
  {
   "cell_type": "markdown",
   "id": "c99c74d2",
   "metadata": {},
   "source": [
    "# Q6"
   ]
  },
  {
   "cell_type": "markdown",
   "id": "ed723eed",
   "metadata": {},
   "source": [
    "In mathematics, a complex number is a number that can be expressed in the form `a + bi`, where `a` and `b` are real numbers, and `i` represents the imaginary unit. The imaginary unit `i` is defined as the square root of -1, which means that `i` does not have a real number counterpart.\n",
    "\n",
    "Here's a breakdown of the components of a complex number:\n",
    "\n",
    "- `a` is the real part of the complex number.\n",
    "- `b` is the imaginary part of the complex number.\n",
    "- `i` represents the imaginary unit, which satisfies the equation `i^2 = -1`.\n",
    "\n",
    "A complex number is often written as `z`, where `z = a + bi`. Complex numbers are used to extend the set of real numbers to include numbers that have both a real component and an imaginary component. The set of complex numbers is denoted by `C`.\n",
    "\n",
    "Complex numbers can be visualized on the complex plane, where the horizontal axis represents the real part (`a`), and the vertical axis represents the imaginary part (`b`). The complex plane is also known as the Argand diagram.\n",
    "\n",
    "Complex numbers provide a powerful mathematical framework for solving equations that involve square roots of negative numbers and are essential in many areas of mathematics and science."
   ]
  },
  {
   "cell_type": "code",
   "execution_count": 11,
   "id": "45e8d3ee",
   "metadata": {},
   "outputs": [
    {
     "name": "stdout",
     "output_type": "stream",
     "text": [
      "(4+1j) (0.5+2.5j) (5-1j) (2+3j)\n"
     ]
    }
   ],
   "source": [
    "z1 = 3 + 2j\n",
    "z2 = 1 - 1j\n",
    "\n",
    "# Addition\n",
    "result_add = z1 + z2  # (4 + 1j)\n",
    "\n",
    "# Subtraction\n",
    "result_sub = z1 - z2  # (2 + 3j)\n",
    "\n",
    "# Multiplication\n",
    "result_mul = z1 * z2  # (5 - 5j)\n",
    "\n",
    "# Division\n",
    "result_div = z1 / z2  # (2.5 + 2.5j)\n",
    "\n",
    "print(result_add,result_div,result_mul,result_sub)"
   ]
  },
  {
   "cell_type": "markdown",
   "id": "e4645414",
   "metadata": {},
   "source": [
    "# Q7"
   ]
  },
  {
   "cell_type": "code",
   "execution_count": 12,
   "id": "793fb404",
   "metadata": {},
   "outputs": [
    {
     "name": "stdout",
     "output_type": "stream",
     "text": [
      "25\n"
     ]
    }
   ],
   "source": [
    "age=25\n",
    "print(age)"
   ]
  },
  {
   "cell_type": "markdown",
   "id": "451a3a7b",
   "metadata": {},
   "source": [
    "# Q8"
   ]
  },
  {
   "cell_type": "code",
   "execution_count": 14,
   "id": "510faa4a",
   "metadata": {},
   "outputs": [
    {
     "name": "stdout",
     "output_type": "stream",
     "text": [
      "9.99\n"
     ]
    },
    {
     "data": {
      "text/plain": [
       "float"
      ]
     },
     "execution_count": 14,
     "metadata": {},
     "output_type": "execute_result"
    }
   ],
   "source": [
    "price=9.99\n",
    "print(price)\n",
    "type(price)"
   ]
  },
  {
   "cell_type": "markdown",
   "id": "05ad4b73",
   "metadata": {},
   "source": [
    "# Q9"
   ]
  },
  {
   "cell_type": "code",
   "execution_count": 16,
   "id": "d9a4cf03",
   "metadata": {},
   "outputs": [
    {
     "name": "stdout",
     "output_type": "stream",
     "text": [
      "Shubham Inder\n"
     ]
    }
   ],
   "source": [
    "name=\"Shubham Inder\"\n",
    "print(name)"
   ]
  },
  {
   "cell_type": "markdown",
   "id": "7f3468ff",
   "metadata": {},
   "source": [
    "# Q10"
   ]
  },
  {
   "cell_type": "code",
   "execution_count": 21,
   "id": "f30395c0",
   "metadata": {},
   "outputs": [
    {
     "data": {
      "text/plain": [
       "' World'"
      ]
     },
     "execution_count": 21,
     "metadata": {},
     "output_type": "execute_result"
    }
   ],
   "source": [
    "s=\"Hello, World\"\n",
    "s.split(',')[1]"
   ]
  },
  {
   "cell_type": "markdown",
   "id": "a5a78c1d",
   "metadata": {},
   "source": [
    "# Q11"
   ]
  },
  {
   "cell_type": "code",
   "execution_count": 22,
   "id": "527a16be",
   "metadata": {},
   "outputs": [
    {
     "data": {
      "text/plain": [
       "bool"
      ]
     },
     "execution_count": 22,
     "metadata": {},
     "output_type": "execute_result"
    }
   ],
   "source": [
    "is_student=True\n",
    "type(is_student)"
   ]
  }
 ],
 "metadata": {
  "kernelspec": {
   "display_name": "Python 3 (ipykernel)",
   "language": "python",
   "name": "python3"
  },
  "language_info": {
   "codemirror_mode": {
    "name": "ipython",
    "version": 3
   },
   "file_extension": ".py",
   "mimetype": "text/x-python",
   "name": "python",
   "nbconvert_exporter": "python",
   "pygments_lexer": "ipython3",
   "version": "3.11.4"
  }
 },
 "nbformat": 4,
 "nbformat_minor": 5
}
