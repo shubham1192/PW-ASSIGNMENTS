{
 "cells": [
  {
   "cell_type": "raw",
   "id": "38351ec1",
   "metadata": {},
   "source": [
    "#Q1\n",
    "\n",
    "# The Probability Density Function(PDF) defines the probability function representing the density of a continuous random variable lying between a specific range of values. In other words, the probability density function produces the likelihood of values of the continuous random variable. "
   ]
  },
  {
   "cell_type": "code",
   "execution_count": null,
   "id": "ce7479ad",
   "metadata": {},
   "outputs": [],
   "source": [
    "# Q2\n",
    "\n",
    "# 1. PMF (Probability Mass Function)\n",
    "\n",
    "# 2. PDF (Probability Density Function)\n",
    "\n",
    "# 3. CDF (Cumulative Density Function)"
   ]
  },
  {
   "cell_type": "code",
   "execution_count": 28,
   "id": "8e2e71fe",
   "metadata": {},
   "outputs": [
    {
     "data": {
      "text/plain": [
       "0.04598817359016074"
      ]
     },
     "execution_count": 28,
     "metadata": {},
     "output_type": "execute_result"
    }
   ],
   "source": [
    "import scipy\n",
    "import numpy as np\n",
    "import matplotlib.pyplot as plt\n",
    "\n",
    "#Q3\n",
    "\n",
    "d1=np.linspace(-10,10,10)\n",
    "\n",
    "pdf=norm.pdf(5,np.mean(d1),np.std(d1))\n",
    "pdf\n"
   ]
  },
  {
   "cell_type": "raw",
   "id": "538ce657",
   "metadata": {},
   "source": [
    "Q4 \n",
    "\n",
    "The properties of the binomial distribution are: \n",
    "\n",
    "1. There are two possible outcomes: true or false, success or failure, yes or no. \n",
    "2. There is 'n' number of independent trials or a fixed number of n times repeated trials. The probability of success or failure remains the same for each trial.\n",
    "\n",
    "examples : coin toss and dice roll"
   ]
  },
  {
   "cell_type": "code",
   "execution_count": 51,
   "id": "966d3856",
   "metadata": {},
   "outputs": [
    {
     "data": {
      "image/png": "[encoded data removed]",
      "text/plain": [
       "<Figure size 640x480 with 1 Axes>"
      ]
     },
     "metadata": {},
     "output_type": "display_data"
    }
   ],
   "source": [
    "#Q5\n",
    "\n",
    "from scipy.stats import binom\n",
    "import poisson\n",
    "n=1000\n",
    "p=0.6\n",
    "\n",
    "r=list(range(n))\n",
    "\n",
    "distribution = []\n",
    "\n",
    "for i in r:\n",
    "    distribution.append(binom.pmf(i,n,p))\n",
    "plt.bar(r,distribution)\n",
    "plt.show()"
   ]
  },
  {
   "cell_type": "code",
   "execution_count": 72,
   "id": "63a52b7a",
   "metadata": {},
   "outputs": [
    {
     "data": {
      "text/plain": [
       "0.08837643235678545"
      ]
     },
     "execution_count": 72,
     "metadata": {},
     "output_type": "execute_result"
    }
   ],
   "source": [
    "# Q6 \n",
    "\n",
    "from scipy.stats import poisson\n",
    "d2=np.arange(1,11)\n",
    "cdf=poisson.cdf(5,np.mean(d2),np.std(d2))\n",
    "cdf"
   ]
  },
  {
   "cell_type": "code",
   "execution_count": 86,
   "id": "9a7fc1f4",
   "metadata": {},
   "outputs": [
    {
     "name": "stdout",
     "output_type": "stream",
     "text": [
      "4.864\n"
     ]
    },
    {
     "data": {
      "text/plain": [
       "4.829504"
      ]
     },
     "execution_count": 86,
     "metadata": {},
     "output_type": "execute_result"
    }
   ],
   "source": [
    "#Q8\n",
    "\n",
    "d3=np.random.poisson(5,1000)\n",
    "mean=np.mean(d3)\n",
    "print(mean)\n",
    "\n",
    "var=np.var(d3)\n",
    "var"
   ]
  },
  {
   "cell_type": "raw",
   "id": "ea5a636f",
   "metadata": {},
   "source": [
    "# Q7\n",
    "\n",
    "The binomial distribution is one in which the probability of repeated number of trials is studied. A probability distribution that gives the count of a number of independent events occur randomly within a given period, is called probability distribution.\n",
    "    \n",
    "Binomial Distribution is biparametric, i.e. it is featured by two parameters n and p whereas Poisson distribution is uniparametric, i.e. characterised by a single parameter m.\n",
    "\n",
    "There are a fixed number of attempts in the binomial distribution. On the other hand, an unlimited number of trials are there in a poisson distribution.\n",
    "\n",
    "The success probability is constant in binomial distribution but in poisson distribution, there are an extremely small number of success chances.\n",
    "\n",
    "In a binomial distribution, there are only two possible outcomes, i.e. success or failure. Conversely, there are an unlimited number of possible outcomes in the case of poisson distribution.\n",
    "\n",
    "In binomial distribution Mean > Variance while in poisson distribution mean = variance.\n"
   ]
  },
  {
   "cell_type": "raw",
   "id": "d27941fe",
   "metadata": {},
   "source": [
    "# Q9 \n",
    "\n",
    "In binomial distribution Mean > Variance while in poisson distribution mean = variance.\n"
   ]
  },
  {
   "cell_type": "raw",
   "id": "67647158",
   "metadata": {},
   "source": [
    "# Q 10\n",
    "\n",
    "at the tail"
   ]
  }
 ],
 "metadata": {
  "kernelspec": {
   "display_name": "Python 3 (ipykernel)",
   "language": "python",
   "name": "python3"
  },
  "language_info": {
   "codemirror_mode": {
    "name": "ipython",
    "version": 3
   },
   "file_extension": ".py",
   "mimetype": "text/x-python",
   "name": "python",
   "nbconvert_exporter": "python",
   "pygments_lexer": "ipython3",
   "version": "3.11.3"
  }
 },
 "nbformat": 4,
 "nbformat_minor": 5
}
