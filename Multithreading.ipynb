{
 "cells": [
  {
   "cell_type": "markdown",
   "id": "fd78a81a",
   "metadata": {},
   "source": [
    "# Q1"
   ]
  },
  {
   "cell_type": "markdown",
   "id": "41275dae",
   "metadata": {},
   "source": [
    "Multithreading in Python refers to the ability to execute multiple threads (smaller units of a program) concurrently within a single process. Each thread runs independently, performing a specific task simultaneously with other threads. Python provides a built-in module called threading to work with threads.\n",
    "\n",
    "Multithreading is used for various purposes, including:\n",
    "\n",
    "Improved Responsiveness: Multithreading can be used to keep the user interface responsive while performing time-consuming tasks in the background.\n",
    "\n",
    "Concurrency: It allows you to perform multiple tasks simultaneously, which can lead to faster execution of code, especially in I/O-bound operations like reading/writing files or making network requests.\n",
    "\n",
    "Parallelism: Multithreading can utilize multiple CPU cores to execute code in parallel, making it suitable for CPU-bound tasks.\n",
    "\n",
    "Resource Sharing: Threads can share data and resources, making it easier to communicate and coordinate between different parts of your program."
   ]
  },
  {
   "cell_type": "markdown",
   "id": "fec04462",
   "metadata": {},
   "source": [
    "# Q2"
   ]
  },
  {
   "cell_type": "markdown",
   "id": "2abb16a4",
   "metadata": {},
   "source": [
    "The threading module in Python is used to create and manage threads in a multi-threaded Python program. It provides a high-level interface for working with threads, making it easier to work with concurrency and parallelism. Here are the uses of the functions you mentioned:"
   ]
  },
  {
   "cell_type": "markdown",
   "id": "26abe0ca",
   "metadata": {},
   "source": [
    "The activeCount() function is used to obtain the current number of Thread objects currently alive. It returns the number of threads that are currently running, including the main thread."
   ]
  },
  {
   "cell_type": "code",
   "execution_count": 21,
   "id": "b628e3eb",
   "metadata": {},
   "outputs": [
    {
     "name": "stdout",
     "output_type": "stream",
     "text": [
      "Thread is running\n",
      "Thread is running\n",
      "Active threads: 6\n"
     ]
    },
    {
     "name": "stderr",
     "output_type": "stream",
     "text": [
      "C:\\Users\\inder\\AppData\\Local\\Temp\\ipykernel_4380\\2552787589.py:13: DeprecationWarning: activeCount() is deprecated, use active_count() instead\n",
      "  count = threading.activeCount()\n"
     ]
    }
   ],
   "source": [
    "import threading\n",
    "\n",
    "def my_function():\n",
    "    print(\"Thread is running\")\n",
    "\n",
    "thread1 = threading.Thread(target=my_function)\n",
    "thread2 = threading.Thread(target=my_function)\n",
    "\n",
    "thread1.start()\n",
    "thread2.start()\n",
    "\n",
    "# Get the number of active threads (including the main thread)\n",
    "count = threading.activeCount()\n",
    "print(f\"Active threads: {count}\")\n"
   ]
  },
  {
   "cell_type": "markdown",
   "id": "ee7ff799",
   "metadata": {},
   "source": [
    "The currentThread() function is used to get a reference to the current Thread object, representing the thread from which the function is called. This is useful for identifying and working with the current thread."
   ]
  },
  {
   "cell_type": "code",
   "execution_count": 22,
   "id": "ace836fd",
   "metadata": {},
   "outputs": [
    {
     "name": "stdout",
     "output_type": "stream",
     "text": [
      "Current thread: Thread 1\n",
      "Current thread: Thread 2\n"
     ]
    },
    {
     "name": "stderr",
     "output_type": "stream",
     "text": [
      "C:\\Users\\inder\\AppData\\Local\\Temp\\ipykernel_4380\\407599594.py:4: DeprecationWarning: currentThread() is deprecated, use current_thread() instead\n",
      "  current_thread = threading.currentThread()\n"
     ]
    }
   ],
   "source": [
    "import threading\n",
    "\n",
    "def my_function():\n",
    "    current_thread = threading.currentThread()\n",
    "    print(f\"Current thread: {current_thread.name}\")\n",
    "\n",
    "thread1 = threading.Thread(target=my_function, name=\"Thread 1\")\n",
    "thread2 = threading.Thread(target=my_function, name=\"Thread 2\")\n",
    "\n",
    "thread1.start()\n",
    "thread2.start()\n"
   ]
  },
  {
   "cell_type": "markdown",
   "id": "23c68bd6",
   "metadata": {},
   "source": [
    "The enumerate() function is used to obtain a list of all Thread objects currently alive. It returns a list of Thread objects that represent the currently running threads."
   ]
  },
  {
   "cell_type": "code",
   "execution_count": 23,
   "id": "fbcb05d5",
   "metadata": {},
   "outputs": [
    {
     "name": "stdout",
     "output_type": "stream",
     "text": [
      "Thread is running\n",
      "Thread is running\n",
      "Thread name: MainThread\n",
      "Thread name: IOPub\n",
      "Thread name: Heartbeat\n",
      "Thread name: Control\n",
      "Thread name: IPythonHistorySavingThread\n",
      "Thread name: Thread-4\n"
     ]
    }
   ],
   "source": [
    "import threading\n",
    "\n",
    "def my_function():\n",
    "    print(\"Thread is running\")\n",
    "\n",
    "thread1 = threading.Thread(target=my_function)\n",
    "thread2 = threading.Thread(target=my_function)\n",
    "\n",
    "thread1.start()\n",
    "thread2.start()\n",
    "\n",
    "# Get a list of all currently active threads\n",
    "active_threads = threading.enumerate()\n",
    "for thread in active_threads:\n",
    "    print(f\"Thread name: {thread.name}\")"
   ]
  },
  {
   "cell_type": "markdown",
   "id": "68bafb00",
   "metadata": {},
   "source": [
    "# Q3"
   ]
  },
  {
   "cell_type": "markdown",
   "id": "24bce098",
   "metadata": {},
   "source": [
    "The run() method is not typically called directly by the programmer. Instead, it is meant to be overridden in a custom thread class by providing the code that should run when the thread is started. This method encapsulates the target function or code that the thread should execute."
   ]
  },
  {
   "cell_type": "code",
   "execution_count": 24,
   "id": "67cb9b0b",
   "metadata": {},
   "outputs": [
    {
     "name": "stdout",
     "output_type": "stream",
     "text": [
      "Thread Thread-49 is running\n"
     ]
    }
   ],
   "source": [
    "import threading\n",
    "\n",
    "class MyThread(threading.Thread):\n",
    "    def run(self):\n",
    "        # Code to run when the thread starts\n",
    "        print(f\"Thread {self.name} is running\")\n",
    "\n",
    "thread1 = MyThread()\n",
    "thread1.start()\n"
   ]
  },
  {
   "cell_type": "markdown",
   "id": "e8ac81f0",
   "metadata": {},
   "source": [
    "The start() method is used to begin the execution of a thread. When you call this method, it invokes the run() method of the thread and starts the execution of the code defined in the run() method concurrently with other threads."
   ]
  },
  {
   "cell_type": "code",
   "execution_count": 26,
   "id": "bedb09ad",
   "metadata": {},
   "outputs": [
    {
     "name": "stdout",
     "output_type": "stream",
     "text": [
      "Thread is running\n",
      "\n",
      "Thread is running\n",
      "\n"
     ]
    }
   ],
   "source": [
    "import threading\n",
    "\n",
    "def my_function():\n",
    "    print(\"Thread is running\\n\")\n",
    "\n",
    "thread1 = threading.Thread(target=my_function)\n",
    "thread2 = threading.Thread(target=my_function)\n",
    "\n",
    "thread1.start()  # Starts thread 1\n",
    "thread2.start()  # Starts thread 2\n"
   ]
  },
  {
   "cell_type": "markdown",
   "id": "52c51c96",
   "metadata": {},
   "source": [
    "The join() method is used to wait for a thread to complete its execution before proceeding further in the main program. It blocks the main thread until the thread being joined has finished. This is useful for synchronization between threads."
   ]
  },
  {
   "cell_type": "code",
   "execution_count": 27,
   "id": "6287581a",
   "metadata": {},
   "outputs": [
    {
     "name": "stdout",
     "output_type": "stream",
     "text": [
      "Thread is running\n",
      "Thread is running\n",
      "Both threads have finished.\n"
     ]
    }
   ],
   "source": [
    "import threading\n",
    "\n",
    "def my_function():\n",
    "    print(\"Thread is running\")\n",
    "\n",
    "thread1 = threading.Thread(target=my_function)\n",
    "thread2 = threading.Thread(target=my_function)\n",
    "\n",
    "thread1.start()\n",
    "thread2.start()\n",
    "\n",
    "# Wait for both threads to finish before proceeding\n",
    "thread1.join()\n",
    "thread2.join()\n",
    "\n",
    "print(\"Both threads have finished.\")\n"
   ]
  },
  {
   "cell_type": "markdown",
   "id": "37f3f978",
   "metadata": {},
   "source": [
    "The isAlive() method is used to check if a thread is currently running or active. It returns True if the thread is alive (running) and False if it has completed its execution."
   ]
  },
  {
   "cell_type": "markdown",
   "id": "bce89723",
   "metadata": {},
   "source": [
    "# Q4"
   ]
  },
  {
   "cell_type": "code",
   "execution_count": 47,
   "id": "58cc41db",
   "metadata": {},
   "outputs": [
    {
     "name": "stdout",
     "output_type": "stream",
     "text": [
      "[4, 16, 25, 36]\n",
      "[8, 64, 125, 216]\n"
     ]
    }
   ],
   "source": [
    "def squares(l):\n",
    "    l1=[]\n",
    "    for i in l:\n",
    "        n=i**2\n",
    "        l1.append(n)\n",
    "    print(l1)\n",
    "def cubes(l):\n",
    "    l2=[]\n",
    "    for i in l:\n",
    "        n=i**3\n",
    "        l2.append(n)\n",
    "    print(l2)\n",
    "\n",
    "nums=[2,4,5,6]\n",
    "Thread1=threading.Thread(target=squares, args=(nums,))\n",
    "Thread2=threading.Thread(target=cubes, args=(nums,))\n",
    "Thread1.start()\n",
    "Thread2.start()"
   ]
  },
  {
   "cell_type": "markdown",
   "id": "057c8724",
   "metadata": {},
   "source": [
    "# Q5"
   ]
  },
  {
   "cell_type": "markdown",
   "id": "f047c21b",
   "metadata": {},
   "source": [
    "Multithreading is a technique used in programming to execute multiple threads concurrently within a single process. It offers several advantages and disadvantages:\n",
    "\n",
    "Advantages of Multithreading:\n",
    "\n",
    "1. **Improved Responsiveness**: Multithreading can enhance the responsiveness of a program or application. By offloading time-consuming tasks to separate threads, the main thread can remain responsive to user input.\n",
    "\n",
    "2. **Parallelism**: Multithreading can take advantage of multiple CPU cores, allowing multiple threads to run in parallel. This is beneficial for CPU-bound tasks, improving performance.\n",
    "\n",
    "3. **Resource Sharing**: Threads within the same process can share data and resources more efficiently than separate processes. This can lead to better resource utilization and communication.\n",
    "\n",
    "4. **Simplified Code**: Multithreading can simplify the structure of a program by dividing it into smaller, more manageable threads. This can make complex tasks easier to implement and maintain.\n",
    "\n",
    "5. **Efficient I/O Operations**: Multithreading is well-suited for I/O-bound operations, such as reading/writing files or making network requests. While one thread is blocked by I/O, others can continue to work.\n",
    "\n",
    "Disadvantages of Multithreading:\n",
    "\n",
    "1. **Complexity**: Multithreaded programs can be complex and difficult to develop and debug. Race conditions, deadlocks, and synchronization issues can be challenging to address.\n",
    "\n",
    "2. **Concurrency Issues**: Race conditions can occur when multiple threads access shared data concurrently. This can lead to unpredictable and incorrect results, making synchronization a critical issue.\n",
    "\n",
    "3. **Increased Overhead**: Multithreading introduces overhead due to thread creation, management, and synchronization. This overhead can outweigh the benefits in some cases.\n",
    "\n",
    "4. **Limited Parallelism in Python**: In Python, the Global Interpreter Lock (GIL) can limit the benefits of multithreading for CPU-bound tasks, as it allows only one thread to execute Python bytecode at a time.\n",
    "\n",
    "5. **Debugging and Testing**: Debugging multithreaded programs can be challenging, as issues may not always be reproducible. Testing for thread-related bugs can be time-consuming.\n",
    "\n",
    "6. **Portability**: Multithreading behavior can be platform-dependent. Code that works well on one platform may not behave the same on another.\n"
   ]
  },
  {
   "cell_type": "markdown",
   "id": "52ad832d",
   "metadata": {},
   "source": [
    "# Q6"
   ]
  },
  {
   "cell_type": "markdown",
   "id": "88a0aef3",
   "metadata": {},
   "source": [
    "Deadlocks and race conditions are common synchronization issues in multi-threaded or multi-process programs. They can lead to unexpected and undesirable behaviors in your code.\n",
    "\n",
    "1. **Deadlocks**:\n",
    "\n",
    "   A deadlock is a situation in which two or more threads or processes are unable to proceed because they are each waiting for the other to release a resource. This creates a situation where no progress can be made. Deadlocks can occur when multiple threads compete for shared resources and follow a specific sequence of events. There are four necessary conditions for a deadlock to occur, known as the \"Deadlock Conditions\":\n",
    "\n",
    "   - **Mutual Exclusion**: At least one resource must be held in a non-sharable mode, meaning only one thread or process can use it at a time.\n",
    "   - **Hold and Wait**: A thread must be holding at least one resource and waiting to acquire additional resources.\n",
    "   - **No Preemption**: Resources cannot be forcibly taken away from the threads holding them. They must be released voluntarily.\n",
    "   - **Circular Wait**: There must be a circular chain of two or more threads, each waiting for a resource held by the next one in the chain.\n",
    "\n",
    "Example: Thread A holds Resource 1 and is waiting for Resource 2, while Thread B holds Resource 2 and is waiting for Resource 1. This creates a deadlock.\n",
    "\n",
    "Deadlocks need to be carefully avoided or handled using techniques like resource allocation graphs, timeouts, or thread/process termination.\n",
    "\n",
    "2. **Race Conditions**:\n",
    "\n",
    "   A race condition is a situation in which the behavior of a program depends on the relative timing of events, such as when multiple threads or processes access shared data simultaneously without proper synchronization. Race conditions can lead to unpredictable and incorrect results, as different threads may interfere with each other in ways that are difficult to anticipate.\n",
    "\n",
    "   Example: Two threads are updating a shared variable without proper synchronization. Depending on the order of execution, the final value of the variable may be inconsistent or incorrect.\n",
    "\n",
    "   To prevent race conditions, synchronization mechanisms such as locks, semaphores, and mutexes are used to ensure that only one thread can access a shared resource at a time. Synchronization prevents conflicting access and enforces a predictable order of operations, reducing the risk of race conditions.\n",
    "\n",
    "In summary, deadlocks and race conditions are synchronization issues that can occur in multi-threaded or multi-process programs. Deadlocks involve threads or processes getting stuck in a waiting state due to circular dependencies on resources. Race conditions involve unpredictable and potentially incorrect behavior when multiple threads access shared data concurrently. Proper synchronization techniques and careful design are essential to mitigate these issues in concurrent programming."
   ]
  }
 ],
 "metadata": {
  "kernelspec": {
   "display_name": "Python 3 (ipykernel)",
   "language": "python",
   "name": "python3"
  },
  "language_info": {
   "codemirror_mode": {
    "name": "ipython",
    "version": 3
   },
   "file_extension": ".py",
   "mimetype": "text/x-python",
   "name": "python",
   "nbconvert_exporter": "python",
   "pygments_lexer": "ipython3",
   "version": "3.11.4"
  }
 },
 "nbformat": 4,
 "nbformat_minor": 5
}
