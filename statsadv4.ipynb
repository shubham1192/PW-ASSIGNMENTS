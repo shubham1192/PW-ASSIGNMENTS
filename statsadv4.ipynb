{
 "cells": [
  {
   "attachments": {},
   "cell_type": "raw",
   "id": "4be1133d",
   "metadata": {},
   "source": [
    "Q1\n",
    "\n",
    "z test is used when population standard deviation or variance is known and sample size is fairly large.\n",
    "t test is used when population standard deviation or variance is not known and sample size is small.\n",
    "\n",
    "##USED TO COMPARE SAMPLE MEAN WITH POPULATION MEAN"
   ]
  },
  {
   "cell_type": "raw",
   "id": "deba1d6e",
   "metadata": {},
   "source": [
    "Q2\n",
    "\n",
    "A one-tailed test may be either left-tailed or right-tailed.\n",
    "A left-tailed test is used when the alternative hypothesis states that the true value of the parameter specified in the null hypothesis is less than the null hypothesis claims.\n",
    "A right-tailed test is used when the alternative hypothesis states that the true value of the parameter specified in the null hypothesis is greater than the null hypothesis claims\n",
    "\n",
    "The main difference between one-tailed and two-tailed tests is that one-tailed tests will only have one critical region whereas two-tailed tests will have two critical regions. If we require a 100(1−α)% confidence interval we have to make some adjustments when using a two-tailed test."
   ]
  },
  {
   "cell_type": "raw",
   "id": "d33d67ed",
   "metadata": {},
   "source": [
    "Q3\n",
    "\n",
    "type1: reject null hypothesis when in reality it is true.\n",
    "type2: accept null hypothesis when in reality it is false. "
   ]
  },
  {
   "cell_type": "raw",
   "id": "432b2369",
   "metadata": {},
   "source": [
    "Q4\n",
    "\n",
    "Bayes’ theorem describes the probability of occurrence of an event related to any condition. It is also considered for the case of conditional probability. Bayes theorem is also known as the formula for the probability of “causes”"
   ]
  },
  {
   "cell_type": "raw",
   "id": "4cdc1b5d",
   "metadata": {},
   "source": [
    "Q5\n",
    "\n",
    "A confidence interval displays the probability that a parameter will fall between a pair of values around the mean.\n",
    "A confidence interval, in statistics, refers to the probability that a population parameter will fall between a set of values for a certain proportion of times. "
   ]
  },
  {
   "cell_type": "raw",
   "id": "8fc73f40",
   "metadata": {},
   "source": [
    "Q7\n",
    "\n",
    "n is not known\n",
    "formula-> mean+-(z alpha)(sd/root n)"
   ]
  },
  {
   "cell_type": "raw",
   "id": "58f16068",
   "metadata": {},
   "source": [
    "Q8\n",
    "\n",
    "MOR = width of CI/2"
   ]
  },
  {
   "cell_type": "raw",
   "id": "28336ee9",
   "metadata": {},
   "source": [
    "Q9\n",
    "\n",
    "z score was 1. 1 SD from the mean"
   ]
  },
  {
   "cell_type": "raw",
   "id": "d5abc10d",
   "metadata": {},
   "source": [
    "Q10\n",
    "\n",
    "t score is 2.009\n",
    "t test(16.97)>2.009\n",
    "so NULL HYPOTHESIS IS REJECTED"
   ]
  },
  {
   "cell_type": "raw",
   "id": "8d86f278",
   "metadata": {},
   "source": [
    "Q11\n",
    "\n",
    "61.08% to 68.92%"
   ]
  },
  {
   "cell_type": "raw",
   "id": "87868009",
   "metadata": {},
   "source": [
    "Q12\n",
    "\n",
    "incomplete data (n value)"
   ]
  },
  {
   "cell_type": "raw",
   "id": "5fa9cd78",
   "metadata": {},
   "source": [
    "Q13\n",
    "\n",
    "63.14 to 66.86%"
   ]
  },
  {
   "cell_type": "raw",
   "id": "2ca70e95",
   "metadata": {},
   "source": [
    "Q14\n",
    "\n",
    "yes, significant affect on reaction time.\n",
    "t test(27.38)>1.699(t score)"
   ]
  }
 ],
 "metadata": {
  "kernelspec": {
   "display_name": "Python 3 (ipykernel)",
   "language": "python",
   "name": "python3"
  },
  "language_info": {
   "codemirror_mode": {
    "name": "ipython",
    "version": 3
   },
   "file_extension": ".py",
   "mimetype": "text/x-python",
   "name": "python",
   "nbconvert_exporter": "python",
   "pygments_lexer": "ipython3",
   "version": "3.11.3"
  }
 },
 "nbformat": 4,
 "nbformat_minor": 5
}
